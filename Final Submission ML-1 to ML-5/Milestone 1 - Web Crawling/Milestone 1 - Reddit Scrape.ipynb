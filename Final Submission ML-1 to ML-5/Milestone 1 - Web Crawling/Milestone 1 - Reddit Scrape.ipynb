{
 "cells": [
  {
   "cell_type": "markdown",
   "metadata": {},
   "source": [
    "# Acquisition of Data from Reddit\n",
    "### Using web crawling method"
   ]
  },
  {
   "cell_type": "code",
   "execution_count": 27,
   "metadata": {},
   "outputs": [],
   "source": [
    "# Import Libraries\n",
    "# PRAW is a Python wrapper for the Reddit API\n",
    "# Pandas is for creating dataframe\n",
    "\n",
    "import praw          \n",
    "import pandas as pd\n",
    "import datetime as dt"
   ]
  },
  {
   "cell_type": "code",
   "execution_count": 28,
   "metadata": {},
   "outputs": [],
   "source": [
    "# Authentication process from Reddit\n",
    "# Required Client_id, Client_secret and user_agent\n",
    "\n",
    "reddit = praw.Reddit(client_id=\"Eo_DjUw2l7iIog\", \n",
    "                     client_secret=\"7rQQlaoThKY982iPhMAtCfwzg8Y\", \n",
    "                     user_agent=\"DataMining\")"
   ]
  },
  {
   "cell_type": "code",
   "execution_count": 29,
   "metadata": {},
   "outputs": [],
   "source": [
    "# Selected trendy subreddits for laptop brands\n",
    "\n",
    "# 1) r/SuggestALaptop\n",
    "# 2) r/mac\n",
    "# 3) r/Dell\n",
    "# 4) r/ASUS\n",
    "# 5) r/thinkpad\n",
    "# 6) r/AcerOfficial"
   ]
  },
  {
   "cell_type": "markdown",
   "metadata": {},
   "source": [
    "## Scraping from subreddits"
   ]
  },
  {
   "cell_type": "markdown",
   "metadata": {},
   "source": [
    "### Subreddits under hot tag"
   ]
  },
  {
   "cell_type": "code",
   "execution_count": 30,
   "metadata": {},
   "outputs": [
    {
     "name": "stdout",
     "output_type": "stream",
     "text": [
      "(988, 8)\n"
     ]
    }
   ],
   "source": [
    "posts1 = []\n",
    "ml_subreddit = reddit.subreddit('SuggestALaptop')\n",
    "for post in ml_subreddit.hot(limit=2000):\n",
    "    posts1.append([post.title, post.score, post.id, post.subreddit, post.url, post.num_comments, post.selftext, post.created])\n",
    "posts1 = pd.DataFrame(posts1,columns=['title', 'score', 'id', 'subreddit', 'url', 'num_comments', 'body', 'created'])\n",
    "print(posts1.shape)"
   ]
  },
  {
   "cell_type": "code",
   "execution_count": 31,
   "metadata": {},
   "outputs": [
    {
     "name": "stdout",
     "output_type": "stream",
     "text": [
      "(1000, 8)\n"
     ]
    }
   ],
   "source": [
    "posts2 = []\n",
    "ml_subreddit = reddit.subreddit('mac')\n",
    "for post in ml_subreddit.hot(limit=2000):\n",
    "    posts2.append([post.title, post.score, post.id, post.subreddit, post.url, post.num_comments, post.selftext, post.created])\n",
    "posts2 = pd.DataFrame(posts2,columns=['title', 'score', 'id', 'subreddit', 'url', 'num_comments', 'body', 'created'])\n",
    "print(posts2.shape)"
   ]
  },
  {
   "cell_type": "code",
   "execution_count": 32,
   "metadata": {},
   "outputs": [
    {
     "name": "stdout",
     "output_type": "stream",
     "text": [
      "(997, 8)\n"
     ]
    }
   ],
   "source": [
    "posts3 = []\n",
    "ml_subreddit = reddit.subreddit('Dell')\n",
    "for post in ml_subreddit.hot(limit=2000):\n",
    "    posts3.append([post.title, post.score, post.id, post.subreddit, post.url, post.num_comments, post.selftext, post.created])\n",
    "posts3 = pd.DataFrame(posts3,columns=['title', 'score', 'id', 'subreddit', 'url', 'num_comments', 'body', 'created'])\n",
    "print(posts3.shape)"
   ]
  },
  {
   "cell_type": "code",
   "execution_count": 33,
   "metadata": {},
   "outputs": [
    {
     "name": "stdout",
     "output_type": "stream",
     "text": [
      "(1000, 8)\n"
     ]
    }
   ],
   "source": [
    "posts4 = []\n",
    "ml_subreddit = reddit.subreddit('ASUS')\n",
    "for post in ml_subreddit.hot(limit=2000):\n",
    "    posts4.append([post.title, post.score, post.id, post.subreddit, post.url, post.num_comments, post.selftext, post.created])\n",
    "posts4 = pd.DataFrame(posts4,columns=['title', 'score', 'id', 'subreddit', 'url', 'num_comments', 'body', 'created'])\n",
    "print(posts4.shape)"
   ]
  },
  {
   "cell_type": "code",
   "execution_count": 34,
   "metadata": {},
   "outputs": [
    {
     "name": "stdout",
     "output_type": "stream",
     "text": [
      "(1000, 8)\n"
     ]
    }
   ],
   "source": [
    "posts5 = []\n",
    "ml_subreddit = reddit.subreddit('thinkpad')\n",
    "for post in ml_subreddit.hot(limit=2000):\n",
    "    posts5.append([post.title, post.score, post.id, post.subreddit, post.url, post.num_comments, post.selftext, post.created])\n",
    "posts5 = pd.DataFrame(posts5,columns=['title', 'score', 'id', 'subreddit', 'url', 'num_comments', 'body', 'created'])\n",
    "print(posts5.shape)"
   ]
  },
  {
   "cell_type": "code",
   "execution_count": 35,
   "metadata": {},
   "outputs": [
    {
     "name": "stdout",
     "output_type": "stream",
     "text": [
      "(994, 8)\n"
     ]
    }
   ],
   "source": [
    "posts6 = []\n",
    "ml_subreddit = reddit.subreddit('AcerOfficial')\n",
    "for post in ml_subreddit.hot(limit=1000):\n",
    "    posts6.append([post.title, post.score, post.id, post.subreddit, post.url, post.num_comments, post.selftext, post.created])\n",
    "posts6 = pd.DataFrame(posts6,columns=['title', 'score', 'id', 'subreddit', 'url', 'num_comments', 'body', 'created'])\n",
    "print(posts6.shape)"
   ]
  },
  {
   "cell_type": "code",
   "execution_count": 36,
   "metadata": {},
   "outputs": [
    {
     "data": {
      "text/plain": [
       "(5979, 8)"
      ]
     },
     "execution_count": 36,
     "metadata": {},
     "output_type": "execute_result"
    }
   ],
   "source": [
    "# Merging several dataframes\n",
    "\n",
    "df_merged = pd.concat([posts1, posts2, posts3, posts4, posts5, posts6])\n",
    "df_merged.shape"
   ]
  },
  {
   "cell_type": "code",
   "execution_count": 37,
   "metadata": {},
   "outputs": [
    {
     "data": {
      "text/html": [
       "<div>\n",
       "<style scoped>\n",
       "    .dataframe tbody tr th:only-of-type {\n",
       "        vertical-align: middle;\n",
       "    }\n",
       "\n",
       "    .dataframe tbody tr th {\n",
       "        vertical-align: top;\n",
       "    }\n",
       "\n",
       "    .dataframe thead th {\n",
       "        text-align: right;\n",
       "    }\n",
       "</style>\n",
       "<table border=\"1\" class=\"dataframe\">\n",
       "  <thead>\n",
       "    <tr style=\"text-align: right;\">\n",
       "      <th></th>\n",
       "      <th>title</th>\n",
       "      <th>score</th>\n",
       "      <th>id</th>\n",
       "      <th>subreddit</th>\n",
       "      <th>url</th>\n",
       "      <th>num_comments</th>\n",
       "      <th>body</th>\n",
       "      <th>created</th>\n",
       "      <th>timestamp</th>\n",
       "    </tr>\n",
       "  </thead>\n",
       "  <tbody>\n",
       "    <tr>\n",
       "      <td>0</td>\n",
       "      <td>Ignore Private Messages Suggesting Laptops</td>\n",
       "      <td>45</td>\n",
       "      <td>g94qma</td>\n",
       "      <td>SuggestALaptop</td>\n",
       "      <td>https://www.reddit.com/r/SuggestALaptop/commen...</td>\n",
       "      <td>0</td>\n",
       "      <td>The primary aim of r/SuggestALaptop is to prov...</td>\n",
       "      <td>1.588036e+09</td>\n",
       "      <td>2020-04-28 09:06:12</td>\n",
       "    </tr>\n",
       "    <tr>\n",
       "      <td>1</td>\n",
       "      <td>/R/SuggestALaptop Stress Test Project! Submit ...</td>\n",
       "      <td>42</td>\n",
       "      <td>ekkvox</td>\n",
       "      <td>SuggestALaptop</td>\n",
       "      <td>https://www.reddit.com/r/SuggestALaptop/commen...</td>\n",
       "      <td>2</td>\n",
       "      <td>Laptops this gen often have thermal or TDP th...</td>\n",
       "      <td>1.578295e+09</td>\n",
       "      <td>2020-01-06 15:23:07</td>\n",
       "    </tr>\n",
       "    <tr>\n",
       "      <td>2</td>\n",
       "      <td>I need a laptop for gaming, coding, video edit...</td>\n",
       "      <td>16</td>\n",
       "      <td>gqt1pd</td>\n",
       "      <td>SuggestALaptop</td>\n",
       "      <td>https://www.reddit.com/r/SuggestALaptop/commen...</td>\n",
       "      <td>15</td>\n",
       "      <td>\\*\\*LAPTOP QUESTIONNAIRE\\*\\*\\n\\n&amp;#x200B;\\n\\n\\*...</td>\n",
       "      <td>1.590510e+09</td>\n",
       "      <td>2020-05-27 00:20:20</td>\n",
       "    </tr>\n",
       "  </tbody>\n",
       "</table>\n",
       "</div>"
      ],
      "text/plain": [
       "                                               title  score      id  \\\n",
       "0         Ignore Private Messages Suggesting Laptops     45  g94qma   \n",
       "1  /R/SuggestALaptop Stress Test Project! Submit ...     42  ekkvox   \n",
       "2  I need a laptop for gaming, coding, video edit...     16  gqt1pd   \n",
       "\n",
       "        subreddit                                                url  \\\n",
       "0  SuggestALaptop  https://www.reddit.com/r/SuggestALaptop/commen...   \n",
       "1  SuggestALaptop  https://www.reddit.com/r/SuggestALaptop/commen...   \n",
       "2  SuggestALaptop  https://www.reddit.com/r/SuggestALaptop/commen...   \n",
       "\n",
       "   num_comments                                               body  \\\n",
       "0             0  The primary aim of r/SuggestALaptop is to prov...   \n",
       "1             2   Laptops this gen often have thermal or TDP th...   \n",
       "2            15  \\*\\*LAPTOP QUESTIONNAIRE\\*\\*\\n\\n&#x200B;\\n\\n\\*...   \n",
       "\n",
       "        created           timestamp  \n",
       "0  1.588036e+09 2020-04-28 09:06:12  \n",
       "1  1.578295e+09 2020-01-06 15:23:07  \n",
       "2  1.590510e+09 2020-05-27 00:20:20  "
      ]
     },
     "execution_count": 37,
     "metadata": {},
     "output_type": "execute_result"
    }
   ],
   "source": [
    "# Fixing the date column\n",
    "\n",
    "import datetime as dt\n",
    "\n",
    "def get_date(created):\n",
    "    return dt.datetime.fromtimestamp(created)\n",
    "\n",
    "_timestamp = df_merged[\"created\"].apply(get_date)\n",
    "\n",
    "df_merged_hottag = df_merged.assign(timestamp = _timestamp)\n",
    "df_merged_hottag.head(3)"
   ]
  },
  {
   "cell_type": "code",
   "execution_count": 38,
   "metadata": {},
   "outputs": [
    {
     "name": "stdout",
     "output_type": "stream",
     "text": [
      "(5979, 9)\n"
     ]
    }
   ],
   "source": [
    "# Removing new lines in every string column\n",
    "\n",
    "df_merged_hottag = df_merged_hottag.replace({r'\\s+$': '', r'^\\s+': ''}, regex=True).replace(r'\\n',  ' ', regex=True)\n",
    "df_merged_hottag.columns = map(str.upper, df_merged_hottag.columns)\n",
    "print(df_merged_hottag.shape)"
   ]
  },
  {
   "cell_type": "code",
   "execution_count": 39,
   "metadata": {},
   "outputs": [],
   "source": [
    "# Saving the dataframe to csv format\n",
    "\n",
    "df_merged_hottag.to_csv('reddit_encoded.csv', index = False, header=True, encoding='utf-8-sig')"
   ]
  },
  {
   "cell_type": "markdown",
   "metadata": {},
   "source": [
    "## Scraping threads under the subreddit topics"
   ]
  },
  {
   "cell_type": "markdown",
   "metadata": {},
   "source": [
    "### Threads under subreddit hot tag"
   ]
  },
  {
   "cell_type": "code",
   "execution_count": 40,
   "metadata": {},
   "outputs": [],
   "source": [
    "# Scraping the threads of comments\n",
    "\n",
    "L = []\n",
    "for i in df_merged_hottag['ID']:\n",
    "    submission = reddit.submission(id=i)\n",
    "\n",
    "    submission.comments.replace_more(limit=0)\n",
    "    for top_level_comment in submission.comments:\n",
    "        L.append([i, top_level_comment.body])"
   ]
  },
  {
   "cell_type": "code",
   "execution_count": 41,
   "metadata": {},
   "outputs": [
    {
     "name": "stdout",
     "output_type": "stream",
     "text": [
      "(14526, 2)\n"
     ]
    }
   ],
   "source": [
    "L = pd.DataFrame(L,columns=['ID', 'COMMENTS'])\n",
    "print(L.shape)"
   ]
  },
  {
   "cell_type": "code",
   "execution_count": 42,
   "metadata": {},
   "outputs": [
    {
     "name": "stdout",
     "output_type": "stream",
     "text": [
      "(14526, 3)\n"
     ]
    },
    {
     "data": {
      "text/html": [
       "<div>\n",
       "<style scoped>\n",
       "    .dataframe tbody tr th:only-of-type {\n",
       "        vertical-align: middle;\n",
       "    }\n",
       "\n",
       "    .dataframe tbody tr th {\n",
       "        vertical-align: top;\n",
       "    }\n",
       "\n",
       "    .dataframe thead th {\n",
       "        text-align: right;\n",
       "    }\n",
       "</style>\n",
       "<table border=\"1\" class=\"dataframe\">\n",
       "  <thead>\n",
       "    <tr style=\"text-align: right;\">\n",
       "      <th></th>\n",
       "      <th>ID</th>\n",
       "      <th>COMMENTS</th>\n",
       "      <th>SUBREDDIT</th>\n",
       "    </tr>\n",
       "  </thead>\n",
       "  <tbody>\n",
       "    <tr>\n",
       "      <td>0</td>\n",
       "      <td>ekkvox</td>\n",
       "      <td>If you have questions our [Discord Server](ht...</td>\n",
       "      <td>SuggestALaptop</td>\n",
       "    </tr>\n",
       "    <tr>\n",
       "      <td>1</td>\n",
       "      <td>ekkvox</td>\n",
       "      <td>Can anyone help me out with purchasing a lapto...</td>\n",
       "      <td>SuggestALaptop</td>\n",
       "    </tr>\n",
       "    <tr>\n",
       "      <td>2</td>\n",
       "      <td>gqt1pd</td>\n",
       "      <td>Ask chewy</td>\n",
       "      <td>SuggestALaptop</td>\n",
       "    </tr>\n",
       "  </tbody>\n",
       "</table>\n",
       "</div>"
      ],
      "text/plain": [
       "       ID                                           COMMENTS       SUBREDDIT\n",
       "0  ekkvox   If you have questions our [Discord Server](ht...  SuggestALaptop\n",
       "1  ekkvox  Can anyone help me out with purchasing a lapto...  SuggestALaptop\n",
       "2  gqt1pd                                          Ask chewy  SuggestALaptop"
      ]
     },
     "execution_count": 42,
     "metadata": {},
     "output_type": "execute_result"
    }
   ],
   "source": [
    "# Creating dataframe with attributes id, subreddit and comments\n",
    "\n",
    "df2 = df_merged_hottag[['ID', 'SUBREDDIT']]\n",
    "df_comments = pd.merge(L, df2, on ='ID', how = 'inner')\n",
    "print(df_comments.shape)\n",
    "df_comments.head(3)"
   ]
  },
  {
   "cell_type": "code",
   "execution_count": 43,
   "metadata": {},
   "outputs": [
    {
     "name": "stdout",
     "output_type": "stream",
     "text": [
      "(14526, 3)\n"
     ]
    }
   ],
   "source": [
    "# Removing new lines in every string column\n",
    "\n",
    "df_comments = df_comments.replace({r'\\s+$': '', r'^\\s+': ''}, regex=True).replace(r'\\n',  ' ', regex=True)\n",
    "print(df_comments.shape)"
   ]
  },
  {
   "cell_type": "code",
   "execution_count": 45,
   "metadata": {},
   "outputs": [],
   "source": [
    "# Saving it to csv format\n",
    "\n",
    "df_comments.to_csv('comments_encoded.csv', index = False, header=True, encoding='utf-8-sig')"
   ]
  },
  {
   "cell_type": "code",
   "execution_count": null,
   "metadata": {},
   "outputs": [],
   "source": []
  }
 ],
 "metadata": {
  "kernelspec": {
   "display_name": "Python 3",
   "language": "python",
   "name": "python3"
  },
  "language_info": {
   "codemirror_mode": {
    "name": "ipython",
    "version": 3
   },
   "file_extension": ".py",
   "mimetype": "text/x-python",
   "name": "python",
   "nbconvert_exporter": "python",
   "pygments_lexer": "ipython3",
   "version": "3.7.4"
  }
 },
 "nbformat": 4,
 "nbformat_minor": 2
}
