{
 "cells": [
  {
   "cell_type": "markdown",
   "metadata": {},
   "source": [
    "# Acquisition of Data from Twitter\n",
    "### Using web crawling method"
   ]
  },
  {
   "cell_type": "code",
   "execution_count": 26,
   "metadata": {},
   "outputs": [],
   "source": [
    "import GetOldTweets3 as got\n",
    "import pandas as pd"
   ]
  },
  {
   "cell_type": "code",
   "execution_count": 3,
   "metadata": {},
   "outputs": [],
   "source": [
    "# Hashtags of Laptop Brands Tweets:\n",
    "# 1) HP -> hpspectre, hpenvy, hpelitebook\n",
    "# 2) Apple -> macbookpro, mackbookair\n",
    "# 3) Dell -> dellinspiron, dellxps13, dellxps15\n",
    "# 4) Asus -> zenbook, vivobook, studiobook\n",
    "# 5) Lenovo -> thinkpad, lenovoyoga\n",
    "# 6) Acer -> acerswift7, aceraspire, acerswift3, acerswift5"
   ]
  },
  {
   "cell_type": "markdown",
   "metadata": {},
   "source": [
    "### HP Laptop Tweets"
   ]
  },
  {
   "cell_type": "code",
   "execution_count": 4,
   "metadata": {},
   "outputs": [
    {
     "name": "stdout",
     "output_type": "stream",
     "text": [
      "(1500, 3)\n"
     ]
    },
    {
     "data": {
      "text/html": [
       "<div>\n",
       "<style scoped>\n",
       "    .dataframe tbody tr th:only-of-type {\n",
       "        vertical-align: middle;\n",
       "    }\n",
       "\n",
       "    .dataframe tbody tr th {\n",
       "        vertical-align: top;\n",
       "    }\n",
       "\n",
       "    .dataframe thead th {\n",
       "        text-align: right;\n",
       "    }\n",
       "</style>\n",
       "<table border=\"1\" class=\"dataframe\">\n",
       "  <thead>\n",
       "    <tr style=\"text-align: right;\">\n",
       "      <th></th>\n",
       "      <th>timestamp</th>\n",
       "      <th>text</th>\n",
       "      <th>model</th>\n",
       "    </tr>\n",
       "  </thead>\n",
       "  <tbody>\n",
       "    <tr>\n",
       "      <td>0</td>\n",
       "      <td>2020-05-28 19:30:02+00:00</td>\n",
       "      <td>90s fun for the kids #HP #HPSpectre #laptops #...</td>\n",
       "      <td>HP Spectre</td>\n",
       "    </tr>\n",
       "    <tr>\n",
       "      <td>1</td>\n",
       "      <td>2020-05-28 04:38:28+00:00</td>\n",
       "      <td>Save $200 on the HP Spectre x360, Now $1349.99...</td>\n",
       "      <td>HP Spectre</td>\n",
       "    </tr>\n",
       "  </tbody>\n",
       "</table>\n",
       "</div>"
      ],
      "text/plain": [
       "                  timestamp  \\\n",
       "0 2020-05-28 19:30:02+00:00   \n",
       "1 2020-05-28 04:38:28+00:00   \n",
       "\n",
       "                                                text       model  \n",
       "0  90s fun for the kids #HP #HPSpectre #laptops #...  HP Spectre  \n",
       "1  Save $200 on the HP Spectre x360, Now $1349.99...  HP Spectre  "
      ]
     },
     "execution_count": 4,
     "metadata": {},
     "output_type": "execute_result"
    }
   ],
   "source": [
    "text_query = 'hpspectre'\n",
    "since_date = '2010-01-01'\n",
    "until_date = '2020-05-30'\n",
    "count = 1500\n",
    "# Creation of query object\n",
    "tweetCriteria = got.manager.TweetCriteria().setQuerySearch(text_query).setSince(since_date).setUntil(until_date).setMaxTweets(count)\n",
    "# Creation of list that contains all tweets\n",
    "tweets = got.manager.TweetManager.getTweets(tweetCriteria)\n",
    "# Creating list of chosen tweet data\n",
    "text_tweets = [[tweet.date, tweet.text] for tweet in tweets]\n",
    "df1 = pd.DataFrame(text_tweets, columns=['timestamp', 'text'])\n",
    "df1['model'] = 'HP Spectre'\n",
    "print(df1.shape)\n",
    "df1.head(2)"
   ]
  },
  {
   "cell_type": "code",
   "execution_count": 5,
   "metadata": {},
   "outputs": [
    {
     "name": "stdout",
     "output_type": "stream",
     "text": [
      "(1500, 3)\n"
     ]
    },
    {
     "data": {
      "text/html": [
       "<div>\n",
       "<style scoped>\n",
       "    .dataframe tbody tr th:only-of-type {\n",
       "        vertical-align: middle;\n",
       "    }\n",
       "\n",
       "    .dataframe tbody tr th {\n",
       "        vertical-align: top;\n",
       "    }\n",
       "\n",
       "    .dataframe thead th {\n",
       "        text-align: right;\n",
       "    }\n",
       "</style>\n",
       "<table border=\"1\" class=\"dataframe\">\n",
       "  <thead>\n",
       "    <tr style=\"text-align: right;\">\n",
       "      <th></th>\n",
       "      <th>timestamp</th>\n",
       "      <th>text</th>\n",
       "      <th>model</th>\n",
       "    </tr>\n",
       "  </thead>\n",
       "  <tbody>\n",
       "    <tr>\n",
       "      <td>0</td>\n",
       "      <td>2020-05-26 20:20:48+00:00</td>\n",
       "      <td>在宅ワーク 一色ですね！^^；</td>\n",
       "      <td>HP Envy</td>\n",
       "    </tr>\n",
       "    <tr>\n",
       "      <td>1</td>\n",
       "      <td>2020-05-26 18:19:17+00:00</td>\n",
       "      <td>Found my first pc for content creating...or wh...</td>\n",
       "      <td>HP Envy</td>\n",
       "    </tr>\n",
       "  </tbody>\n",
       "</table>\n",
       "</div>"
      ],
      "text/plain": [
       "                  timestamp  \\\n",
       "0 2020-05-26 20:20:48+00:00   \n",
       "1 2020-05-26 18:19:17+00:00   \n",
       "\n",
       "                                                text    model  \n",
       "0                                    在宅ワーク 一色ですね！^^；  HP Envy  \n",
       "1  Found my first pc for content creating...or wh...  HP Envy  "
      ]
     },
     "execution_count": 5,
     "metadata": {},
     "output_type": "execute_result"
    }
   ],
   "source": [
    "text_query = 'hpenvy'\n",
    "since_date = '2010-01-01'\n",
    "until_date = '2020-05-30'\n",
    "count = 1500\n",
    "# Creation of query object\n",
    "tweetCriteria = got.manager.TweetCriteria().setQuerySearch(text_query).setSince(since_date).setUntil(until_date).setMaxTweets(count)\n",
    "# Creation of list that contains all tweets\n",
    "tweets = got.manager.TweetManager.getTweets(tweetCriteria)\n",
    "# Creating list of chosen tweet data\n",
    "text_tweets = [[tweet.date, tweet.text] for tweet in tweets]\n",
    "df2 = pd.DataFrame(text_tweets, columns=['timestamp', 'text'])\n",
    "df2['model'] = 'HP Envy'\n",
    "print(df2.shape)\n",
    "df2.head(2)"
   ]
  },
  {
   "cell_type": "code",
   "execution_count": 6,
   "metadata": {},
   "outputs": [
    {
     "name": "stdout",
     "output_type": "stream",
     "text": [
      "(1500, 3)\n"
     ]
    },
    {
     "data": {
      "text/html": [
       "<div>\n",
       "<style scoped>\n",
       "    .dataframe tbody tr th:only-of-type {\n",
       "        vertical-align: middle;\n",
       "    }\n",
       "\n",
       "    .dataframe tbody tr th {\n",
       "        vertical-align: top;\n",
       "    }\n",
       "\n",
       "    .dataframe thead th {\n",
       "        text-align: right;\n",
       "    }\n",
       "</style>\n",
       "<table border=\"1\" class=\"dataframe\">\n",
       "  <thead>\n",
       "    <tr style=\"text-align: right;\">\n",
       "      <th></th>\n",
       "      <th>timestamp</th>\n",
       "      <th>text</th>\n",
       "      <th>model</th>\n",
       "    </tr>\n",
       "  </thead>\n",
       "  <tbody>\n",
       "    <tr>\n",
       "      <td>0</td>\n",
       "      <td>2020-05-28 14:37:12+00:00</td>\n",
       "      <td>I think the $HPQ sell off is an overreaction, ...</td>\n",
       "      <td>HP Elitebook</td>\n",
       "    </tr>\n",
       "    <tr>\n",
       "      <td>1</td>\n",
       "      <td>2020-05-27 12:45:31+00:00</td>\n",
       "      <td>Unbeatable Deals... Hp folio 13 intel core i5 ...</td>\n",
       "      <td>HP Elitebook</td>\n",
       "    </tr>\n",
       "  </tbody>\n",
       "</table>\n",
       "</div>"
      ],
      "text/plain": [
       "                  timestamp  \\\n",
       "0 2020-05-28 14:37:12+00:00   \n",
       "1 2020-05-27 12:45:31+00:00   \n",
       "\n",
       "                                                text         model  \n",
       "0  I think the $HPQ sell off is an overreaction, ...  HP Elitebook  \n",
       "1  Unbeatable Deals... Hp folio 13 intel core i5 ...  HP Elitebook  "
      ]
     },
     "execution_count": 6,
     "metadata": {},
     "output_type": "execute_result"
    }
   ],
   "source": [
    "text_query = 'hpelitebook'\n",
    "since_date = '2010-01-01'\n",
    "until_date = '2020-05-30'\n",
    "count = 1500\n",
    "# Creation of query object\n",
    "tweetCriteria = got.manager.TweetCriteria().setQuerySearch(text_query).setSince(since_date).setUntil(until_date).setMaxTweets(count)\n",
    "# Creation of list that contains all tweets\n",
    "tweets = got.manager.TweetManager.getTweets(tweetCriteria)\n",
    "# Creating list of chosen tweet data\n",
    "text_tweets = [[tweet.date, tweet.text] for tweet in tweets]\n",
    "df3 = pd.DataFrame(text_tweets, columns=['timestamp', 'text'])\n",
    "df3['model'] = 'HP Elitebook'\n",
    "print(df3.shape)\n",
    "df3.head(2)"
   ]
  },
  {
   "cell_type": "markdown",
   "metadata": {},
   "source": [
    "### Apple Laptop Tweets"
   ]
  },
  {
   "cell_type": "code",
   "execution_count": 7,
   "metadata": {},
   "outputs": [
    {
     "name": "stdout",
     "output_type": "stream",
     "text": [
      "(2000, 3)\n"
     ]
    },
    {
     "data": {
      "text/html": [
       "<div>\n",
       "<style scoped>\n",
       "    .dataframe tbody tr th:only-of-type {\n",
       "        vertical-align: middle;\n",
       "    }\n",
       "\n",
       "    .dataframe tbody tr th {\n",
       "        vertical-align: top;\n",
       "    }\n",
       "\n",
       "    .dataframe thead th {\n",
       "        text-align: right;\n",
       "    }\n",
       "</style>\n",
       "<table border=\"1\" class=\"dataframe\">\n",
       "  <thead>\n",
       "    <tr style=\"text-align: right;\">\n",
       "      <th></th>\n",
       "      <th>timestamp</th>\n",
       "      <th>text</th>\n",
       "      <th>model</th>\n",
       "    </tr>\n",
       "  </thead>\n",
       "  <tbody>\n",
       "    <tr>\n",
       "      <td>0</td>\n",
       "      <td>2020-05-29 23:59:33+00:00</td>\n",
       "      <td>I just put it on my MacBook Pro this morning. ...</td>\n",
       "      <td>Macbook Pro</td>\n",
       "    </tr>\n",
       "    <tr>\n",
       "      <td>1</td>\n",
       "      <td>2020-05-29 23:59:10+00:00</td>\n",
       "      <td>I just don’t know which one to buy I really wa...</td>\n",
       "      <td>Macbook Pro</td>\n",
       "    </tr>\n",
       "  </tbody>\n",
       "</table>\n",
       "</div>"
      ],
      "text/plain": [
       "                  timestamp  \\\n",
       "0 2020-05-29 23:59:33+00:00   \n",
       "1 2020-05-29 23:59:10+00:00   \n",
       "\n",
       "                                                text        model  \n",
       "0  I just put it on my MacBook Pro this morning. ...  Macbook Pro  \n",
       "1  I just don’t know which one to buy I really wa...  Macbook Pro  "
      ]
     },
     "execution_count": 7,
     "metadata": {},
     "output_type": "execute_result"
    }
   ],
   "source": [
    "text_query = 'macbookpro'\n",
    "since_date = '2010-01-01'\n",
    "until_date = '2020-05-30'\n",
    "count = 2000\n",
    "# Creation of query object\n",
    "tweetCriteria = got.manager.TweetCriteria().setQuerySearch(text_query).setSince(since_date).setUntil(until_date).setMaxTweets(count)\n",
    "# Creation of list that contains all tweets\n",
    "tweets = got.manager.TweetManager.getTweets(tweetCriteria)\n",
    "# Creating list of chosen tweet data\n",
    "text_tweets = [[tweet.date, tweet.text] for tweet in tweets]\n",
    "df4 = pd.DataFrame(text_tweets, columns=['timestamp', 'text'])\n",
    "df4['model'] = 'Macbook Pro'\n",
    "print(df4.shape)\n",
    "df4.head(2)"
   ]
  },
  {
   "cell_type": "code",
   "execution_count": 8,
   "metadata": {},
   "outputs": [
    {
     "name": "stdout",
     "output_type": "stream",
     "text": [
      "(2000, 3)\n"
     ]
    },
    {
     "data": {
      "text/html": [
       "<div>\n",
       "<style scoped>\n",
       "    .dataframe tbody tr th:only-of-type {\n",
       "        vertical-align: middle;\n",
       "    }\n",
       "\n",
       "    .dataframe tbody tr th {\n",
       "        vertical-align: top;\n",
       "    }\n",
       "\n",
       "    .dataframe thead th {\n",
       "        text-align: right;\n",
       "    }\n",
       "</style>\n",
       "<table border=\"1\" class=\"dataframe\">\n",
       "  <thead>\n",
       "    <tr style=\"text-align: right;\">\n",
       "      <th></th>\n",
       "      <th>timestamp</th>\n",
       "      <th>text</th>\n",
       "      <th>model</th>\n",
       "    </tr>\n",
       "  </thead>\n",
       "  <tbody>\n",
       "    <tr>\n",
       "      <td>0</td>\n",
       "      <td>2020-05-29 23:58:55+00:00</td>\n",
       "      <td>#LIVE: Flora smashing da game and throwing da ...</td>\n",
       "      <td>Macbook Air</td>\n",
       "    </tr>\n",
       "    <tr>\n",
       "      <td>1</td>\n",
       "      <td>2020-05-29 23:58:05+00:00</td>\n",
       "      <td>Ahhh pretty stoked my MacBook Air arrived in t...</td>\n",
       "      <td>Macbook Air</td>\n",
       "    </tr>\n",
       "  </tbody>\n",
       "</table>\n",
       "</div>"
      ],
      "text/plain": [
       "                  timestamp  \\\n",
       "0 2020-05-29 23:58:55+00:00   \n",
       "1 2020-05-29 23:58:05+00:00   \n",
       "\n",
       "                                                text        model  \n",
       "0  #LIVE: Flora smashing da game and throwing da ...  Macbook Air  \n",
       "1  Ahhh pretty stoked my MacBook Air arrived in t...  Macbook Air  "
      ]
     },
     "execution_count": 8,
     "metadata": {},
     "output_type": "execute_result"
    }
   ],
   "source": [
    "text_query = 'macbookair'\n",
    "since_date = '2010-01-01'\n",
    "until_date = '2020-05-30'\n",
    "count = 2000\n",
    "# Creation of query object\n",
    "tweetCriteria = got.manager.TweetCriteria().setQuerySearch(text_query).setSince(since_date).setUntil(until_date).setMaxTweets(count)\n",
    "# Creation of list that contains all tweets\n",
    "tweets = got.manager.TweetManager.getTweets(tweetCriteria)\n",
    "# Creating list of chosen tweet data\n",
    "text_tweets = [[tweet.date, tweet.text] for tweet in tweets]\n",
    "df5 = pd.DataFrame(text_tweets, columns=['timestamp', 'text'])\n",
    "df5['model'] = 'Macbook Air'\n",
    "print(df5.shape)\n",
    "df5.head(2)"
   ]
  },
  {
   "cell_type": "markdown",
   "metadata": {},
   "source": [
    "### Dell Laptop Tweets"
   ]
  },
  {
   "cell_type": "code",
   "execution_count": 9,
   "metadata": {},
   "outputs": [
    {
     "name": "stdout",
     "output_type": "stream",
     "text": [
      "(1500, 3)\n"
     ]
    },
    {
     "data": {
      "text/html": [
       "<div>\n",
       "<style scoped>\n",
       "    .dataframe tbody tr th:only-of-type {\n",
       "        vertical-align: middle;\n",
       "    }\n",
       "\n",
       "    .dataframe tbody tr th {\n",
       "        vertical-align: top;\n",
       "    }\n",
       "\n",
       "    .dataframe thead th {\n",
       "        text-align: right;\n",
       "    }\n",
       "</style>\n",
       "<table border=\"1\" class=\"dataframe\">\n",
       "  <thead>\n",
       "    <tr style=\"text-align: right;\">\n",
       "      <th></th>\n",
       "      <th>timestamp</th>\n",
       "      <th>text</th>\n",
       "      <th>model</th>\n",
       "    </tr>\n",
       "  </thead>\n",
       "  <tbody>\n",
       "    <tr>\n",
       "      <td>0</td>\n",
       "      <td>2020-05-29 21:48:19+00:00</td>\n",
       "      <td>Job de hoje, \"Troca de Tela\" Notebook Dell Ins...</td>\n",
       "      <td>Dell Inspiron</td>\n",
       "    </tr>\n",
       "    <tr>\n",
       "      <td>1</td>\n",
       "      <td>2020-05-28 05:44:23+00:00</td>\n",
       "      <td>Two powerful devices. One elegant design. Dell...</td>\n",
       "      <td>Dell Inspiron</td>\n",
       "    </tr>\n",
       "  </tbody>\n",
       "</table>\n",
       "</div>"
      ],
      "text/plain": [
       "                  timestamp  \\\n",
       "0 2020-05-29 21:48:19+00:00   \n",
       "1 2020-05-28 05:44:23+00:00   \n",
       "\n",
       "                                                text          model  \n",
       "0  Job de hoje, \"Troca de Tela\" Notebook Dell Ins...  Dell Inspiron  \n",
       "1  Two powerful devices. One elegant design. Dell...  Dell Inspiron  "
      ]
     },
     "execution_count": 9,
     "metadata": {},
     "output_type": "execute_result"
    }
   ],
   "source": [
    "text_query = 'dellinspiron'\n",
    "since_date = '2010-01-01'\n",
    "until_date = '2020-05-30'\n",
    "count = 1500\n",
    "# Creation of query object\n",
    "tweetCriteria = got.manager.TweetCriteria().setQuerySearch(text_query).setSince(since_date).setUntil(until_date).setMaxTweets(count)\n",
    "# Creation of list that contains all tweets\n",
    "tweets = got.manager.TweetManager.getTweets(tweetCriteria)\n",
    "# Creating list of chosen tweet data\n",
    "text_tweets = [[tweet.date, tweet.text] for tweet in tweets]\n",
    "df6 = pd.DataFrame(text_tweets, columns=['timestamp', 'text'])\n",
    "df6['model'] = 'Dell Inspiron'\n",
    "print(df6.shape)\n",
    "df6.head(2)"
   ]
  },
  {
   "cell_type": "code",
   "execution_count": 10,
   "metadata": {},
   "outputs": [
    {
     "name": "stdout",
     "output_type": "stream",
     "text": [
      "(1500, 3)\n"
     ]
    },
    {
     "data": {
      "text/html": [
       "<div>\n",
       "<style scoped>\n",
       "    .dataframe tbody tr th:only-of-type {\n",
       "        vertical-align: middle;\n",
       "    }\n",
       "\n",
       "    .dataframe tbody tr th {\n",
       "        vertical-align: top;\n",
       "    }\n",
       "\n",
       "    .dataframe thead th {\n",
       "        text-align: right;\n",
       "    }\n",
       "</style>\n",
       "<table border=\"1\" class=\"dataframe\">\n",
       "  <thead>\n",
       "    <tr style=\"text-align: right;\">\n",
       "      <th></th>\n",
       "      <th>timestamp</th>\n",
       "      <th>text</th>\n",
       "      <th>model</th>\n",
       "    </tr>\n",
       "  </thead>\n",
       "  <tbody>\n",
       "    <tr>\n",
       "      <td>0</td>\n",
       "      <td>2020-05-29 19:37:53+00:00</td>\n",
       "      <td>Cable Matters 3 Port USB C Hub with Ethernet (...</td>\n",
       "      <td>Dell XPS 13</td>\n",
       "    </tr>\n",
       "    <tr>\n",
       "      <td>1</td>\n",
       "      <td>2020-05-29 19:28:34+00:00</td>\n",
       "      <td>Now on eBay Dell XPS 13 9360 Laptop i5-7200U 2...</td>\n",
       "      <td>Dell XPS 13</td>\n",
       "    </tr>\n",
       "  </tbody>\n",
       "</table>\n",
       "</div>"
      ],
      "text/plain": [
       "                  timestamp  \\\n",
       "0 2020-05-29 19:37:53+00:00   \n",
       "1 2020-05-29 19:28:34+00:00   \n",
       "\n",
       "                                                text        model  \n",
       "0  Cable Matters 3 Port USB C Hub with Ethernet (...  Dell XPS 13  \n",
       "1  Now on eBay Dell XPS 13 9360 Laptop i5-7200U 2...  Dell XPS 13  "
      ]
     },
     "execution_count": 10,
     "metadata": {},
     "output_type": "execute_result"
    }
   ],
   "source": [
    "text_query = 'dellxps13'\n",
    "since_date = '2010-01-01'\n",
    "until_date = '2020-05-30'\n",
    "count = 1500\n",
    "# Creation of query object\n",
    "tweetCriteria = got.manager.TweetCriteria().setQuerySearch(text_query).setSince(since_date).setUntil(until_date).setMaxTweets(count)\n",
    "# Creation of list that contains all tweets\n",
    "tweets = got.manager.TweetManager.getTweets(tweetCriteria)\n",
    "# Creating list of chosen tweet data\n",
    "text_tweets = [[tweet.date, tweet.text] for tweet in tweets]\n",
    "df7 = pd.DataFrame(text_tweets, columns=['timestamp', 'text'])\n",
    "df7['model'] = 'Dell XPS 13'\n",
    "print(df7.shape)\n",
    "df7.head(2)"
   ]
  },
  {
   "cell_type": "code",
   "execution_count": 11,
   "metadata": {},
   "outputs": [
    {
     "name": "stdout",
     "output_type": "stream",
     "text": [
      "(1500, 3)\n"
     ]
    },
    {
     "data": {
      "text/html": [
       "<div>\n",
       "<style scoped>\n",
       "    .dataframe tbody tr th:only-of-type {\n",
       "        vertical-align: middle;\n",
       "    }\n",
       "\n",
       "    .dataframe tbody tr th {\n",
       "        vertical-align: top;\n",
       "    }\n",
       "\n",
       "    .dataframe thead th {\n",
       "        text-align: right;\n",
       "    }\n",
       "</style>\n",
       "<table border=\"1\" class=\"dataframe\">\n",
       "  <thead>\n",
       "    <tr style=\"text-align: right;\">\n",
       "      <th></th>\n",
       "      <th>timestamp</th>\n",
       "      <th>text</th>\n",
       "      <th>model</th>\n",
       "    </tr>\n",
       "  </thead>\n",
       "  <tbody>\n",
       "    <tr>\n",
       "      <td>0</td>\n",
       "      <td>2020-05-29 23:53:49+00:00</td>\n",
       "      <td>Dell xps 15 2 in 1</td>\n",
       "      <td>Dell XPS 15</td>\n",
       "    </tr>\n",
       "    <tr>\n",
       "      <td>1</td>\n",
       "      <td>2020-05-29 22:00:05+00:00</td>\n",
       "      <td>***New Deal*** Dell XPS 15 9575 2-IN-1 Laptop ...</td>\n",
       "      <td>Dell XPS 15</td>\n",
       "    </tr>\n",
       "  </tbody>\n",
       "</table>\n",
       "</div>"
      ],
      "text/plain": [
       "                  timestamp  \\\n",
       "0 2020-05-29 23:53:49+00:00   \n",
       "1 2020-05-29 22:00:05+00:00   \n",
       "\n",
       "                                                text        model  \n",
       "0                                 Dell xps 15 2 in 1  Dell XPS 15  \n",
       "1  ***New Deal*** Dell XPS 15 9575 2-IN-1 Laptop ...  Dell XPS 15  "
      ]
     },
     "execution_count": 11,
     "metadata": {},
     "output_type": "execute_result"
    }
   ],
   "source": [
    "text_query = 'dellxps15'\n",
    "since_date = '2010-01-01'\n",
    "until_date = '2020-05-30'\n",
    "count = 1500\n",
    "# Creation of query object\n",
    "tweetCriteria = got.manager.TweetCriteria().setQuerySearch(text_query).setSince(since_date).setUntil(until_date).setMaxTweets(count)\n",
    "# Creation of list that contains all tweets\n",
    "tweets = got.manager.TweetManager.getTweets(tweetCriteria)\n",
    "# Creating list of chosen tweet data\n",
    "text_tweets = [[tweet.date, tweet.text] for tweet in tweets]\n",
    "df8 = pd.DataFrame(text_tweets, columns=['timestamp', 'text'])\n",
    "df8['model'] = 'Dell XPS 15'\n",
    "print(df8.shape)\n",
    "df8.head(2)"
   ]
  },
  {
   "cell_type": "markdown",
   "metadata": {},
   "source": [
    "### Asus Laptop Tweets"
   ]
  },
  {
   "cell_type": "code",
   "execution_count": 12,
   "metadata": {},
   "outputs": [
    {
     "name": "stdout",
     "output_type": "stream",
     "text": [
      "(1500, 3)\n"
     ]
    },
    {
     "data": {
      "text/html": [
       "<div>\n",
       "<style scoped>\n",
       "    .dataframe tbody tr th:only-of-type {\n",
       "        vertical-align: middle;\n",
       "    }\n",
       "\n",
       "    .dataframe tbody tr th {\n",
       "        vertical-align: top;\n",
       "    }\n",
       "\n",
       "    .dataframe thead th {\n",
       "        text-align: right;\n",
       "    }\n",
       "</style>\n",
       "<table border=\"1\" class=\"dataframe\">\n",
       "  <thead>\n",
       "    <tr style=\"text-align: right;\">\n",
       "      <th></th>\n",
       "      <th>timestamp</th>\n",
       "      <th>text</th>\n",
       "      <th>model</th>\n",
       "    </tr>\n",
       "  </thead>\n",
       "  <tbody>\n",
       "    <tr>\n",
       "      <td>0</td>\n",
       "      <td>2020-05-29 23:17:58+00:00</td>\n",
       "      <td>ASUS ZenBook 15 Laptop, 15.6” UHD 4K NanoEdge ...</td>\n",
       "      <td>Asus Zenbook</td>\n",
       "    </tr>\n",
       "    <tr>\n",
       "      <td>1</td>\n",
       "      <td>2020-05-29 22:52:28+00:00</td>\n",
       "      <td>I think by time @TeamKnowhowUK get around to s...</td>\n",
       "      <td>Asus Zenbook</td>\n",
       "    </tr>\n",
       "  </tbody>\n",
       "</table>\n",
       "</div>"
      ],
      "text/plain": [
       "                  timestamp  \\\n",
       "0 2020-05-29 23:17:58+00:00   \n",
       "1 2020-05-29 22:52:28+00:00   \n",
       "\n",
       "                                                text         model  \n",
       "0  ASUS ZenBook 15 Laptop, 15.6” UHD 4K NanoEdge ...  Asus Zenbook  \n",
       "1  I think by time @TeamKnowhowUK get around to s...  Asus Zenbook  "
      ]
     },
     "execution_count": 12,
     "metadata": {},
     "output_type": "execute_result"
    }
   ],
   "source": [
    "text_query = 'zenbook'\n",
    "since_date = '2010-01-01'\n",
    "until_date = '2020-05-30'\n",
    "count = 1500\n",
    "# Creation of query object\n",
    "tweetCriteria = got.manager.TweetCriteria().setQuerySearch(text_query).setSince(since_date).setUntil(until_date).setMaxTweets(count)\n",
    "# Creation of list that contains all tweets\n",
    "tweets = got.manager.TweetManager.getTweets(tweetCriteria)\n",
    "# Creating list of chosen tweet data\n",
    "text_tweets = [[tweet.date, tweet.text] for tweet in tweets]\n",
    "df9 = pd.DataFrame(text_tweets, columns=['timestamp', 'text'])\n",
    "df9['model'] = 'Asus Zenbook'\n",
    "print(df9.shape)\n",
    "df9.head(2)"
   ]
  },
  {
   "cell_type": "code",
   "execution_count": 13,
   "metadata": {},
   "outputs": [
    {
     "name": "stdout",
     "output_type": "stream",
     "text": [
      "(1500, 3)\n"
     ]
    },
    {
     "data": {
      "text/html": [
       "<div>\n",
       "<style scoped>\n",
       "    .dataframe tbody tr th:only-of-type {\n",
       "        vertical-align: middle;\n",
       "    }\n",
       "\n",
       "    .dataframe tbody tr th {\n",
       "        vertical-align: top;\n",
       "    }\n",
       "\n",
       "    .dataframe thead th {\n",
       "        text-align: right;\n",
       "    }\n",
       "</style>\n",
       "<table border=\"1\" class=\"dataframe\">\n",
       "  <thead>\n",
       "    <tr style=\"text-align: right;\">\n",
       "      <th></th>\n",
       "      <th>timestamp</th>\n",
       "      <th>text</th>\n",
       "      <th>model</th>\n",
       "    </tr>\n",
       "  </thead>\n",
       "  <tbody>\n",
       "    <tr>\n",
       "      <td>0</td>\n",
       "      <td>2020-05-29 23:57:07+00:00</td>\n",
       "      <td>Get ready to #ConquerTheWorld with the all-new...</td>\n",
       "      <td>Asus Vivobook</td>\n",
       "    </tr>\n",
       "    <tr>\n",
       "      <td>1</td>\n",
       "      <td>2020-05-29 23:57:05+00:00</td>\n",
       "      <td>Get ready to #ConquerTheWorld with the all-new...</td>\n",
       "      <td>Asus Vivobook</td>\n",
       "    </tr>\n",
       "  </tbody>\n",
       "</table>\n",
       "</div>"
      ],
      "text/plain": [
       "                  timestamp  \\\n",
       "0 2020-05-29 23:57:07+00:00   \n",
       "1 2020-05-29 23:57:05+00:00   \n",
       "\n",
       "                                                text          model  \n",
       "0  Get ready to #ConquerTheWorld with the all-new...  Asus Vivobook  \n",
       "1  Get ready to #ConquerTheWorld with the all-new...  Asus Vivobook  "
      ]
     },
     "execution_count": 13,
     "metadata": {},
     "output_type": "execute_result"
    }
   ],
   "source": [
    "text_query = 'vivobook'\n",
    "since_date = '2010-01-01'\n",
    "until_date = '2020-05-30'\n",
    "count = 1500\n",
    "# Creation of query object\n",
    "tweetCriteria = got.manager.TweetCriteria().setQuerySearch(text_query).setSince(since_date).setUntil(until_date).setMaxTweets(count)\n",
    "# Creation of list that contains all tweets\n",
    "tweets = got.manager.TweetManager.getTweets(tweetCriteria)\n",
    "# Creating list of chosen tweet data\n",
    "text_tweets = [[tweet.date, tweet.text] for tweet in tweets]\n",
    "df10 = pd.DataFrame(text_tweets, columns=['timestamp', 'text'])\n",
    "df10['model'] = 'Asus Vivobook'\n",
    "print(df10.shape)\n",
    "df10.head(2)"
   ]
  },
  {
   "cell_type": "code",
   "execution_count": 14,
   "metadata": {},
   "outputs": [
    {
     "name": "stdout",
     "output_type": "stream",
     "text": [
      "(1500, 3)\n"
     ]
    },
    {
     "data": {
      "text/html": [
       "<div>\n",
       "<style scoped>\n",
       "    .dataframe tbody tr th:only-of-type {\n",
       "        vertical-align: middle;\n",
       "    }\n",
       "\n",
       "    .dataframe tbody tr th {\n",
       "        vertical-align: top;\n",
       "    }\n",
       "\n",
       "    .dataframe thead th {\n",
       "        text-align: right;\n",
       "    }\n",
       "</style>\n",
       "<table border=\"1\" class=\"dataframe\">\n",
       "  <thead>\n",
       "    <tr style=\"text-align: right;\">\n",
       "      <th></th>\n",
       "      <th>timestamp</th>\n",
       "      <th>text</th>\n",
       "      <th>model</th>\n",
       "    </tr>\n",
       "  </thead>\n",
       "  <tbody>\n",
       "    <tr>\n",
       "      <td>0</td>\n",
       "      <td>2020-05-29 21:20:29+00:00</td>\n",
       "      <td>Although it leaves out a few expected features...</td>\n",
       "      <td>Asus Studiobook</td>\n",
       "    </tr>\n",
       "    <tr>\n",
       "      <td>1</td>\n",
       "      <td>2020-05-29 19:28:32+00:00</td>\n",
       "      <td>Just saw this on Amazon: ASUS ProArt StudioBoo...</td>\n",
       "      <td>Asus Studiobook</td>\n",
       "    </tr>\n",
       "  </tbody>\n",
       "</table>\n",
       "</div>"
      ],
      "text/plain": [
       "                  timestamp  \\\n",
       "0 2020-05-29 21:20:29+00:00   \n",
       "1 2020-05-29 19:28:32+00:00   \n",
       "\n",
       "                                                text            model  \n",
       "0  Although it leaves out a few expected features...  Asus Studiobook  \n",
       "1  Just saw this on Amazon: ASUS ProArt StudioBoo...  Asus Studiobook  "
      ]
     },
     "execution_count": 14,
     "metadata": {},
     "output_type": "execute_result"
    }
   ],
   "source": [
    "text_query = 'studiobook'\n",
    "since_date = '2010-01-01'\n",
    "until_date = '2020-05-30'\n",
    "count = 1500\n",
    "# Creation of query object\n",
    "tweetCriteria = got.manager.TweetCriteria().setQuerySearch(text_query).setSince(since_date).setUntil(until_date).setMaxTweets(count)\n",
    "# Creation of list that contains all tweets\n",
    "tweets = got.manager.TweetManager.getTweets(tweetCriteria)\n",
    "# Creating list of chosen tweet data\n",
    "text_tweets = [[tweet.date, tweet.text] for tweet in tweets]\n",
    "df11 = pd.DataFrame(text_tweets, columns=['timestamp', 'text'])\n",
    "df11['model'] = 'Asus Studiobook'\n",
    "print(df11.shape)\n",
    "df11.head(2)"
   ]
  },
  {
   "cell_type": "markdown",
   "metadata": {},
   "source": [
    "### Lenovo Laptop Tweets"
   ]
  },
  {
   "cell_type": "code",
   "execution_count": 15,
   "metadata": {},
   "outputs": [
    {
     "name": "stdout",
     "output_type": "stream",
     "text": [
      "(2000, 3)\n"
     ]
    },
    {
     "data": {
      "text/html": [
       "<div>\n",
       "<style scoped>\n",
       "    .dataframe tbody tr th:only-of-type {\n",
       "        vertical-align: middle;\n",
       "    }\n",
       "\n",
       "    .dataframe tbody tr th {\n",
       "        vertical-align: top;\n",
       "    }\n",
       "\n",
       "    .dataframe thead th {\n",
       "        text-align: right;\n",
       "    }\n",
       "</style>\n",
       "<table border=\"1\" class=\"dataframe\">\n",
       "  <thead>\n",
       "    <tr style=\"text-align: right;\">\n",
       "      <th></th>\n",
       "      <th>timestamp</th>\n",
       "      <th>text</th>\n",
       "      <th>model</th>\n",
       "    </tr>\n",
       "  </thead>\n",
       "  <tbody>\n",
       "    <tr>\n",
       "      <td>0</td>\n",
       "      <td>2020-05-29 23:59:51+00:00</td>\n",
       "      <td>昨日ThinkPad X1が発売したみたいだけどあまり変わらないのね</td>\n",
       "      <td>Lenovo Thinkpad</td>\n",
       "    </tr>\n",
       "    <tr>\n",
       "      <td>1</td>\n",
       "      <td>2020-05-29 23:48:38+00:00</td>\n",
       "      <td>The thinkpad</td>\n",
       "      <td>Lenovo Thinkpad</td>\n",
       "    </tr>\n",
       "  </tbody>\n",
       "</table>\n",
       "</div>"
      ],
      "text/plain": [
       "                  timestamp                                text  \\\n",
       "0 2020-05-29 23:59:51+00:00  昨日ThinkPad X1が発売したみたいだけどあまり変わらないのね   \n",
       "1 2020-05-29 23:48:38+00:00                        The thinkpad   \n",
       "\n",
       "             model  \n",
       "0  Lenovo Thinkpad  \n",
       "1  Lenovo Thinkpad  "
      ]
     },
     "execution_count": 15,
     "metadata": {},
     "output_type": "execute_result"
    }
   ],
   "source": [
    "text_query = 'thinkpad'\n",
    "since_date = '2010-01-01'\n",
    "until_date = '2020-05-30'\n",
    "count = 2000\n",
    "# Creation of query object\n",
    "tweetCriteria = got.manager.TweetCriteria().setQuerySearch(text_query).setSince(since_date).setUntil(until_date).setMaxTweets(count)\n",
    "# Creation of list that contains all tweets\n",
    "tweets = got.manager.TweetManager.getTweets(tweetCriteria)\n",
    "# Creating list of chosen tweet data\n",
    "text_tweets = [[tweet.date, tweet.text] for tweet in tweets]\n",
    "df12 = pd.DataFrame(text_tweets, columns=['timestamp', 'text'])\n",
    "df12['model'] = 'Lenovo Thinkpad'\n",
    "print(df12.shape)\n",
    "df12.head(2)"
   ]
  },
  {
   "cell_type": "code",
   "execution_count": 16,
   "metadata": {},
   "outputs": [
    {
     "name": "stdout",
     "output_type": "stream",
     "text": [
      "(2000, 3)\n"
     ]
    },
    {
     "data": {
      "text/html": [
       "<div>\n",
       "<style scoped>\n",
       "    .dataframe tbody tr th:only-of-type {\n",
       "        vertical-align: middle;\n",
       "    }\n",
       "\n",
       "    .dataframe tbody tr th {\n",
       "        vertical-align: top;\n",
       "    }\n",
       "\n",
       "    .dataframe thead th {\n",
       "        text-align: right;\n",
       "    }\n",
       "</style>\n",
       "<table border=\"1\" class=\"dataframe\">\n",
       "  <thead>\n",
       "    <tr style=\"text-align: right;\">\n",
       "      <th></th>\n",
       "      <th>timestamp</th>\n",
       "      <th>text</th>\n",
       "      <th>model</th>\n",
       "    </tr>\n",
       "  </thead>\n",
       "  <tbody>\n",
       "    <tr>\n",
       "      <td>0</td>\n",
       "      <td>2020-05-29 01:33:04+00:00</td>\n",
       "      <td>USB C to Dual HDMI Adapter 4K @60hz,Type C to ...</td>\n",
       "      <td>Lenovo Yoga</td>\n",
       "    </tr>\n",
       "    <tr>\n",
       "      <td>1</td>\n",
       "      <td>2020-05-28 19:37:58+00:00</td>\n",
       "      <td>@Lenovo shame on you!. guys be aware lenovo mo...</td>\n",
       "      <td>Lenovo Yoga</td>\n",
       "    </tr>\n",
       "  </tbody>\n",
       "</table>\n",
       "</div>"
      ],
      "text/plain": [
       "                  timestamp  \\\n",
       "0 2020-05-29 01:33:04+00:00   \n",
       "1 2020-05-28 19:37:58+00:00   \n",
       "\n",
       "                                                text        model  \n",
       "0  USB C to Dual HDMI Adapter 4K @60hz,Type C to ...  Lenovo Yoga  \n",
       "1  @Lenovo shame on you!. guys be aware lenovo mo...  Lenovo Yoga  "
      ]
     },
     "execution_count": 16,
     "metadata": {},
     "output_type": "execute_result"
    }
   ],
   "source": [
    "text_query = 'lenovoyoga'\n",
    "since_date = '2010-01-01'\n",
    "until_date = '2020-05-30'\n",
    "count = 2000\n",
    "# Creation of query object\n",
    "tweetCriteria = got.manager.TweetCriteria().setQuerySearch(text_query).setSince(since_date).setUntil(until_date).setMaxTweets(count)\n",
    "# Creation of list that contains all tweets\n",
    "tweets = got.manager.TweetManager.getTweets(tweetCriteria)\n",
    "# Creating list of chosen tweet data\n",
    "text_tweets = [[tweet.date, tweet.text] for tweet in tweets]\n",
    "df13 = pd.DataFrame(text_tweets, columns=['timestamp', 'text'])\n",
    "df13['model'] = 'Lenovo Yoga'\n",
    "print(df13.shape)\n",
    "df13.head(2)"
   ]
  },
  {
   "cell_type": "markdown",
   "metadata": {},
   "source": [
    "### Acer Laptop Tweets"
   ]
  },
  {
   "cell_type": "code",
   "execution_count": 17,
   "metadata": {},
   "outputs": [
    {
     "name": "stdout",
     "output_type": "stream",
     "text": [
      "(386, 3)\n"
     ]
    },
    {
     "data": {
      "text/html": [
       "<div>\n",
       "<style scoped>\n",
       "    .dataframe tbody tr th:only-of-type {\n",
       "        vertical-align: middle;\n",
       "    }\n",
       "\n",
       "    .dataframe tbody tr th {\n",
       "        vertical-align: top;\n",
       "    }\n",
       "\n",
       "    .dataframe thead th {\n",
       "        text-align: right;\n",
       "    }\n",
       "</style>\n",
       "<table border=\"1\" class=\"dataframe\">\n",
       "  <thead>\n",
       "    <tr style=\"text-align: right;\">\n",
       "      <th></th>\n",
       "      <th>timestamp</th>\n",
       "      <th>text</th>\n",
       "      <th>model</th>\n",
       "    </tr>\n",
       "  </thead>\n",
       "  <tbody>\n",
       "    <tr>\n",
       "      <td>0</td>\n",
       "      <td>2020-03-11 12:42:40+00:00</td>\n",
       "      <td>Abbiamo testato per qualche settimana Acer Swi...</td>\n",
       "      <td>Acer Swift 7</td>\n",
       "    </tr>\n",
       "    <tr>\n",
       "      <td>1</td>\n",
       "      <td>2020-03-02 15:00:02+00:00</td>\n",
       "      <td>Acer Swift 7 (SF714-51T-M97L) 14\" Touch Full H...</td>\n",
       "      <td>Acer Swift 7</td>\n",
       "    </tr>\n",
       "  </tbody>\n",
       "</table>\n",
       "</div>"
      ],
      "text/plain": [
       "                  timestamp  \\\n",
       "0 2020-03-11 12:42:40+00:00   \n",
       "1 2020-03-02 15:00:02+00:00   \n",
       "\n",
       "                                                text         model  \n",
       "0  Abbiamo testato per qualche settimana Acer Swi...  Acer Swift 7  \n",
       "1  Acer Swift 7 (SF714-51T-M97L) 14\" Touch Full H...  Acer Swift 7  "
      ]
     },
     "execution_count": 17,
     "metadata": {},
     "output_type": "execute_result"
    }
   ],
   "source": [
    "text_query = 'acerswift7'\n",
    "since_date = '2010-01-01'\n",
    "until_date = '2020-05-30'\n",
    "count = 2000\n",
    "# Creation of query object\n",
    "tweetCriteria = got.manager.TweetCriteria().setQuerySearch(text_query).setSince(since_date).setUntil(until_date).setMaxTweets(count)\n",
    "# Creation of list that contains all tweets\n",
    "tweets = got.manager.TweetManager.getTweets(tweetCriteria)\n",
    "# Creating list of chosen tweet data\n",
    "text_tweets = [[tweet.date, tweet.text] for tweet in tweets]\n",
    "df14 = pd.DataFrame(text_tweets, columns=['timestamp', 'text'])\n",
    "df14['model'] = 'Acer Swift 7'\n",
    "print(df14.shape)\n",
    "df14.head(2)"
   ]
  },
  {
   "cell_type": "code",
   "execution_count": 18,
   "metadata": {},
   "outputs": [
    {
     "name": "stdout",
     "output_type": "stream",
     "text": [
      "(2000, 3)\n"
     ]
    },
    {
     "data": {
      "text/html": [
       "<div>\n",
       "<style scoped>\n",
       "    .dataframe tbody tr th:only-of-type {\n",
       "        vertical-align: middle;\n",
       "    }\n",
       "\n",
       "    .dataframe tbody tr th {\n",
       "        vertical-align: top;\n",
       "    }\n",
       "\n",
       "    .dataframe thead th {\n",
       "        text-align: right;\n",
       "    }\n",
       "</style>\n",
       "<table border=\"1\" class=\"dataframe\">\n",
       "  <thead>\n",
       "    <tr style=\"text-align: right;\">\n",
       "      <th></th>\n",
       "      <th>timestamp</th>\n",
       "      <th>text</th>\n",
       "      <th>model</th>\n",
       "    </tr>\n",
       "  </thead>\n",
       "  <tbody>\n",
       "    <tr>\n",
       "      <td>0</td>\n",
       "      <td>2020-05-27 09:00:29+00:00</td>\n",
       "      <td>Dank der gestochen scharfen Bilder des FHD-IPS...</td>\n",
       "      <td>Acer Aspire</td>\n",
       "    </tr>\n",
       "    <tr>\n",
       "      <td>1</td>\n",
       "      <td>2020-05-25 17:33:27+00:00</td>\n",
       "      <td>https://goodtogodeals.com/product/acer-aspire-...</td>\n",
       "      <td>Acer Aspire</td>\n",
       "    </tr>\n",
       "  </tbody>\n",
       "</table>\n",
       "</div>"
      ],
      "text/plain": [
       "                  timestamp  \\\n",
       "0 2020-05-27 09:00:29+00:00   \n",
       "1 2020-05-25 17:33:27+00:00   \n",
       "\n",
       "                                                text        model  \n",
       "0  Dank der gestochen scharfen Bilder des FHD-IPS...  Acer Aspire  \n",
       "1  https://goodtogodeals.com/product/acer-aspire-...  Acer Aspire  "
      ]
     },
     "execution_count": 18,
     "metadata": {},
     "output_type": "execute_result"
    }
   ],
   "source": [
    "text_query = 'aceraspire'\n",
    "since_date = '2010-01-01'\n",
    "until_date = '2020-05-30'\n",
    "count = 2000\n",
    "# Creation of query object\n",
    "tweetCriteria = got.manager.TweetCriteria().setQuerySearch(text_query).setSince(since_date).setUntil(until_date).setMaxTweets(count)\n",
    "# Creation of list that contains all tweets\n",
    "tweets = got.manager.TweetManager.getTweets(tweetCriteria)\n",
    "# Creating list of chosen tweet data\n",
    "text_tweets = [[tweet.date, tweet.text] for tweet in tweets]\n",
    "df15 = pd.DataFrame(text_tweets, columns=['timestamp', 'text'])\n",
    "df15['model'] = 'Acer Aspire'\n",
    "print(df15.shape)\n",
    "df15.head(2)"
   ]
  },
  {
   "cell_type": "code",
   "execution_count": 19,
   "metadata": {},
   "outputs": [
    {
     "name": "stdout",
     "output_type": "stream",
     "text": [
      "(572, 3)\n"
     ]
    },
    {
     "data": {
      "text/html": [
       "<div>\n",
       "<style scoped>\n",
       "    .dataframe tbody tr th:only-of-type {\n",
       "        vertical-align: middle;\n",
       "    }\n",
       "\n",
       "    .dataframe tbody tr th {\n",
       "        vertical-align: top;\n",
       "    }\n",
       "\n",
       "    .dataframe thead th {\n",
       "        text-align: right;\n",
       "    }\n",
       "</style>\n",
       "<table border=\"1\" class=\"dataframe\">\n",
       "  <thead>\n",
       "    <tr style=\"text-align: right;\">\n",
       "      <th></th>\n",
       "      <th>timestamp</th>\n",
       "      <th>text</th>\n",
       "      <th>model</th>\n",
       "    </tr>\n",
       "  </thead>\n",
       "  <tbody>\n",
       "    <tr>\n",
       "      <td>0</td>\n",
       "      <td>2020-05-28 00:50:58+00:00</td>\n",
       "      <td>Just a few more adjustments and it'll speed up...</td>\n",
       "      <td>Acer Swift 3</td>\n",
       "    </tr>\n",
       "    <tr>\n",
       "      <td>1</td>\n",
       "      <td>2020-05-27 01:52:09+00:00</td>\n",
       "      <td>まぁRyzen4000乗っけてくるのは良いとして、10万越えか。この前Xiaomiとか既に出...</td>\n",
       "      <td>Acer Swift 3</td>\n",
       "    </tr>\n",
       "  </tbody>\n",
       "</table>\n",
       "</div>"
      ],
      "text/plain": [
       "                  timestamp  \\\n",
       "0 2020-05-28 00:50:58+00:00   \n",
       "1 2020-05-27 01:52:09+00:00   \n",
       "\n",
       "                                                text         model  \n",
       "0  Just a few more adjustments and it'll speed up...  Acer Swift 3  \n",
       "1  まぁRyzen4000乗っけてくるのは良いとして、10万越えか。この前Xiaomiとか既に出...  Acer Swift 3  "
      ]
     },
     "execution_count": 19,
     "metadata": {},
     "output_type": "execute_result"
    }
   ],
   "source": [
    "text_query = 'acerswift3'\n",
    "since_date = '2010-01-01'\n",
    "until_date = '2020-05-30'\n",
    "count = 2000\n",
    "# Creation of query object\n",
    "tweetCriteria = got.manager.TweetCriteria().setQuerySearch(text_query).setSince(since_date).setUntil(until_date).setMaxTweets(count)\n",
    "# Creation of list that contains all tweets\n",
    "tweets = got.manager.TweetManager.getTweets(tweetCriteria)\n",
    "# Creating list of chosen tweet data\n",
    "text_tweets = [[tweet.date, tweet.text] for tweet in tweets]\n",
    "df16 = pd.DataFrame(text_tweets, columns=['timestamp', 'text'])\n",
    "df16['model'] = 'Acer Swift 3'\n",
    "print(df16.shape)\n",
    "df16.head(2)"
   ]
  },
  {
   "cell_type": "code",
   "execution_count": 20,
   "metadata": {},
   "outputs": [
    {
     "name": "stdout",
     "output_type": "stream",
     "text": [
      "(253, 3)\n"
     ]
    },
    {
     "data": {
      "text/html": [
       "<div>\n",
       "<style scoped>\n",
       "    .dataframe tbody tr th:only-of-type {\n",
       "        vertical-align: middle;\n",
       "    }\n",
       "\n",
       "    .dataframe tbody tr th {\n",
       "        vertical-align: top;\n",
       "    }\n",
       "\n",
       "    .dataframe thead th {\n",
       "        text-align: right;\n",
       "    }\n",
       "</style>\n",
       "<table border=\"1\" class=\"dataframe\">\n",
       "  <thead>\n",
       "    <tr style=\"text-align: right;\">\n",
       "      <th></th>\n",
       "      <th>timestamp</th>\n",
       "      <th>text</th>\n",
       "      <th>model</th>\n",
       "    </tr>\n",
       "  </thead>\n",
       "  <tbody>\n",
       "    <tr>\n",
       "      <td>0</td>\n",
       "      <td>2020-05-28 09:17:28+00:00</td>\n",
       "      <td>สามารถดูรายละเอียด #AcerSwift5 และรุ่นอื่นๆ เพ...</td>\n",
       "      <td>Acer Swift 5</td>\n",
       "    </tr>\n",
       "    <tr>\n",
       "      <td>1</td>\n",
       "      <td>2020-05-06 17:05:00+00:00</td>\n",
       "      <td>Head over to http://tech-fiends.com and check ...</td>\n",
       "      <td>Acer Swift 5</td>\n",
       "    </tr>\n",
       "  </tbody>\n",
       "</table>\n",
       "</div>"
      ],
      "text/plain": [
       "                  timestamp  \\\n",
       "0 2020-05-28 09:17:28+00:00   \n",
       "1 2020-05-06 17:05:00+00:00   \n",
       "\n",
       "                                                text         model  \n",
       "0  สามารถดูรายละเอียด #AcerSwift5 และรุ่นอื่นๆ เพ...  Acer Swift 5  \n",
       "1  Head over to http://tech-fiends.com and check ...  Acer Swift 5  "
      ]
     },
     "execution_count": 20,
     "metadata": {},
     "output_type": "execute_result"
    }
   ],
   "source": [
    "text_query = 'acerswift5'\n",
    "since_date = '2010-01-01'\n",
    "until_date = '2020-05-30'\n",
    "count = 2000\n",
    "# Creation of query object\n",
    "tweetCriteria = got.manager.TweetCriteria().setQuerySearch(text_query).setSince(since_date).setUntil(until_date).setMaxTweets(count)\n",
    "# Creation of list that contains all tweets\n",
    "tweets = got.manager.TweetManager.getTweets(tweetCriteria)\n",
    "# Creating list of chosen tweet data\n",
    "text_tweets = [[tweet.date, tweet.text] for tweet in tweets]\n",
    "df17 = pd.DataFrame(text_tweets, columns=['timestamp', 'text'])\n",
    "df17['model'] = 'Acer Swift 5'\n",
    "print(df17.shape)\n",
    "df17.head(2)"
   ]
  },
  {
   "cell_type": "markdown",
   "metadata": {},
   "source": [
    "### Combine all brand tweets"
   ]
  },
  {
   "cell_type": "code",
   "execution_count": 30,
   "metadata": {},
   "outputs": [
    {
     "name": "stdout",
     "output_type": "stream",
     "text": [
      "(24711, 3)\n"
     ]
    },
    {
     "data": {
      "text/html": [
       "<div>\n",
       "<style scoped>\n",
       "    .dataframe tbody tr th:only-of-type {\n",
       "        vertical-align: middle;\n",
       "    }\n",
       "\n",
       "    .dataframe tbody tr th {\n",
       "        vertical-align: top;\n",
       "    }\n",
       "\n",
       "    .dataframe thead th {\n",
       "        text-align: right;\n",
       "    }\n",
       "</style>\n",
       "<table border=\"1\" class=\"dataframe\">\n",
       "  <thead>\n",
       "    <tr style=\"text-align: right;\">\n",
       "      <th></th>\n",
       "      <th>timestamp</th>\n",
       "      <th>text</th>\n",
       "      <th>model</th>\n",
       "    </tr>\n",
       "  </thead>\n",
       "  <tbody>\n",
       "    <tr>\n",
       "      <td>0</td>\n",
       "      <td>2020-05-28 19:30:02+00:00</td>\n",
       "      <td>90s fun for the kids #HP #HPSpectre #laptops #...</td>\n",
       "      <td>HP Spectre</td>\n",
       "    </tr>\n",
       "    <tr>\n",
       "      <td>1</td>\n",
       "      <td>2020-05-28 04:38:28+00:00</td>\n",
       "      <td>Save $200 on the HP Spectre x360, Now $1349.99...</td>\n",
       "      <td>HP Spectre</td>\n",
       "    </tr>\n",
       "    <tr>\n",
       "      <td>2</td>\n",
       "      <td>2020-05-24 01:58:02+00:00</td>\n",
       "      <td>Are you ready for a Change? Why not try an alt...</td>\n",
       "      <td>HP Spectre</td>\n",
       "    </tr>\n",
       "    <tr>\n",
       "      <td>3</td>\n",
       "      <td>2020-05-22 22:38:01+00:00</td>\n",
       "      <td>#Amazon is under investigation in #France, dec...</td>\n",
       "      <td>HP Spectre</td>\n",
       "    </tr>\n",
       "    <tr>\n",
       "      <td>4</td>\n",
       "      <td>2020-05-20 11:40:37+00:00</td>\n",
       "      <td>Brand new sealed HP SPECTRE X360 i7 512gb 8gb ...</td>\n",
       "      <td>HP Spectre</td>\n",
       "    </tr>\n",
       "  </tbody>\n",
       "</table>\n",
       "</div>"
      ],
      "text/plain": [
       "                  timestamp  \\\n",
       "0 2020-05-28 19:30:02+00:00   \n",
       "1 2020-05-28 04:38:28+00:00   \n",
       "2 2020-05-24 01:58:02+00:00   \n",
       "3 2020-05-22 22:38:01+00:00   \n",
       "4 2020-05-20 11:40:37+00:00   \n",
       "\n",
       "                                                text       model  \n",
       "0  90s fun for the kids #HP #HPSpectre #laptops #...  HP Spectre  \n",
       "1  Save $200 on the HP Spectre x360, Now $1349.99...  HP Spectre  \n",
       "2  Are you ready for a Change? Why not try an alt...  HP Spectre  \n",
       "3  #Amazon is under investigation in #France, dec...  HP Spectre  \n",
       "4  Brand new sealed HP SPECTRE X360 i7 512gb 8gb ...  HP Spectre  "
      ]
     },
     "execution_count": 30,
     "metadata": {},
     "output_type": "execute_result"
    }
   ],
   "source": [
    "#merging all dataframes\n",
    "df_hp = pd.concat([df1, df2, df3], axis=0)\n",
    "df_mac = pd.concat([df4, df5], axis=0)\n",
    "df_dell = pd.concat([df6, df7, df8], axis=0)\n",
    "df_asus = pd.concat([df9, df10, df11], axis=0)\n",
    "df_lenovo = pd.concat([df12, df13], axis=0)\n",
    "df_acer = pd.concat([df14, df15, df16, df17], axis=0)\n",
    "df_all = pd.concat([df_hp, df_mac, df_dell, df_asus, df_lenovo, df_acer], axis=0)\n",
    "print(df_all.shape)\n",
    "df_all.head()"
   ]
  },
  {
   "cell_type": "code",
   "execution_count": 31,
   "metadata": {},
   "outputs": [],
   "source": [
    "#change column names to upper case\n",
    "df_all.columns = map(str.upper, df_all.columns)"
   ]
  },
  {
   "cell_type": "code",
   "execution_count": 33,
   "metadata": {},
   "outputs": [],
   "source": [
    "#saving the dataframe as csv\n",
    "df_all.to_csv(\"twitter_encoded.csv\", index = False, header=True, encoding='utf-8-sig')"
   ]
  }
 ],
 "metadata": {
  "kernelspec": {
   "display_name": "Python 3",
   "language": "python",
   "name": "python3"
  },
  "language_info": {
   "codemirror_mode": {
    "name": "ipython",
    "version": 3
   },
   "file_extension": ".py",
   "mimetype": "text/x-python",
   "name": "python",
   "nbconvert_exporter": "python",
   "pygments_lexer": "ipython3",
   "version": "3.7.4"
  }
 },
 "nbformat": 4,
 "nbformat_minor": 2
}
