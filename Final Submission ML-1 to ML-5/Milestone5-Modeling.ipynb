{
 "cells": [
  {
   "cell_type": "code",
   "execution_count": 1,
   "metadata": {},
   "outputs": [],
   "source": [
    "#import libraries\n",
    "import numpy as np \n",
    "import pandas as pd \n",
    "import re\n",
    "import nltk \n",
    "import matplotlib.pyplot as plt\n",
    "%matplotlib inline\n",
    "import seaborn as sns"
   ]
  },
  {
   "cell_type": "code",
   "execution_count": 2,
   "metadata": {},
   "outputs": [
    {
     "data": {
      "text/html": [
       "<div>\n",
       "<style scoped>\n",
       "    .dataframe tbody tr th:only-of-type {\n",
       "        vertical-align: middle;\n",
       "    }\n",
       "\n",
       "    .dataframe tbody tr th {\n",
       "        vertical-align: top;\n",
       "    }\n",
       "\n",
       "    .dataframe thead th {\n",
       "        text-align: right;\n",
       "    }\n",
       "</style>\n",
       "<table border=\"1\" class=\"dataframe\">\n",
       "  <thead>\n",
       "    <tr style=\"text-align: right;\">\n",
       "      <th></th>\n",
       "      <th>SCORE</th>\n",
       "      <th>ID</th>\n",
       "      <th>SUBREDDIT</th>\n",
       "      <th>NUM_COMMENTS</th>\n",
       "      <th>TIMESTAMP</th>\n",
       "      <th>TIME_OF_DAY</th>\n",
       "      <th>TEXT</th>\n",
       "      <th>NEG</th>\n",
       "      <th>NEU</th>\n",
       "      <th>POS</th>\n",
       "      <th>COMPOUND</th>\n",
       "      <th>SENTIMENTS</th>\n",
       "    </tr>\n",
       "  </thead>\n",
       "  <tbody>\n",
       "    <tr>\n",
       "      <th>0</th>\n",
       "      <td>45</td>\n",
       "      <td>g94qma</td>\n",
       "      <td>SuggestALaptop</td>\n",
       "      <td>0</td>\n",
       "      <td>2020/04/28 09:06:12</td>\n",
       "      <td>Morning</td>\n",
       "      <td>Ignore Private Messages Suggesting Laptops The...</td>\n",
       "      <td>0.079</td>\n",
       "      <td>0.812</td>\n",
       "      <td>0.108</td>\n",
       "      <td>0.7184</td>\n",
       "      <td>1</td>\n",
       "    </tr>\n",
       "    <tr>\n",
       "      <th>1</th>\n",
       "      <td>42</td>\n",
       "      <td>ekkvox</td>\n",
       "      <td>SuggestALaptop</td>\n",
       "      <td>2</td>\n",
       "      <td>2020/01/06 15:23:07</td>\n",
       "      <td>Afternoon</td>\n",
       "      <td>SuggestALaptop Stress Test Project! Submit Vie...</td>\n",
       "      <td>0.030</td>\n",
       "      <td>0.833</td>\n",
       "      <td>0.137</td>\n",
       "      <td>0.9408</td>\n",
       "      <td>1</td>\n",
       "    </tr>\n",
       "    <tr>\n",
       "      <th>2</th>\n",
       "      <td>16</td>\n",
       "      <td>gqt1pd</td>\n",
       "      <td>SuggestALaptop</td>\n",
       "      <td>15</td>\n",
       "      <td>2020/05/27 00:20:20</td>\n",
       "      <td>Night</td>\n",
       "      <td>I need a laptop for gaming coding video editin...</td>\n",
       "      <td>0.015</td>\n",
       "      <td>0.818</td>\n",
       "      <td>0.166</td>\n",
       "      <td>0.9883</td>\n",
       "      <td>1</td>\n",
       "    </tr>\n",
       "    <tr>\n",
       "      <th>3</th>\n",
       "      <td>5</td>\n",
       "      <td>gqv6vt</td>\n",
       "      <td>SuggestALaptop</td>\n",
       "      <td>1</td>\n",
       "      <td>2020/05/27 03:22:56</td>\n",
       "      <td>Night</td>\n",
       "      <td>So I can't buy this yet? If I can buy it where...</td>\n",
       "      <td>0.051</td>\n",
       "      <td>0.785</td>\n",
       "      <td>0.164</td>\n",
       "      <td>0.9577</td>\n",
       "      <td>1</td>\n",
       "    </tr>\n",
       "    <tr>\n",
       "      <th>4</th>\n",
       "      <td>16</td>\n",
       "      <td>gqp7ra</td>\n",
       "      <td>SuggestALaptop</td>\n",
       "      <td>30</td>\n",
       "      <td>2020/05/26 19:15:01</td>\n",
       "      <td>Evening</td>\n",
       "      <td>Alienware M15 vs Lenovo Y740? Any thoughts on ...</td>\n",
       "      <td>0.000</td>\n",
       "      <td>0.905</td>\n",
       "      <td>0.095</td>\n",
       "      <td>0.8753</td>\n",
       "      <td>1</td>\n",
       "    </tr>\n",
       "  </tbody>\n",
       "</table>\n",
       "</div>"
      ],
      "text/plain": [
       "   SCORE      ID       SUBREDDIT  NUM_COMMENTS            TIMESTAMP  \\\n",
       "0     45  g94qma  SuggestALaptop             0  2020/04/28 09:06:12   \n",
       "1     42  ekkvox  SuggestALaptop             2  2020/01/06 15:23:07   \n",
       "2     16  gqt1pd  SuggestALaptop            15  2020/05/27 00:20:20   \n",
       "3      5  gqv6vt  SuggestALaptop             1  2020/05/27 03:22:56   \n",
       "4     16  gqp7ra  SuggestALaptop            30  2020/05/26 19:15:01   \n",
       "\n",
       "  TIME_OF_DAY                                               TEXT    NEG  \\\n",
       "0     Morning  Ignore Private Messages Suggesting Laptops The...  0.079   \n",
       "1   Afternoon  SuggestALaptop Stress Test Project! Submit Vie...  0.030   \n",
       "2       Night  I need a laptop for gaming coding video editin...  0.015   \n",
       "3       Night  So I can't buy this yet? If I can buy it where...  0.051   \n",
       "4     Evening  Alienware M15 vs Lenovo Y740? Any thoughts on ...  0.000   \n",
       "\n",
       "     NEU    POS  COMPOUND  SENTIMENTS  \n",
       "0  0.812  0.108    0.7184           1  \n",
       "1  0.833  0.137    0.9408           1  \n",
       "2  0.818  0.166    0.9883           1  \n",
       "3  0.785  0.164    0.9577           1  \n",
       "4  0.905  0.095    0.8753           1  "
      ]
     },
     "execution_count": 2,
     "metadata": {},
     "output_type": "execute_result"
    }
   ],
   "source": [
    "#load the dataset\n",
    "#reddit dataset\n",
    "reddit = pd.read_csv('reddit_sentiments.csv')\n",
    "reddit.head()"
   ]
  },
  {
   "cell_type": "code",
   "execution_count": 3,
   "metadata": {},
   "outputs": [
    {
     "data": {
      "text/html": [
       "<div>\n",
       "<style scoped>\n",
       "    .dataframe tbody tr th:only-of-type {\n",
       "        vertical-align: middle;\n",
       "    }\n",
       "\n",
       "    .dataframe tbody tr th {\n",
       "        vertical-align: top;\n",
       "    }\n",
       "\n",
       "    .dataframe thead th {\n",
       "        text-align: right;\n",
       "    }\n",
       "</style>\n",
       "<table border=\"1\" class=\"dataframe\">\n",
       "  <thead>\n",
       "    <tr style=\"text-align: right;\">\n",
       "      <th></th>\n",
       "      <th>ID</th>\n",
       "      <th>SUBREDDIT</th>\n",
       "      <th>NEW_COMMENTS</th>\n",
       "      <th>NEG</th>\n",
       "      <th>NEU</th>\n",
       "      <th>POS</th>\n",
       "      <th>COMPOUND</th>\n",
       "      <th>SENTIMENTS</th>\n",
       "    </tr>\n",
       "  </thead>\n",
       "  <tbody>\n",
       "    <tr>\n",
       "      <th>0</th>\n",
       "      <td>ekkvox</td>\n",
       "      <td>SuggestALaptop</td>\n",
       "      <td>have questions our Discord Server is best way ...</td>\n",
       "      <td>0.124</td>\n",
       "      <td>0.598</td>\n",
       "      <td>0.278</td>\n",
       "      <td>0.8257</td>\n",
       "      <td>1</td>\n",
       "    </tr>\n",
       "    <tr>\n",
       "      <th>1</th>\n",
       "      <td>ekkvox</td>\n",
       "      <td>SuggestALaptop</td>\n",
       "      <td>Can anyone help me out purchasing a laptop for...</td>\n",
       "      <td>0.000</td>\n",
       "      <td>0.857</td>\n",
       "      <td>0.143</td>\n",
       "      <td>0.7059</td>\n",
       "      <td>1</td>\n",
       "    </tr>\n",
       "    <tr>\n",
       "      <th>2</th>\n",
       "      <td>gqt1pd</td>\n",
       "      <td>SuggestALaptop</td>\n",
       "      <td>Ask chewy</td>\n",
       "      <td>0.000</td>\n",
       "      <td>1.000</td>\n",
       "      <td>0.000</td>\n",
       "      <td>0.0000</td>\n",
       "      <td>0</td>\n",
       "    </tr>\n",
       "    <tr>\n",
       "      <th>3</th>\n",
       "      <td>gqt1pd</td>\n",
       "      <td>SuggestALaptop</td>\n",
       "      <td>Looks like a great deal at that price!</td>\n",
       "      <td>0.000</td>\n",
       "      <td>0.420</td>\n",
       "      <td>0.580</td>\n",
       "      <td>0.7840</td>\n",
       "      <td>1</td>\n",
       "    </tr>\n",
       "    <tr>\n",
       "      <th>4</th>\n",
       "      <td>gqt1pd</td>\n",
       "      <td>SuggestALaptop</td>\n",
       "      <td>Ideapad or yoga whatever they are called where...</td>\n",
       "      <td>0.000</td>\n",
       "      <td>1.000</td>\n",
       "      <td>0.000</td>\n",
       "      <td>0.0000</td>\n",
       "      <td>0</td>\n",
       "    </tr>\n",
       "  </tbody>\n",
       "</table>\n",
       "</div>"
      ],
      "text/plain": [
       "       ID       SUBREDDIT                                       NEW_COMMENTS  \\\n",
       "0  ekkvox  SuggestALaptop  have questions our Discord Server is best way ...   \n",
       "1  ekkvox  SuggestALaptop  Can anyone help me out purchasing a laptop for...   \n",
       "2  gqt1pd  SuggestALaptop                                          Ask chewy   \n",
       "3  gqt1pd  SuggestALaptop             Looks like a great deal at that price!   \n",
       "4  gqt1pd  SuggestALaptop  Ideapad or yoga whatever they are called where...   \n",
       "\n",
       "     NEG    NEU    POS  COMPOUND  SENTIMENTS  \n",
       "0  0.124  0.598  0.278    0.8257           1  \n",
       "1  0.000  0.857  0.143    0.7059           1  \n",
       "2  0.000  1.000  0.000    0.0000           0  \n",
       "3  0.000  0.420  0.580    0.7840           1  \n",
       "4  0.000  1.000  0.000    0.0000           0  "
      ]
     },
     "execution_count": 3,
     "metadata": {},
     "output_type": "execute_result"
    }
   ],
   "source": [
    "#comments under reddit post dataset\n",
    "comments = pd.read_csv('comments_sentiments.csv')\n",
    "comments.head()"
   ]
  },
  {
   "cell_type": "code",
   "execution_count": 4,
   "metadata": {},
   "outputs": [
    {
     "data": {
      "text/html": [
       "<div>\n",
       "<style scoped>\n",
       "    .dataframe tbody tr th:only-of-type {\n",
       "        vertical-align: middle;\n",
       "    }\n",
       "\n",
       "    .dataframe tbody tr th {\n",
       "        vertical-align: top;\n",
       "    }\n",
       "\n",
       "    .dataframe thead th {\n",
       "        text-align: right;\n",
       "    }\n",
       "</style>\n",
       "<table border=\"1\" class=\"dataframe\">\n",
       "  <thead>\n",
       "    <tr style=\"text-align: right;\">\n",
       "      <th></th>\n",
       "      <th>TIMESTAMP</th>\n",
       "      <th>MODEL</th>\n",
       "      <th>NEW_TEXT</th>\n",
       "      <th>TIME_OF_DAY</th>\n",
       "      <th>NEG</th>\n",
       "      <th>NEU</th>\n",
       "      <th>POS</th>\n",
       "      <th>COMPOUND</th>\n",
       "      <th>SENTIMENTS</th>\n",
       "    </tr>\n",
       "  </thead>\n",
       "  <tbody>\n",
       "    <tr>\n",
       "      <th>0</th>\n",
       "      <td>2020/05/28 19:30:02</td>\n",
       "      <td>HP Spectre</td>\n",
       "      <td>90s fun for the kids HP HPSpectre laptops comp...</td>\n",
       "      <td>Evening</td>\n",
       "      <td>0.000</td>\n",
       "      <td>0.784</td>\n",
       "      <td>0.216</td>\n",
       "      <td>0.7650</td>\n",
       "      <td>1</td>\n",
       "    </tr>\n",
       "    <tr>\n",
       "      <th>1</th>\n",
       "      <td>2020/05/28 04:38:28</td>\n",
       "      <td>HP Spectre</td>\n",
       "      <td>Save 200 on the HP Spectre x360 Now 1349.99! O...</td>\n",
       "      <td>Night</td>\n",
       "      <td>0.000</td>\n",
       "      <td>0.841</td>\n",
       "      <td>0.159</td>\n",
       "      <td>0.6467</td>\n",
       "      <td>1</td>\n",
       "    </tr>\n",
       "    <tr>\n",
       "      <th>2</th>\n",
       "      <td>2020/05/24 01:58:02</td>\n",
       "      <td>HP Spectre</td>\n",
       "      <td>Are you ready for a Change? Why not try an alt...</td>\n",
       "      <td>Night</td>\n",
       "      <td>0.000</td>\n",
       "      <td>0.882</td>\n",
       "      <td>0.118</td>\n",
       "      <td>0.5514</td>\n",
       "      <td>1</td>\n",
       "    </tr>\n",
       "    <tr>\n",
       "      <th>3</th>\n",
       "      <td>2020/05/22 22:38:01</td>\n",
       "      <td>HP Spectre</td>\n",
       "      <td>Amazon is under investigation in France declar...</td>\n",
       "      <td>Evening</td>\n",
       "      <td>0.117</td>\n",
       "      <td>0.843</td>\n",
       "      <td>0.040</td>\n",
       "      <td>-0.6476</td>\n",
       "      <td>-1</td>\n",
       "    </tr>\n",
       "    <tr>\n",
       "      <th>4</th>\n",
       "      <td>2020/05/20 11:40:37</td>\n",
       "      <td>HP Spectre</td>\n",
       "      <td>Brand new sealed HP SPECTRE X360 i7 512gb 8gb ...</td>\n",
       "      <td>Morning</td>\n",
       "      <td>0.000</td>\n",
       "      <td>1.000</td>\n",
       "      <td>0.000</td>\n",
       "      <td>0.0000</td>\n",
       "      <td>0</td>\n",
       "    </tr>\n",
       "  </tbody>\n",
       "</table>\n",
       "</div>"
      ],
      "text/plain": [
       "             TIMESTAMP       MODEL  \\\n",
       "0  2020/05/28 19:30:02  HP Spectre   \n",
       "1  2020/05/28 04:38:28  HP Spectre   \n",
       "2  2020/05/24 01:58:02  HP Spectre   \n",
       "3  2020/05/22 22:38:01  HP Spectre   \n",
       "4  2020/05/20 11:40:37  HP Spectre   \n",
       "\n",
       "                                            NEW_TEXT TIME_OF_DAY    NEG  \\\n",
       "0  90s fun for the kids HP HPSpectre laptops comp...     Evening  0.000   \n",
       "1  Save 200 on the HP Spectre x360 Now 1349.99! O...       Night  0.000   \n",
       "2  Are you ready for a Change? Why not try an alt...       Night  0.000   \n",
       "3  Amazon is under investigation in France declar...     Evening  0.117   \n",
       "4  Brand new sealed HP SPECTRE X360 i7 512gb 8gb ...     Morning  0.000   \n",
       "\n",
       "     NEU    POS  COMPOUND  SENTIMENTS  \n",
       "0  0.784  0.216    0.7650           1  \n",
       "1  0.841  0.159    0.6467           1  \n",
       "2  0.882  0.118    0.5514           1  \n",
       "3  0.843  0.040   -0.6476          -1  \n",
       "4  1.000  0.000    0.0000           0  "
      ]
     },
     "execution_count": 4,
     "metadata": {},
     "output_type": "execute_result"
    }
   ],
   "source": [
    "#twitter dataset\n",
    "twitter = pd.read_csv('twitter_sentiments.csv')\n",
    "twitter.head()"
   ]
  },
  {
   "cell_type": "code",
   "execution_count": 5,
   "metadata": {
    "scrolled": true
   },
   "outputs": [
    {
     "name": "stdout",
     "output_type": "stream",
     "text": [
      "(5979, 3)\n",
      "(14465, 3)\n",
      "(24102, 3)\n",
      "\n",
      "\n",
      "(44546, 3)\n"
     ]
    },
    {
     "data": {
      "text/html": [
       "<div>\n",
       "<style scoped>\n",
       "    .dataframe tbody tr th:only-of-type {\n",
       "        vertical-align: middle;\n",
       "    }\n",
       "\n",
       "    .dataframe tbody tr th {\n",
       "        vertical-align: top;\n",
       "    }\n",
       "\n",
       "    .dataframe thead th {\n",
       "        text-align: right;\n",
       "    }\n",
       "</style>\n",
       "<table border=\"1\" class=\"dataframe\">\n",
       "  <thead>\n",
       "    <tr style=\"text-align: right;\">\n",
       "      <th></th>\n",
       "      <th>MODEL</th>\n",
       "      <th>TEXT</th>\n",
       "      <th>SENTIMENTS</th>\n",
       "    </tr>\n",
       "  </thead>\n",
       "  <tbody>\n",
       "    <tr>\n",
       "      <th>0</th>\n",
       "      <td>SuggestALaptop</td>\n",
       "      <td>Ignore Private Messages Suggesting Laptops The...</td>\n",
       "      <td>1</td>\n",
       "    </tr>\n",
       "    <tr>\n",
       "      <th>1</th>\n",
       "      <td>SuggestALaptop</td>\n",
       "      <td>SuggestALaptop Stress Test Project! Submit Vie...</td>\n",
       "      <td>1</td>\n",
       "    </tr>\n",
       "    <tr>\n",
       "      <th>2</th>\n",
       "      <td>SuggestALaptop</td>\n",
       "      <td>I need a laptop for gaming coding video editin...</td>\n",
       "      <td>1</td>\n",
       "    </tr>\n",
       "    <tr>\n",
       "      <th>3</th>\n",
       "      <td>SuggestALaptop</td>\n",
       "      <td>So I can't buy this yet? If I can buy it where...</td>\n",
       "      <td>1</td>\n",
       "    </tr>\n",
       "    <tr>\n",
       "      <th>4</th>\n",
       "      <td>SuggestALaptop</td>\n",
       "      <td>Alienware M15 vs Lenovo Y740? Any thoughts on ...</td>\n",
       "      <td>1</td>\n",
       "    </tr>\n",
       "  </tbody>\n",
       "</table>\n",
       "</div>"
      ],
      "text/plain": [
       "            MODEL                                               TEXT  \\\n",
       "0  SuggestALaptop  Ignore Private Messages Suggesting Laptops The...   \n",
       "1  SuggestALaptop  SuggestALaptop Stress Test Project! Submit Vie...   \n",
       "2  SuggestALaptop  I need a laptop for gaming coding video editin...   \n",
       "3  SuggestALaptop  So I can't buy this yet? If I can buy it where...   \n",
       "4  SuggestALaptop  Alienware M15 vs Lenovo Y740? Any thoughts on ...   \n",
       "\n",
       "   SENTIMENTS  \n",
       "0           1  \n",
       "1           1  \n",
       "2           1  \n",
       "3           1  \n",
       "4           1  "
      ]
     },
     "execution_count": 5,
     "metadata": {},
     "output_type": "execute_result"
    }
   ],
   "source": [
    "#merge all the text and sentiments columns\n",
    "df1 = reddit[['SUBREDDIT', 'TEXT', 'SENTIMENTS']]\n",
    "df1.columns = ['MODEL', 'TEXT', 'SENTIMENTS']\n",
    "df2 = comments[['SUBREDDIT', 'NEW_COMMENTS', 'SENTIMENTS']]\n",
    "df2.columns = ['MODEL', 'TEXT', 'SENTIMENTS']\n",
    "df3 = twitter[['MODEL', 'NEW_TEXT', 'SENTIMENTS']]\n",
    "df3.columns = ['MODEL', 'TEXT', 'SENTIMENTS']\n",
    "print(df1.shape)\n",
    "print(df2.shape)\n",
    "print(df3.shape)\n",
    "print('\\n')\n",
    "\n",
    "text_df = pd.concat([df1,df2,df3])\n",
    "#text_df.to_csv(\"Sentiment_data.csv\")\n",
    "print(text_df.shape)\n",
    "text_df.head()"
   ]
  },
  {
   "cell_type": "markdown",
   "metadata": {},
   "source": [
    "## Data exploration"
   ]
  },
  {
   "cell_type": "code",
   "execution_count": 7,
   "metadata": {},
   "outputs": [
    {
     "name": "stdout",
     "output_type": "stream",
     "text": [
      "6.0\n",
      "4.0\n"
     ]
    }
   ],
   "source": [
    "#settings for plot\n",
    "plot_size = plt.rcParams[\"figure.figsize\"] \n",
    "print(plot_size[0]) \n",
    "print(plot_size[1])\n",
    "\n",
    "plot_size[0] = 12\n",
    "plot_size[1] = 10\n",
    "plt.rcParams[\"figure.figsize\"] = plot_size "
   ]
  },
  {
   "cell_type": "code",
   "execution_count": 8,
   "metadata": {
    "scrolled": false
   },
   "outputs": [
    {
     "data": {
      "image/png": "[encoded data removed]",
      "text/plain": [
       "<Figure size 864x720 with 1 Axes>"
      ]
     },
     "metadata": {},
     "output_type": "display_data"
    }
   ],
   "source": [
    "text_df.MODEL.value_counts().plot(kind='pie', autopct='%1.0f%%')\n",
    "plt.show()"
   ]
  },
  {
   "cell_type": "code",
   "execution_count": 9,
   "metadata": {},
   "outputs": [
    {
     "data": {
      "image/png": "[encoded data removed]",
      "text/plain": [
       "<Figure size 864x720 with 1 Axes>"
      ]
     },
     "metadata": {},
     "output_type": "display_data"
    }
   ],
   "source": [
    "text_df.SENTIMENTS.value_counts().plot(kind='pie', autopct='%1.0f%%')\n",
    "plt.show()"
   ]
  },
  {
   "cell_type": "markdown",
   "metadata": {},
   "source": [
    "Sentiments column description:\n",
    "* 1 - Positive sentiments\n",
    "* 0 - Neutral sentiments\n",
    "* -1 - Negative sentiments"
   ]
  },
  {
   "cell_type": "code",
   "execution_count": 10,
   "metadata": {
    "scrolled": false
   },
   "outputs": [
    {
     "data": {
      "image/png": "[encoded data removed]",
      "text/plain": [
       "<Figure size 864x720 with 1 Axes>"
      ]
     },
     "metadata": {
      "needs_background": "light"
     },
     "output_type": "display_data"
    }
   ],
   "source": [
    "laptop_sentiment = text_df.groupby(['MODEL', 'SENTIMENTS']).SENTIMENTS.count().unstack()\n",
    "laptop_sentiment.plot(kind='bar')\n",
    "plt.show()"
   ]
  },
  {
   "cell_type": "code",
   "execution_count": 11,
   "metadata": {},
   "outputs": [],
   "source": [
    "#feature selection\n",
    "features = text_df.iloc[:, 1].values\n",
    "labels = text_df.iloc[:, 2].values"
   ]
  },
  {
   "cell_type": "code",
   "execution_count": 12,
   "metadata": {},
   "outputs": [],
   "source": [
    "#simple data cleaning\n",
    "processed_features = []\n",
    "\n",
    "for sentence in range(0, len(features)):\n",
    "    # Remove all the special characters\n",
    "    processed_feature = re.sub(r'\\W', ' ', str(features[sentence]))\n",
    "    \n",
    "    # Remove numbers\n",
    "    processed_feature = re.sub(r'[0-9]+', ' ', processed_feature)\n",
    "\n",
    "    # Remove all single characters\n",
    "    processed_feature= re.sub(r'\\s+[a-zA-Z]\\s+', ' ', processed_feature)\n",
    "\n",
    "    # Remove single characters from the start\n",
    "    processed_feature = re.sub(r'\\^[a-zA-Z]\\s+', ' ', processed_feature) \n",
    "\n",
    "    # Substituting multiple spaces with single space\n",
    "    processed_feature = re.sub(r'\\s+', ' ', processed_feature, flags=re.I)\n",
    "\n",
    "    # Removing prefixed 'b'\n",
    "    processed_feature = re.sub(r'^b\\s+', '', processed_feature)\n",
    "\n",
    "    # Converting to Lowercase\n",
    "    processed_feature = processed_feature.lower()\n",
    "\n",
    "    processed_features.append(processed_feature)\n",
    "    \n",
    "processed_features = pd.DataFrame(processed_features)\n",
    "processed_features.columns = ['TEXT']"
   ]
  },
  {
   "cell_type": "code",
   "execution_count": 13,
   "metadata": {},
   "outputs": [
    {
     "data": {
      "text/html": [
       "<div>\n",
       "<style scoped>\n",
       "    .dataframe tbody tr th:only-of-type {\n",
       "        vertical-align: middle;\n",
       "    }\n",
       "\n",
       "    .dataframe tbody tr th {\n",
       "        vertical-align: top;\n",
       "    }\n",
       "\n",
       "    .dataframe thead th {\n",
       "        text-align: right;\n",
       "    }\n",
       "</style>\n",
       "<table border=\"1\" class=\"dataframe\">\n",
       "  <thead>\n",
       "    <tr style=\"text-align: right;\">\n",
       "      <th></th>\n",
       "      <th>TEXT</th>\n",
       "    </tr>\n",
       "  </thead>\n",
       "  <tbody>\n",
       "    <tr>\n",
       "      <th>0</th>\n",
       "      <td>ignore private messages suggesting laptops the...</td>\n",
       "    </tr>\n",
       "    <tr>\n",
       "      <th>1</th>\n",
       "      <td>suggestalaptop stress test project submit view...</td>\n",
       "    </tr>\n",
       "    <tr>\n",
       "      <th>2</th>\n",
       "      <td>i need laptop for gaming coding video editing ...</td>\n",
       "    </tr>\n",
       "    <tr>\n",
       "      <th>3</th>\n",
       "      <td>so can buy this yet if can buy it where do fin...</td>\n",
       "    </tr>\n",
       "    <tr>\n",
       "      <th>4</th>\n",
       "      <td>alienware vs lenovo any thoughts on which is p...</td>\n",
       "    </tr>\n",
       "  </tbody>\n",
       "</table>\n",
       "</div>"
      ],
      "text/plain": [
       "                                                TEXT\n",
       "0  ignore private messages suggesting laptops the...\n",
       "1  suggestalaptop stress test project submit view...\n",
       "2  i need laptop for gaming coding video editing ...\n",
       "3  so can buy this yet if can buy it where do fin...\n",
       "4  alienware vs lenovo any thoughts on which is p..."
      ]
     },
     "execution_count": 13,
     "metadata": {},
     "output_type": "execute_result"
    }
   ],
   "source": [
    "processed_features.head()"
   ]
  },
  {
   "cell_type": "markdown",
   "metadata": {},
   "source": [
    "## Text normalization"
   ]
  },
  {
   "cell_type": "code",
   "execution_count": 14,
   "metadata": {},
   "outputs": [
    {
     "name": "stdout",
     "output_type": "stream",
     "text": [
      "0    [ignore, private, messages, suggesting, laptop...\n",
      "1    [suggestalaptop, stress, test, project, submit...\n",
      "2    [i, need, laptop, for, gaming, coding, video, ...\n",
      "3    [so, can, buy, this, yet, if, can, buy, it, wh...\n",
      "4    [alienware, vs, lenovo, any, thoughts, on, whi...\n",
      "Name: TEXT, dtype: object\n"
     ]
    }
   ],
   "source": [
    "#tokenizing\n",
    "tokenized_features = processed_features['TEXT'].apply(lambda x: x.split())\n",
    "print(tokenized_features.head())"
   ]
  },
  {
   "cell_type": "code",
   "execution_count": 15,
   "metadata": {},
   "outputs": [],
   "source": [
    "#stemming\n",
    "from nltk.stem.porter import *\n",
    "\n",
    "stemmer = PorterStemmer()\n",
    "tokenized_features = tokenized_features.apply(lambda x: [stemmer.stem(i) for i in x])"
   ]
  },
  {
   "cell_type": "code",
   "execution_count": 16,
   "metadata": {},
   "outputs": [],
   "source": [
    "#stitch the tokens back together\n",
    "for i in range(len(tokenized_features)):\n",
    "    tokenized_features[i] = ' '.join(tokenized_features[i])\n",
    "    \n",
    "processed_features['TEXT'] = tokenized_features"
   ]
  },
  {
   "cell_type": "code",
   "execution_count": 17,
   "metadata": {},
   "outputs": [
    {
     "name": "stdout",
     "output_type": "stream",
     "text": [
      "(44546, 2500)\n"
     ]
    }
   ],
   "source": [
    "#Term Frequency and Inverse Document Frequency(TF-IDF)\n",
    "from sklearn.feature_extraction.text import TfidfVectorizer\n",
    "\n",
    "tfidf_vectorizer = TfidfVectorizer(max_features=2500, min_df=7, max_df=0.8, stop_words='english')\n",
    "processed_features = tfidf_vectorizer.fit_transform(processed_features['TEXT'])\n",
    "print(processed_features.shape)"
   ]
  },
  {
   "cell_type": "code",
   "execution_count": 18,
   "metadata": {},
   "outputs": [],
   "source": [
    "#splitting training and testing set\n",
    "#import library\n",
    "from sklearn.model_selection import train_test_split\n",
    "\n",
    "X_train, X_test, y_train, y_test = train_test_split(processed_features[:44546,:], labels, test_size=0.3, random_state=42)"
   ]
  },
  {
   "cell_type": "markdown",
   "metadata": {},
   "source": [
    "## Building the model\n",
    "These are the list of algorithms used for modeling text classifier:\n",
    "1. Logistic Regression\n",
    "2. Random Forest\n",
    "3. Gaussian Naive Bayes\n",
    "4. Support Vector Machine\n",
    "5. XGBoost"
   ]
  },
  {
   "cell_type": "markdown",
   "metadata": {},
   "source": [
    "### 1. Logistic Regression"
   ]
  },
  {
   "cell_type": "code",
   "execution_count": 19,
   "metadata": {},
   "outputs": [
    {
     "name": "stderr",
     "output_type": "stream",
     "text": [
      "/Users/sidratulmuntaha/anaconda3/lib/python3.7/site-packages/sklearn/linear_model/_logistic.py:940: ConvergenceWarning: lbfgs failed to converge (status=1):\n",
      "STOP: TOTAL NO. of ITERATIONS REACHED LIMIT.\n",
      "\n",
      "Increase the number of iterations (max_iter) or scale the data as shown in:\n",
      "    https://scikit-learn.org/stable/modules/preprocessing.html\n",
      "Please also refer to the documentation for alternative solver options:\n",
      "    https://scikit-learn.org/stable/modules/linear_model.html#logistic-regression\n",
      "  extra_warning_msg=_LOGISTIC_SOLVER_CONVERGENCE_MSG)\n"
     ]
    },
    {
     "data": {
      "text/plain": [
       "LogisticRegression(C=1.0, class_weight=None, dual=False, fit_intercept=True,\n",
       "                   intercept_scaling=1, l1_ratio=None, max_iter=100,\n",
       "                   multi_class='auto', n_jobs=None, penalty='l2',\n",
       "                   random_state=None, solver='lbfgs', tol=0.0001, verbose=0,\n",
       "                   warm_start=False)"
      ]
     },
     "execution_count": 19,
     "metadata": {},
     "output_type": "execute_result"
    }
   ],
   "source": [
    "#training the model\n",
    "#import library\n",
    "from sklearn.linear_model import LogisticRegression\n",
    "\n",
    "log_reg = LogisticRegression()\n",
    "log_reg.fit(X_train, y_train)"
   ]
  },
  {
   "cell_type": "code",
   "execution_count": 20,
   "metadata": {},
   "outputs": [],
   "source": [
    "#making predictions\n",
    "predictions_lr = log_reg.predict(X_test)"
   ]
  },
  {
   "cell_type": "code",
   "execution_count": 21,
   "metadata": {},
   "outputs": [
    {
     "name": "stdout",
     "output_type": "stream",
     "text": [
      "Accuracy of Logistic Regression model :  85.64\n",
      "F1-score of Logistic Regression model :  78.8\n"
     ]
    }
   ],
   "source": [
    "#calculating the accuracy\n",
    "#import libraries\n",
    "from sklearn.metrics import accuracy_score\n",
    "from sklearn.metrics import f1_score\n",
    "\n",
    "acc_lr = round(accuracy_score(y_test, predictions_lr) * 100, 2)\n",
    "fsc_lr = round(f1_score(y_test, predictions_lr, average='macro') * 100, 2)\n",
    "print('Accuracy of Logistic Regression model : ', acc_lr)\n",
    "print('F1-score of Logistic Regression model : ', fsc_lr)"
   ]
  },
  {
   "cell_type": "markdown",
   "metadata": {},
   "source": [
    "### 2. Random Forest"
   ]
  },
  {
   "cell_type": "code",
   "execution_count": 22,
   "metadata": {},
   "outputs": [
    {
     "data": {
      "text/plain": [
       "RandomForestClassifier(bootstrap=True, ccp_alpha=0.0, class_weight=None,\n",
       "                       criterion='gini', max_depth=None, max_features='auto',\n",
       "                       max_leaf_nodes=None, max_samples=None,\n",
       "                       min_impurity_decrease=0.0, min_impurity_split=None,\n",
       "                       min_samples_leaf=1, min_samples_split=2,\n",
       "                       min_weight_fraction_leaf=0.0, n_estimators=400,\n",
       "                       n_jobs=None, oob_score=False, random_state=11, verbose=0,\n",
       "                       warm_start=False)"
      ]
     },
     "execution_count": 22,
     "metadata": {},
     "output_type": "execute_result"
    }
   ],
   "source": [
    "#training the model\n",
    "#import library\n",
    "from sklearn.ensemble import RandomForestClassifier\n",
    "\n",
    "text_classifier = RandomForestClassifier(n_estimators=400, random_state=11)\n",
    "text_classifier.fit(X_train, y_train)"
   ]
  },
  {
   "cell_type": "code",
   "execution_count": 23,
   "metadata": {},
   "outputs": [],
   "source": [
    "#making predictions\n",
    "predictions_rf = text_classifier.predict(X_test)"
   ]
  },
  {
   "cell_type": "code",
   "execution_count": 24,
   "metadata": {},
   "outputs": [
    {
     "name": "stdout",
     "output_type": "stream",
     "text": [
      "Accuracy of Random Forest model :  83.99\n",
      "F1-score of Random Forest model :  71.74\n"
     ]
    }
   ],
   "source": [
    "#calculating the accuracy\n",
    "acc_rf = round(accuracy_score(y_test, predictions_rf) * 100, 2)\n",
    "fsc_rf = round(f1_score(y_test, predictions_rf, average='macro') * 100, 2)\n",
    "print('Accuracy of Random Forest model : ', acc_rf)\n",
    "print('F1-score of Random Forest model : ', fsc_rf)"
   ]
  },
  {
   "cell_type": "markdown",
   "metadata": {},
   "source": [
    "### 3. Gaussian Naive Bayes"
   ]
  },
  {
   "cell_type": "code",
   "execution_count": 25,
   "metadata": {},
   "outputs": [
    {
     "data": {
      "text/plain": [
       "GaussianNB(priors=None, var_smoothing=1e-09)"
      ]
     },
     "execution_count": 25,
     "metadata": {},
     "output_type": "execute_result"
    }
   ],
   "source": [
    "#import library\n",
    "from sklearn.naive_bayes import GaussianNB \n",
    "\n",
    "model = GaussianNB()                       \n",
    "model.fit(X_train.toarray(), y_train)             "
   ]
  },
  {
   "cell_type": "code",
   "execution_count": 26,
   "metadata": {},
   "outputs": [],
   "source": [
    "#making predictions\n",
    "predictions_nb = model.predict(X_test.toarray())"
   ]
  },
  {
   "cell_type": "code",
   "execution_count": 27,
   "metadata": {},
   "outputs": [
    {
     "name": "stdout",
     "output_type": "stream",
     "text": [
      "Accuracy of Gaussian Naive Bayes model :  62.46\n",
      "F1-score of Gaussian Naive Bayes model :  57.72\n"
     ]
    }
   ],
   "source": [
    "#calculating the accuracy\n",
    "acc_nb = round(accuracy_score(y_test, predictions_nb) * 100, 2)\n",
    "fsc_nb = round(f1_score(y_test, predictions_nb, average='macro') * 100, 2)\n",
    "print('Accuracy of Gaussian Naive Bayes model : ', acc_nb)\n",
    "print('F1-score of Gaussian Naive Bayes model : ', fsc_nb)"
   ]
  },
  {
   "cell_type": "markdown",
   "metadata": {},
   "source": [
    "### 4. Support Vector Machine"
   ]
  },
  {
   "cell_type": "code",
   "execution_count": 28,
   "metadata": {},
   "outputs": [
    {
     "data": {
      "text/plain": [
       "SVC(C=1, break_ties=False, cache_size=200, class_weight=None, coef0=0.0,\n",
       "    decision_function_shape='ovr', degree=3, gamma='scale', kernel='linear',\n",
       "    max_iter=-1, probability=True, random_state=None, shrinking=True, tol=0.001,\n",
       "    verbose=False)"
      ]
     },
     "execution_count": 28,
     "metadata": {},
     "output_type": "execute_result"
    }
   ],
   "source": [
    "#import library\n",
    "from sklearn import svm\n",
    "\n",
    "svc = svm.SVC(kernel='linear', C=1, probability=True)\n",
    "svc.fit(X_train, y_train)"
   ]
  },
  {
   "cell_type": "code",
   "execution_count": 29,
   "metadata": {},
   "outputs": [],
   "source": [
    "#making predictions\n",
    "predictions_svm = svc.predict(X_test)"
   ]
  },
  {
   "cell_type": "code",
   "execution_count": 30,
   "metadata": {},
   "outputs": [
    {
     "name": "stdout",
     "output_type": "stream",
     "text": [
      "Accuracy of Support Vector Machine model :  87.01\n",
      "F1-score of Support Vector Machine model :  81.23\n"
     ]
    }
   ],
   "source": [
    "#calculating the accuracy\n",
    "acc_svm = round(accuracy_score(y_test, predictions_svm) * 100, 2)\n",
    "fsc_svm = round(f1_score(y_test, predictions_svm, average='macro') * 100, 2)\n",
    "print('Accuracy of Support Vector Machine model : ', acc_svm)\n",
    "print('F1-score of Support Vector Machine model : ', fsc_svm)"
   ]
  },
  {
   "cell_type": "markdown",
   "metadata": {},
   "source": [
    "### 5. XGBoost"
   ]
  },
  {
   "cell_type": "code",
   "execution_count": 31,
   "metadata": {},
   "outputs": [
    {
     "data": {
      "text/plain": [
       "XGBClassifier(base_score=0.5, booster='gbtree', colsample_bylevel=1,\n",
       "              colsample_bynode=1, colsample_bytree=1, gamma=0, gpu_id=-1,\n",
       "              importance_type='gain', interaction_constraints='',\n",
       "              learning_rate=0.300000012, max_delta_step=0, max_depth=6,\n",
       "              min_child_weight=1, missing=nan, monotone_constraints='()',\n",
       "              n_estimators=1000, n_jobs=0, num_parallel_tree=1,\n",
       "              objective='multi:softprob', random_state=0, reg_alpha=0,\n",
       "              reg_lambda=1, scale_pos_weight=None, subsample=1,\n",
       "              tree_method='exact', validate_parameters=1, verbosity=None)"
      ]
     },
     "execution_count": 31,
     "metadata": {},
     "output_type": "execute_result"
    }
   ],
   "source": [
    "#import library\n",
    "from xgboost import XGBClassifier\n",
    "\n",
    "xgb = XGBClassifier(max_depth=6, n_estimators=1000)\n",
    "xgb.fit(X_train, y_train)"
   ]
  },
  {
   "cell_type": "code",
   "execution_count": 32,
   "metadata": {},
   "outputs": [],
   "source": [
    "# Prediction on test data\n",
    "predictions_xgb = xgb.predict(X_test)"
   ]
  },
  {
   "cell_type": "code",
   "execution_count": 33,
   "metadata": {},
   "outputs": [
    {
     "name": "stdout",
     "output_type": "stream",
     "text": [
      "Accuracy of XGBoost model :  87.94\n",
      "F1-score of XGBoost model :  81.93\n"
     ]
    }
   ],
   "source": [
    "#calculating the accuracy\n",
    "acc_xgb = round(accuracy_score(y_test, predictions_xgb) * 100, 2)\n",
    "fsc_xgb = round(f1_score(y_test, predictions_xgb, average='macro') * 100, 2)\n",
    "print('Accuracy of XGBoost model : ', acc_xgb)\n",
    "print('F1-score of XGBoost model : ', fsc_xgb)"
   ]
  },
  {
   "cell_type": "markdown",
   "metadata": {},
   "source": [
    "## Model evaluation"
   ]
  },
  {
   "cell_type": "code",
   "execution_count": 34,
   "metadata": {},
   "outputs": [
    {
     "name": "stdout",
     "output_type": "stream",
     "text": [
      "Confusion matrix for Logistic Regression model:\n",
      "[[ 798  378  476]\n",
      " [  65 5670  285]\n",
      " [ 173  542 4977]]\n",
      "Classification report for Logistic Regression model:\n",
      "              precision    recall  f1-score   support\n",
      "\n",
      "          -1       0.77      0.48      0.59      1652\n",
      "           0       0.86      0.94      0.90      6020\n",
      "           1       0.87      0.87      0.87      5692\n",
      "\n",
      "    accuracy                           0.86     13364\n",
      "   macro avg       0.83      0.77      0.79     13364\n",
      "weighted avg       0.85      0.86      0.85     13364\n",
      "\n",
      "\n",
      "\n",
      "Confusion matrix for Random Forest model:\n",
      "[[ 426  300  926]\n",
      " [  28 5522  470]\n",
      " [  61  355 5276]]\n",
      "Classification report for Random Forest model:\n",
      "              precision    recall  f1-score   support\n",
      "\n",
      "          -1       0.83      0.26      0.39      1652\n",
      "           0       0.89      0.92      0.91      6020\n",
      "           1       0.79      0.93      0.85      5692\n",
      "\n",
      "    accuracy                           0.84     13364\n",
      "   macro avg       0.84      0.70      0.72     13364\n",
      "weighted avg       0.84      0.84      0.82     13364\n",
      "\n",
      "\n",
      "\n",
      "Confusion matrix for Gaussian Naive Bayes model:\n",
      "[[1278  203  171]\n",
      " [ 860 4967  193]\n",
      " [2727  863 2102]]\n",
      "Classification report for Gaussian Naive Bayes model:\n",
      "              precision    recall  f1-score   support\n",
      "\n",
      "          -1       0.26      0.77      0.39      1652\n",
      "           0       0.82      0.83      0.82      6020\n",
      "           1       0.85      0.37      0.52      5692\n",
      "\n",
      "    accuracy                           0.62     13364\n",
      "   macro avg       0.65      0.66      0.58     13364\n",
      "weighted avg       0.77      0.62      0.64     13364\n",
      "\n",
      "\n",
      "\n",
      "Confusion matrix for Support Vector Machine model:\n",
      "[[ 913  275  464]\n",
      " [  61 5658  301]\n",
      " [ 207  428 5057]]\n",
      "Classification report for Support Vector Machine model:\n",
      "              precision    recall  f1-score   support\n",
      "\n",
      "          -1       0.77      0.55      0.64      1652\n",
      "           0       0.89      0.94      0.91      6020\n",
      "           1       0.87      0.89      0.88      5692\n",
      "\n",
      "    accuracy                           0.87     13364\n",
      "   macro avg       0.84      0.79      0.81     13364\n",
      "weighted avg       0.87      0.87      0.87     13364\n",
      "\n",
      "\n",
      "\n",
      "Confusion matrix for XGBoost model:\n",
      "[[ 929  251  472]\n",
      " [  90 5687  243]\n",
      " [ 218  338 5136]]\n",
      "Classification report for XGBoost model:\n",
      "              precision    recall  f1-score   support\n",
      "\n",
      "          -1       0.75      0.56      0.64      1652\n",
      "           0       0.91      0.94      0.93      6020\n",
      "           1       0.88      0.90      0.89      5692\n",
      "\n",
      "    accuracy                           0.88     13364\n",
      "   macro avg       0.84      0.80      0.82     13364\n",
      "weighted avg       0.87      0.88      0.88     13364\n",
      "\n",
      "\n",
      "\n"
     ]
    }
   ],
   "source": [
    "#evaluating the model\n",
    "#import library\n",
    "from sklearn.metrics import classification_report, confusion_matrix\n",
    "\n",
    "print('Confusion matrix for Logistic Regression model:')\n",
    "print(confusion_matrix(y_test, predictions_lr))\n",
    "print('Classification report for Logistic Regression model:')\n",
    "print(classification_report(y_test, predictions_lr))\n",
    "print('\\n')\n",
    "print('Confusion matrix for Random Forest model:')\n",
    "print(confusion_matrix(y_test, predictions_rf))\n",
    "print('Classification report for Random Forest model:')\n",
    "print(classification_report(y_test, predictions_rf))\n",
    "print('\\n')\n",
    "print('Confusion matrix for Gaussian Naive Bayes model:')\n",
    "print(confusion_matrix(y_test, predictions_nb))\n",
    "print('Classification report for Gaussian Naive Bayes model:')\n",
    "print(classification_report(y_test, predictions_nb))\n",
    "print('\\n')\n",
    "print('Confusion matrix for Support Vector Machine model:')\n",
    "print(confusion_matrix(y_test, predictions_svm))\n",
    "print('Classification report for Support Vector Machine model:')\n",
    "print(classification_report(y_test, predictions_svm))\n",
    "print('\\n')\n",
    "print('Confusion matrix for XGBoost model:')\n",
    "print(confusion_matrix(y_test, predictions_xgb))\n",
    "print('Classification report for XGBoost model:')\n",
    "print(classification_report(y_test, predictions_xgb))\n",
    "print('\\n')"
   ]
  },
  {
   "cell_type": "markdown",
   "metadata": {},
   "source": [
    "## Model Comparison"
   ]
  },
  {
   "cell_type": "code",
   "execution_count": 35,
   "metadata": {},
   "outputs": [
    {
     "data": {
      "text/html": [
       "<div>\n",
       "<style scoped>\n",
       "    .dataframe tbody tr th:only-of-type {\n",
       "        vertical-align: middle;\n",
       "    }\n",
       "\n",
       "    .dataframe tbody tr th {\n",
       "        vertical-align: top;\n",
       "    }\n",
       "\n",
       "    .dataframe thead th {\n",
       "        text-align: right;\n",
       "    }\n",
       "</style>\n",
       "<table border=\"1\" class=\"dataframe\">\n",
       "  <thead>\n",
       "    <tr style=\"text-align: right;\">\n",
       "      <th></th>\n",
       "      <th>Model</th>\n",
       "      <th>Accuracy Score</th>\n",
       "      <th>F1-Score</th>\n",
       "    </tr>\n",
       "  </thead>\n",
       "  <tbody>\n",
       "    <tr>\n",
       "      <th>0</th>\n",
       "      <td>Logistic Regression</td>\n",
       "      <td>85.64</td>\n",
       "      <td>78.80</td>\n",
       "    </tr>\n",
       "    <tr>\n",
       "      <th>1</th>\n",
       "      <td>Random Forest</td>\n",
       "      <td>83.99</td>\n",
       "      <td>71.74</td>\n",
       "    </tr>\n",
       "    <tr>\n",
       "      <th>2</th>\n",
       "      <td>Gaussian Naive Bayes</td>\n",
       "      <td>62.46</td>\n",
       "      <td>57.72</td>\n",
       "    </tr>\n",
       "    <tr>\n",
       "      <th>3</th>\n",
       "      <td>Support Vector Machine</td>\n",
       "      <td>87.01</td>\n",
       "      <td>81.23</td>\n",
       "    </tr>\n",
       "    <tr>\n",
       "      <th>4</th>\n",
       "      <td>XGBoost</td>\n",
       "      <td>87.94</td>\n",
       "      <td>81.93</td>\n",
       "    </tr>\n",
       "  </tbody>\n",
       "</table>\n",
       "</div>"
      ],
      "text/plain": [
       "                    Model  Accuracy Score  F1-Score\n",
       "0     Logistic Regression           85.64     78.80\n",
       "1           Random Forest           83.99     71.74\n",
       "2    Gaussian Naive Bayes           62.46     57.72\n",
       "3  Support Vector Machine           87.01     81.23\n",
       "4                 XGBoost           87.94     81.93"
      ]
     },
     "execution_count": 35,
     "metadata": {},
     "output_type": "execute_result"
    }
   ],
   "source": [
    "#comparison of the models\n",
    "models = pd.DataFrame({\n",
    "    'Model': ['Logistic Regression', 'Random Forest', 'Gaussian Naive Bayes', 'Support Vector Machine', 'XGBoost'],\n",
    "    'Accuracy Score': [acc_lr, acc_rf, acc_nb, acc_svm, acc_xgb], \n",
    "    'F1-Score': [fsc_lr, fsc_rf, fsc_nb, fsc_svm, fsc_xgb]})\n",
    "models"
   ]
  },
  {
   "cell_type": "markdown",
   "metadata": {},
   "source": [
    "## Save the model"
   ]
  },
  {
   "cell_type": "code",
   "execution_count": 40,
   "metadata": {},
   "outputs": [],
   "source": [
    "#import library\n",
    "import pickle\n",
    "\n",
    "#pickling the vectorizer\n",
    "pickle.dump(tfidf_vectorizer, open('vectorizer.pkl', 'wb'))\n",
    "\n",
    "#pickling the model\n",
    "#Logistic Regression\n",
    "pickle.dump(log_reg, open('LogisticRegression_classifier.pkl', 'wb'))\n",
    "#Random Forest\n",
    "pickle.dump(text_classifier, open('RandomForest_classifier.pkl', 'wb'))\n",
    "#Gaussian Naive Bayes\n",
    "pickle.dump(model, open('NaiveBayes_classifier.pkl', 'wb'))\n",
    "#Support Vector Machine\n",
    "pickle.dump(svc, open('SupportVector_classifier.pkl', 'wb'))\n",
    "#XGBoost\n",
    "pickle.dump(xgb, open('XGBoost_classifier.pkl', 'wb'))"
   ]
  },
  {
   "cell_type": "code",
   "execution_count": 39,
   "metadata": {},
   "outputs": [],
   "source": [
    "# importing kivy moduels \n",
    "from kivy.app import App\n",
    "from kivy.uix.textinput import TextInput\n",
    "from kivy.uix.button import Button\n",
    "from kivy.uix.label import Label\n",
    "from kivy.uix.boxlayout import BoxLayout\n",
    "# ending importing kivy moduels\n",
    "import pickle\n",
    "import os\n",
    "import numpy as np\n"
   ]
  },
  {
   "cell_type": "code",
   "execution_count": null,
   "metadata": {},
   "outputs": [],
   "source": [
    "current_dir = os.path.dirname(__file__)\n",
    "# we load the classifier.pkl we created before\n",
    "clf = pickle.load(open(os.path.join(current_dir,\n",
    "                 'pkl_objects',\n",
    "                 'classifier.pkl'), 'rb'))\n",
    "\n",
    "\n",
    "def classify(document):\n",
    "    # this dictionary returns as outputs 'negative ' or 'positive' instead of 0 or 1\n",
    "    label = {0: 'negative', 1: 'positive'}\n",
    "    # transforming the document into analyzable data\n",
    "    X = vect.transform([document])\n",
    "    y = clf.predict(X)[0]\n",
    "    proba = np.max(clf.predict_proba(X))\n",
    "    return label[y], proba"
   ]
  },
  {
   "cell_type": "code",
   "execution_count": null,
   "metadata": {},
   "outputs": [],
   "source": [
    "class Application(App):\n",
    "    def build(self):\n",
    "        # creating our layout. we want it to display objects vertically\n",
    "        self.layout = BoxLayout(orientation='vertical')\n",
    "        # creating the submit review button, our review field, the label displaying the prediction and the correct and incorrect buttons that are useful to re-train the model\n",
    "        submit_button = Button(text='classify review', on_press=self.classify_f)\n",
    "        self.review = TextInput(hint_text='Your Review')\n",
    "        self.label = Label()\n",
    "        self.layout.add_widget(self.review)\n",
    "        self.layout.add_widget(submit_button)\n",
    "        self.layout.add_widget(self.label)\n",
    "        return self.layout\n",
    "\n",
    "    def classify_f(self, action):\n",
    "        print(self.review.text)\n",
    "        pred, proba = classify(self.review.text)\n",
    "        print(pred)\n",
    "        print(str(round(proba, 2)*100) + \" % \")\n",
    "        self.label.text = pred + \"  \" + str(round(proba, 2)*100) + \" % \"\n",
    "\n",
    "\n",
    "if __name__ == '__main__':\n",
    "    # running the application\n",
    "    Application().run()"
   ]
  }
 ],
 "metadata": {
  "kernelspec": {
   "display_name": "Python 3",
   "language": "python",
   "name": "python3"
  },
  "language_info": {
   "codemirror_mode": {
    "name": "ipython",
    "version": 3
   },
   "file_extension": ".py",
   "mimetype": "text/x-python",
   "name": "python",
   "nbconvert_exporter": "python",
   "pygments_lexer": "ipython3",
   "version": "3.7.3"
  }
 },
 "nbformat": 4,
 "nbformat_minor": 2
}
