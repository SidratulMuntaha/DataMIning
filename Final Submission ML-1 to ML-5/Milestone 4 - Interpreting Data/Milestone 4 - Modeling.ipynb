{
 "cells": [
  {
   "cell_type": "markdown",
   "metadata": {},
   "source": [
    "# Milestone 5 - Modeling"
   ]
  },
  {
   "cell_type": "code",
   "execution_count": 2,
   "metadata": {},
   "outputs": [],
   "source": [
    "#import libraries\n",
    "import numpy as np \n",
    "import pandas as pd \n",
    "import re\n",
    "import nltk \n",
    "import matplotlib.pyplot as plt\n",
    "%matplotlib inline\n",
    "import seaborn as sns"
   ]
  },
  {
   "cell_type": "code",
   "execution_count": 3,
   "metadata": {},
   "outputs": [
    {
     "data": {
      "text/html": [
       "<div>\n",
       "<style scoped>\n",
       "    .dataframe tbody tr th:only-of-type {\n",
       "        vertical-align: middle;\n",
       "    }\n",
       "\n",
       "    .dataframe tbody tr th {\n",
       "        vertical-align: top;\n",
       "    }\n",
       "\n",
       "    .dataframe thead th {\n",
       "        text-align: right;\n",
       "    }\n",
       "</style>\n",
       "<table border=\"1\" class=\"dataframe\">\n",
       "  <thead>\n",
       "    <tr style=\"text-align: right;\">\n",
       "      <th></th>\n",
       "      <th>SCORE</th>\n",
       "      <th>ID</th>\n",
       "      <th>SUBREDDIT</th>\n",
       "      <th>NUM_COMMENTS</th>\n",
       "      <th>TIMESTAMP</th>\n",
       "      <th>TIME_OF_DAY</th>\n",
       "      <th>TEXT</th>\n",
       "      <th>NEG</th>\n",
       "      <th>NEU</th>\n",
       "      <th>POS</th>\n",
       "      <th>COMPOUND</th>\n",
       "      <th>SENTIMENTS</th>\n",
       "    </tr>\n",
       "  </thead>\n",
       "  <tbody>\n",
       "    <tr>\n",
       "      <td>0</td>\n",
       "      <td>45</td>\n",
       "      <td>g94qma</td>\n",
       "      <td>SuggestALaptop</td>\n",
       "      <td>0</td>\n",
       "      <td>2020/04/28 09:06:12</td>\n",
       "      <td>Morning</td>\n",
       "      <td>Ignore Private Messages Suggesting Laptops The...</td>\n",
       "      <td>0.079</td>\n",
       "      <td>0.812</td>\n",
       "      <td>0.108</td>\n",
       "      <td>0.7184</td>\n",
       "      <td>1</td>\n",
       "    </tr>\n",
       "    <tr>\n",
       "      <td>1</td>\n",
       "      <td>42</td>\n",
       "      <td>ekkvox</td>\n",
       "      <td>SuggestALaptop</td>\n",
       "      <td>2</td>\n",
       "      <td>2020/01/06 15:23:07</td>\n",
       "      <td>Afternoon</td>\n",
       "      <td>SuggestALaptop Stress Test Project! Submit Vie...</td>\n",
       "      <td>0.030</td>\n",
       "      <td>0.833</td>\n",
       "      <td>0.137</td>\n",
       "      <td>0.9408</td>\n",
       "      <td>1</td>\n",
       "    </tr>\n",
       "    <tr>\n",
       "      <td>2</td>\n",
       "      <td>16</td>\n",
       "      <td>gqt1pd</td>\n",
       "      <td>SuggestALaptop</td>\n",
       "      <td>15</td>\n",
       "      <td>2020/05/27 00:20:20</td>\n",
       "      <td>Night</td>\n",
       "      <td>I need a laptop for gaming coding video editin...</td>\n",
       "      <td>0.015</td>\n",
       "      <td>0.818</td>\n",
       "      <td>0.166</td>\n",
       "      <td>0.9883</td>\n",
       "      <td>1</td>\n",
       "    </tr>\n",
       "    <tr>\n",
       "      <td>3</td>\n",
       "      <td>5</td>\n",
       "      <td>gqv6vt</td>\n",
       "      <td>SuggestALaptop</td>\n",
       "      <td>1</td>\n",
       "      <td>2020/05/27 03:22:56</td>\n",
       "      <td>Night</td>\n",
       "      <td>So I can't buy this yet? If I can buy it where...</td>\n",
       "      <td>0.051</td>\n",
       "      <td>0.785</td>\n",
       "      <td>0.164</td>\n",
       "      <td>0.9577</td>\n",
       "      <td>1</td>\n",
       "    </tr>\n",
       "    <tr>\n",
       "      <td>4</td>\n",
       "      <td>16</td>\n",
       "      <td>gqp7ra</td>\n",
       "      <td>SuggestALaptop</td>\n",
       "      <td>30</td>\n",
       "      <td>2020/05/26 19:15:01</td>\n",
       "      <td>Evening</td>\n",
       "      <td>Alienware M15 vs Lenovo Y740? Any thoughts on ...</td>\n",
       "      <td>0.000</td>\n",
       "      <td>0.905</td>\n",
       "      <td>0.095</td>\n",
       "      <td>0.8753</td>\n",
       "      <td>1</td>\n",
       "    </tr>\n",
       "  </tbody>\n",
       "</table>\n",
       "</div>"
      ],
      "text/plain": [
       "   SCORE      ID       SUBREDDIT  NUM_COMMENTS            TIMESTAMP  \\\n",
       "0     45  g94qma  SuggestALaptop             0  2020/04/28 09:06:12   \n",
       "1     42  ekkvox  SuggestALaptop             2  2020/01/06 15:23:07   \n",
       "2     16  gqt1pd  SuggestALaptop            15  2020/05/27 00:20:20   \n",
       "3      5  gqv6vt  SuggestALaptop             1  2020/05/27 03:22:56   \n",
       "4     16  gqp7ra  SuggestALaptop            30  2020/05/26 19:15:01   \n",
       "\n",
       "  TIME_OF_DAY                                               TEXT    NEG  \\\n",
       "0     Morning  Ignore Private Messages Suggesting Laptops The...  0.079   \n",
       "1   Afternoon  SuggestALaptop Stress Test Project! Submit Vie...  0.030   \n",
       "2       Night  I need a laptop for gaming coding video editin...  0.015   \n",
       "3       Night  So I can't buy this yet? If I can buy it where...  0.051   \n",
       "4     Evening  Alienware M15 vs Lenovo Y740? Any thoughts on ...  0.000   \n",
       "\n",
       "     NEU    POS  COMPOUND  SENTIMENTS  \n",
       "0  0.812  0.108    0.7184           1  \n",
       "1  0.833  0.137    0.9408           1  \n",
       "2  0.818  0.166    0.9883           1  \n",
       "3  0.785  0.164    0.9577           1  \n",
       "4  0.905  0.095    0.8753           1  "
      ]
     },
     "execution_count": 3,
     "metadata": {},
     "output_type": "execute_result"
    }
   ],
   "source": [
    "#load the dataset\n",
    "#reddit dataset\n",
    "reddit = pd.read_csv('reddit_sentiments.csv', encoding='utf-8-sig')\n",
    "reddit.head()"
   ]
  },
  {
   "cell_type": "code",
   "execution_count": 4,
   "metadata": {},
   "outputs": [
    {
     "data": {
      "text/html": [
       "<div>\n",
       "<style scoped>\n",
       "    .dataframe tbody tr th:only-of-type {\n",
       "        vertical-align: middle;\n",
       "    }\n",
       "\n",
       "    .dataframe tbody tr th {\n",
       "        vertical-align: top;\n",
       "    }\n",
       "\n",
       "    .dataframe thead th {\n",
       "        text-align: right;\n",
       "    }\n",
       "</style>\n",
       "<table border=\"1\" class=\"dataframe\">\n",
       "  <thead>\n",
       "    <tr style=\"text-align: right;\">\n",
       "      <th></th>\n",
       "      <th>ID</th>\n",
       "      <th>SUBREDDIT</th>\n",
       "      <th>NEW_COMMENTS</th>\n",
       "      <th>NEG</th>\n",
       "      <th>NEU</th>\n",
       "      <th>POS</th>\n",
       "      <th>COMPOUND</th>\n",
       "      <th>SENTIMENTS</th>\n",
       "    </tr>\n",
       "  </thead>\n",
       "  <tbody>\n",
       "    <tr>\n",
       "      <td>0</td>\n",
       "      <td>ekkvox</td>\n",
       "      <td>SuggestALaptop</td>\n",
       "      <td>have questions our Discord Server is best way ...</td>\n",
       "      <td>0.124</td>\n",
       "      <td>0.598</td>\n",
       "      <td>0.278</td>\n",
       "      <td>0.8257</td>\n",
       "      <td>1</td>\n",
       "    </tr>\n",
       "    <tr>\n",
       "      <td>1</td>\n",
       "      <td>ekkvox</td>\n",
       "      <td>SuggestALaptop</td>\n",
       "      <td>Can anyone help me out purchasing a laptop for...</td>\n",
       "      <td>0.000</td>\n",
       "      <td>0.857</td>\n",
       "      <td>0.143</td>\n",
       "      <td>0.7059</td>\n",
       "      <td>1</td>\n",
       "    </tr>\n",
       "    <tr>\n",
       "      <td>2</td>\n",
       "      <td>gqt1pd</td>\n",
       "      <td>SuggestALaptop</td>\n",
       "      <td>Ask chewy</td>\n",
       "      <td>0.000</td>\n",
       "      <td>1.000</td>\n",
       "      <td>0.000</td>\n",
       "      <td>0.0000</td>\n",
       "      <td>0</td>\n",
       "    </tr>\n",
       "    <tr>\n",
       "      <td>3</td>\n",
       "      <td>gqt1pd</td>\n",
       "      <td>SuggestALaptop</td>\n",
       "      <td>Looks like a great deal at that price!</td>\n",
       "      <td>0.000</td>\n",
       "      <td>0.420</td>\n",
       "      <td>0.580</td>\n",
       "      <td>0.7840</td>\n",
       "      <td>1</td>\n",
       "    </tr>\n",
       "    <tr>\n",
       "      <td>4</td>\n",
       "      <td>gqt1pd</td>\n",
       "      <td>SuggestALaptop</td>\n",
       "      <td>Ideapad or yoga whatever they are called where...</td>\n",
       "      <td>0.000</td>\n",
       "      <td>1.000</td>\n",
       "      <td>0.000</td>\n",
       "      <td>0.0000</td>\n",
       "      <td>0</td>\n",
       "    </tr>\n",
       "  </tbody>\n",
       "</table>\n",
       "</div>"
      ],
      "text/plain": [
       "       ID       SUBREDDIT                                       NEW_COMMENTS  \\\n",
       "0  ekkvox  SuggestALaptop  have questions our Discord Server is best way ...   \n",
       "1  ekkvox  SuggestALaptop  Can anyone help me out purchasing a laptop for...   \n",
       "2  gqt1pd  SuggestALaptop                                          Ask chewy   \n",
       "3  gqt1pd  SuggestALaptop             Looks like a great deal at that price!   \n",
       "4  gqt1pd  SuggestALaptop  Ideapad or yoga whatever they are called where...   \n",
       "\n",
       "     NEG    NEU    POS  COMPOUND  SENTIMENTS  \n",
       "0  0.124  0.598  0.278    0.8257           1  \n",
       "1  0.000  0.857  0.143    0.7059           1  \n",
       "2  0.000  1.000  0.000    0.0000           0  \n",
       "3  0.000  0.420  0.580    0.7840           1  \n",
       "4  0.000  1.000  0.000    0.0000           0  "
      ]
     },
     "execution_count": 4,
     "metadata": {},
     "output_type": "execute_result"
    }
   ],
   "source": [
    "#comments under reddit post dataset\n",
    "comments = pd.read_csv('comments_sentiments.csv', encoding='utf-8-sig')\n",
    "comments.head()"
   ]
  },
  {
   "cell_type": "code",
   "execution_count": 5,
   "metadata": {},
   "outputs": [
    {
     "data": {
      "text/html": [
       "<div>\n",
       "<style scoped>\n",
       "    .dataframe tbody tr th:only-of-type {\n",
       "        vertical-align: middle;\n",
       "    }\n",
       "\n",
       "    .dataframe tbody tr th {\n",
       "        vertical-align: top;\n",
       "    }\n",
       "\n",
       "    .dataframe thead th {\n",
       "        text-align: right;\n",
       "    }\n",
       "</style>\n",
       "<table border=\"1\" class=\"dataframe\">\n",
       "  <thead>\n",
       "    <tr style=\"text-align: right;\">\n",
       "      <th></th>\n",
       "      <th>TIMESTAMP</th>\n",
       "      <th>MODEL</th>\n",
       "      <th>NEW_TEXT</th>\n",
       "      <th>TIME_OF_DAY</th>\n",
       "      <th>NEG</th>\n",
       "      <th>NEU</th>\n",
       "      <th>POS</th>\n",
       "      <th>COMPOUND</th>\n",
       "      <th>SENTIMENTS</th>\n",
       "    </tr>\n",
       "  </thead>\n",
       "  <tbody>\n",
       "    <tr>\n",
       "      <td>0</td>\n",
       "      <td>2020/05/28 19:30:02</td>\n",
       "      <td>HP Spectre</td>\n",
       "      <td>90s fun for the kids HP HPSpectre laptops comp...</td>\n",
       "      <td>Evening</td>\n",
       "      <td>0.000</td>\n",
       "      <td>0.784</td>\n",
       "      <td>0.216</td>\n",
       "      <td>0.7650</td>\n",
       "      <td>1</td>\n",
       "    </tr>\n",
       "    <tr>\n",
       "      <td>1</td>\n",
       "      <td>2020/05/28 04:38:28</td>\n",
       "      <td>HP Spectre</td>\n",
       "      <td>Save 200 on the HP Spectre x360 Now 1349.99! O...</td>\n",
       "      <td>Night</td>\n",
       "      <td>0.000</td>\n",
       "      <td>0.841</td>\n",
       "      <td>0.159</td>\n",
       "      <td>0.6467</td>\n",
       "      <td>1</td>\n",
       "    </tr>\n",
       "    <tr>\n",
       "      <td>2</td>\n",
       "      <td>2020/05/24 01:58:02</td>\n",
       "      <td>HP Spectre</td>\n",
       "      <td>Are you ready for a Change? Why not try an alt...</td>\n",
       "      <td>Night</td>\n",
       "      <td>0.000</td>\n",
       "      <td>0.882</td>\n",
       "      <td>0.118</td>\n",
       "      <td>0.5514</td>\n",
       "      <td>1</td>\n",
       "    </tr>\n",
       "    <tr>\n",
       "      <td>3</td>\n",
       "      <td>2020/05/22 22:38:01</td>\n",
       "      <td>HP Spectre</td>\n",
       "      <td>Amazon is under investigation in France declar...</td>\n",
       "      <td>Evening</td>\n",
       "      <td>0.117</td>\n",
       "      <td>0.843</td>\n",
       "      <td>0.040</td>\n",
       "      <td>-0.6476</td>\n",
       "      <td>-1</td>\n",
       "    </tr>\n",
       "    <tr>\n",
       "      <td>4</td>\n",
       "      <td>2020/05/20 11:40:37</td>\n",
       "      <td>HP Spectre</td>\n",
       "      <td>Brand new sealed HP SPECTRE X360 i7 512gb 8gb ...</td>\n",
       "      <td>Morning</td>\n",
       "      <td>0.000</td>\n",
       "      <td>1.000</td>\n",
       "      <td>0.000</td>\n",
       "      <td>0.0000</td>\n",
       "      <td>0</td>\n",
       "    </tr>\n",
       "  </tbody>\n",
       "</table>\n",
       "</div>"
      ],
      "text/plain": [
       "             TIMESTAMP       MODEL  \\\n",
       "0  2020/05/28 19:30:02  HP Spectre   \n",
       "1  2020/05/28 04:38:28  HP Spectre   \n",
       "2  2020/05/24 01:58:02  HP Spectre   \n",
       "3  2020/05/22 22:38:01  HP Spectre   \n",
       "4  2020/05/20 11:40:37  HP Spectre   \n",
       "\n",
       "                                            NEW_TEXT TIME_OF_DAY    NEG  \\\n",
       "0  90s fun for the kids HP HPSpectre laptops comp...     Evening  0.000   \n",
       "1  Save 200 on the HP Spectre x360 Now 1349.99! O...       Night  0.000   \n",
       "2  Are you ready for a Change? Why not try an alt...       Night  0.000   \n",
       "3  Amazon is under investigation in France declar...     Evening  0.117   \n",
       "4  Brand new sealed HP SPECTRE X360 i7 512gb 8gb ...     Morning  0.000   \n",
       "\n",
       "     NEU    POS  COMPOUND  SENTIMENTS  \n",
       "0  0.784  0.216    0.7650           1  \n",
       "1  0.841  0.159    0.6467           1  \n",
       "2  0.882  0.118    0.5514           1  \n",
       "3  0.843  0.040   -0.6476          -1  \n",
       "4  1.000  0.000    0.0000           0  "
      ]
     },
     "execution_count": 5,
     "metadata": {},
     "output_type": "execute_result"
    }
   ],
   "source": [
    "#twitter dataset\n",
    "twitter = pd.read_csv('twitter_sentiments.csv', encoding='utf-8-sig')\n",
    "twitter.head()"
   ]
  },
  {
   "cell_type": "code",
   "execution_count": 6,
   "metadata": {
    "scrolled": true
   },
   "outputs": [
    {
     "name": "stdout",
     "output_type": "stream",
     "text": [
      "(5979, 3)\n",
      "(14465, 3)\n",
      "(24102, 3)\n",
      "\n",
      "\n",
      "(44546, 3)\n"
     ]
    },
    {
     "data": {
      "text/html": [
       "<div>\n",
       "<style scoped>\n",
       "    .dataframe tbody tr th:only-of-type {\n",
       "        vertical-align: middle;\n",
       "    }\n",
       "\n",
       "    .dataframe tbody tr th {\n",
       "        vertical-align: top;\n",
       "    }\n",
       "\n",
       "    .dataframe thead th {\n",
       "        text-align: right;\n",
       "    }\n",
       "</style>\n",
       "<table border=\"1\" class=\"dataframe\">\n",
       "  <thead>\n",
       "    <tr style=\"text-align: right;\">\n",
       "      <th></th>\n",
       "      <th>MODEL</th>\n",
       "      <th>TEXT</th>\n",
       "      <th>SENTIMENTS</th>\n",
       "    </tr>\n",
       "  </thead>\n",
       "  <tbody>\n",
       "    <tr>\n",
       "      <td>0</td>\n",
       "      <td>SuggestALaptop</td>\n",
       "      <td>Ignore Private Messages Suggesting Laptops The...</td>\n",
       "      <td>1</td>\n",
       "    </tr>\n",
       "    <tr>\n",
       "      <td>1</td>\n",
       "      <td>SuggestALaptop</td>\n",
       "      <td>SuggestALaptop Stress Test Project! Submit Vie...</td>\n",
       "      <td>1</td>\n",
       "    </tr>\n",
       "    <tr>\n",
       "      <td>2</td>\n",
       "      <td>SuggestALaptop</td>\n",
       "      <td>I need a laptop for gaming coding video editin...</td>\n",
       "      <td>1</td>\n",
       "    </tr>\n",
       "    <tr>\n",
       "      <td>3</td>\n",
       "      <td>SuggestALaptop</td>\n",
       "      <td>So I can't buy this yet? If I can buy it where...</td>\n",
       "      <td>1</td>\n",
       "    </tr>\n",
       "    <tr>\n",
       "      <td>4</td>\n",
       "      <td>SuggestALaptop</td>\n",
       "      <td>Alienware M15 vs Lenovo Y740? Any thoughts on ...</td>\n",
       "      <td>1</td>\n",
       "    </tr>\n",
       "  </tbody>\n",
       "</table>\n",
       "</div>"
      ],
      "text/plain": [
       "            MODEL                                               TEXT  \\\n",
       "0  SuggestALaptop  Ignore Private Messages Suggesting Laptops The...   \n",
       "1  SuggestALaptop  SuggestALaptop Stress Test Project! Submit Vie...   \n",
       "2  SuggestALaptop  I need a laptop for gaming coding video editin...   \n",
       "3  SuggestALaptop  So I can't buy this yet? If I can buy it where...   \n",
       "4  SuggestALaptop  Alienware M15 vs Lenovo Y740? Any thoughts on ...   \n",
       "\n",
       "   SENTIMENTS  \n",
       "0           1  \n",
       "1           1  \n",
       "2           1  \n",
       "3           1  \n",
       "4           1  "
      ]
     },
     "execution_count": 6,
     "metadata": {},
     "output_type": "execute_result"
    }
   ],
   "source": [
    "#merge all the text and sentiments columns\n",
    "df1 = reddit[['SUBREDDIT', 'TEXT', 'SENTIMENTS']]\n",
    "df1.columns = ['MODEL', 'TEXT', 'SENTIMENTS']\n",
    "df2 = comments[['SUBREDDIT', 'NEW_COMMENTS', 'SENTIMENTS']]\n",
    "df2.columns = ['MODEL', 'TEXT', 'SENTIMENTS']\n",
    "df3 = twitter[['MODEL', 'NEW_TEXT', 'SENTIMENTS']]\n",
    "df3.columns = ['MODEL', 'TEXT', 'SENTIMENTS']\n",
    "print(df1.shape)\n",
    "print(df2.shape)\n",
    "print(df3.shape)\n",
    "print('\\n')\n",
    "\n",
    "text_df = pd.concat([df1,df2,df3])\n",
    "print(text_df.shape)\n",
    "text_df.head()"
   ]
  },
  {
   "cell_type": "markdown",
   "metadata": {},
   "source": [
    "## Data exploration"
   ]
  },
  {
   "cell_type": "code",
   "execution_count": 7,
   "metadata": {},
   "outputs": [
    {
     "name": "stdout",
     "output_type": "stream",
     "text": [
      "6.0\n",
      "4.0\n"
     ]
    }
   ],
   "source": [
    "#settings for plot\n",
    "plot_size = plt.rcParams[\"figure.figsize\"] \n",
    "print(plot_size[0]) \n",
    "print(plot_size[1])\n",
    "\n",
    "plot_size[0] = 12\n",
    "plot_size[1] = 10\n",
    "plt.rcParams[\"figure.figsize\"] = plot_size "
   ]
  },
  {
   "cell_type": "code",
   "execution_count": 8,
   "metadata": {
    "scrolled": false
   },
   "outputs": [
    {
     "data": {
      "image/png": "[encoded data removed]",
      "text/plain": [
       "<Figure size 864x720 with 1 Axes>"
      ]
     },
     "metadata": {},
     "output_type": "display_data"
    }
   ],
   "source": [
    "text_df.MODEL.value_counts().plot(kind='pie', autopct='%1.0f%%')\n",
    "plt.show()"
   ]
  },
  {
   "cell_type": "code",
   "execution_count": 9,
   "metadata": {},
   "outputs": [
    {
     "data": {
      "image/png": "[encoded data removed]",
      "text/plain": [
       "<Figure size 864x720 with 1 Axes>"
      ]
     },
     "metadata": {},
     "output_type": "display_data"
    }
   ],
   "source": [
    "text_df.SENTIMENTS.value_counts().plot(kind='pie', autopct='%1.0f%%')\n",
    "plt.show()"
   ]
  },
  {
   "cell_type": "markdown",
   "metadata": {},
   "source": [
    "Sentiments column description:\n",
    "* 1 - Positive sentiments\n",
    "* 0 - Neutral sentiments\n",
    "* -1 - Negative sentiments"
   ]
  },
  {
   "cell_type": "code",
   "execution_count": 10,
   "metadata": {
    "scrolled": false
   },
   "outputs": [
    {
     "data": {
      "image/png": "[encoded data removed]",
      "text/plain": [
       "<Figure size 864x720 with 1 Axes>"
      ]
     },
     "metadata": {
      "needs_background": "light"
     },
     "output_type": "display_data"
    }
   ],
   "source": [
    "laptop_sentiment = text_df.groupby(['MODEL', 'SENTIMENTS']).SENTIMENTS.count().unstack()\n",
    "laptop_sentiment.plot(kind='bar')\n",
    "plt.show()"
   ]
  },
  {
   "cell_type": "code",
   "execution_count": 11,
   "metadata": {},
   "outputs": [],
   "source": [
    "#feature selection\n",
    "features = text_df.iloc[:, 1].values\n",
    "labels = text_df.iloc[:, 2].values"
   ]
  },
  {
   "cell_type": "code",
   "execution_count": 12,
   "metadata": {},
   "outputs": [],
   "source": [
    "#simple data cleaning\n",
    "from nltk.corpus import stopwords\n",
    "stop_words = stopwords.words('english')\n",
    "\n",
    "def remove_noise(features, stop_words):\n",
    "    processed_features = []\n",
    "\n",
    "    for sentence in range(0, len(features)):\n",
    "        # Remove all the special characters\n",
    "        processed_feature = re.sub(r'\\W', ' ', str(features[sentence]))\n",
    "    \n",
    "        # Remove numbers\n",
    "        processed_feature = re.sub(r'[0-9]+', ' ', processed_feature)\n",
    "\n",
    "        # Remove all single characters\n",
    "        processed_feature= re.sub(r'\\s+[a-zA-Z]\\s+', ' ', processed_feature)\n",
    "\n",
    "        # Remove single characters from the start\n",
    "        processed_feature = re.sub(r'\\^[a-zA-Z]\\s+', ' ', processed_feature) \n",
    "\n",
    "        # Substituting multiple spaces with single space\n",
    "        processed_feature = re.sub(r'\\s+', ' ', processed_feature)\n",
    "\n",
    "        # Removing prefixed 'b'\n",
    "        processed_feature = re.sub(r'^b\\s+', '', processed_feature)\n",
    "\n",
    "        # Converting to Lowercase\n",
    "        processed_feature = processed_feature.lower()\n",
    "        \n",
    "        # Removing stopwords\n",
    "        processed_feature = ' '.join([word for word in processed_feature.split() if word not in stop_words])\n",
    "\n",
    "        processed_features.append(processed_feature)\n",
    "    \n",
    "    return processed_features\n",
    "\n",
    "processed_features = remove_noise(features, stop_words)\n",
    "processed_features = pd.DataFrame(processed_features)\n",
    "processed_features.columns = ['TEXT']"
   ]
  },
  {
   "cell_type": "code",
   "execution_count": 13,
   "metadata": {},
   "outputs": [
    {
     "name": "stdout",
     "output_type": "stream",
     "text": [
      "(44546, 1)\n"
     ]
    },
    {
     "data": {
      "text/html": [
       "<div>\n",
       "<style scoped>\n",
       "    .dataframe tbody tr th:only-of-type {\n",
       "        vertical-align: middle;\n",
       "    }\n",
       "\n",
       "    .dataframe tbody tr th {\n",
       "        vertical-align: top;\n",
       "    }\n",
       "\n",
       "    .dataframe thead th {\n",
       "        text-align: right;\n",
       "    }\n",
       "</style>\n",
       "<table border=\"1\" class=\"dataframe\">\n",
       "  <thead>\n",
       "    <tr style=\"text-align: right;\">\n",
       "      <th></th>\n",
       "      <th>TEXT</th>\n",
       "    </tr>\n",
       "  </thead>\n",
       "  <tbody>\n",
       "    <tr>\n",
       "      <td>0</td>\n",
       "      <td>ignore private messages suggesting laptops pri...</td>\n",
       "    </tr>\n",
       "    <tr>\n",
       "      <td>1</td>\n",
       "      <td>suggestalaptop stress test project submit view...</td>\n",
       "    </tr>\n",
       "    <tr>\n",
       "      <td>2</td>\n",
       "      <td>need laptop gaming coding video editing etc la...</td>\n",
       "    </tr>\n",
       "    <tr>\n",
       "      <td>3</td>\n",
       "      <td>buy yet buy find total budget local currency c...</td>\n",
       "    </tr>\n",
       "    <tr>\n",
       "      <td>4</td>\n",
       "      <td>alienware vs lenovo thoughts potentially bette...</td>\n",
       "    </tr>\n",
       "  </tbody>\n",
       "</table>\n",
       "</div>"
      ],
      "text/plain": [
       "                                                TEXT\n",
       "0  ignore private messages suggesting laptops pri...\n",
       "1  suggestalaptop stress test project submit view...\n",
       "2  need laptop gaming coding video editing etc la...\n",
       "3  buy yet buy find total budget local currency c...\n",
       "4  alienware vs lenovo thoughts potentially bette..."
      ]
     },
     "execution_count": 13,
     "metadata": {},
     "output_type": "execute_result"
    }
   ],
   "source": [
    "print(processed_features.shape)\n",
    "processed_features.head()"
   ]
  },
  {
   "cell_type": "markdown",
   "metadata": {},
   "source": [
    "## Text normalization"
   ]
  },
  {
   "cell_type": "code",
   "execution_count": 14,
   "metadata": {},
   "outputs": [
    {
     "name": "stdout",
     "output_type": "stream",
     "text": [
      "0    [ignore, private, messages, suggesting, laptop...\n",
      "1    [suggestalaptop, stress, test, project, submit...\n",
      "2    [need, laptop, gaming, coding, video, editing,...\n",
      "3    [buy, yet, buy, find, total, budget, local, cu...\n",
      "4    [alienware, vs, lenovo, thoughts, potentially,...\n",
      "Name: TEXT, dtype: object\n"
     ]
    }
   ],
   "source": [
    "#tokenizing\n",
    "tokenized_features = processed_features['TEXT'].apply(lambda x: x.split())\n",
    "print(tokenized_features.head())"
   ]
  },
  {
   "cell_type": "code",
   "execution_count": 15,
   "metadata": {},
   "outputs": [],
   "source": [
    "#stemming\n",
    "from nltk.stem.porter import *\n",
    "\n",
    "stemmer = PorterStemmer()\n",
    "tokenized_features = tokenized_features.apply(lambda x: [stemmer.stem(i) for i in x])"
   ]
  },
  {
   "cell_type": "code",
   "execution_count": 16,
   "metadata": {},
   "outputs": [],
   "source": [
    "#stitch the tokens back together\n",
    "for i in range(len(tokenized_features)):\n",
    "    tokenized_features[i] = ' '.join(tokenized_features[i])\n",
    "    \n",
    "processed_features['TEXT'] = tokenized_features"
   ]
  },
  {
   "cell_type": "code",
   "execution_count": 17,
   "metadata": {},
   "outputs": [
    {
     "name": "stdout",
     "output_type": "stream",
     "text": [
      "(44546, 1000)\n"
     ]
    }
   ],
   "source": [
    "#Term Frequency and Inverse Document Frequency(TF-IDF)\n",
    "from sklearn.feature_extraction.text import TfidfVectorizer\n",
    "\n",
    "tfidf_vectorizer = TfidfVectorizer(max_features=1000, min_df=2, max_df=0.9, stop_words='english')\n",
    "processed_features = tfidf_vectorizer.fit_transform(processed_features['TEXT'])\n",
    "print(processed_features.shape)"
   ]
  },
  {
   "cell_type": "code",
   "execution_count": 18,
   "metadata": {},
   "outputs": [],
   "source": [
    "#splitting training and testing set\n",
    "#import library\n",
    "from sklearn.model_selection import train_test_split\n",
    "\n",
    "X_train, X_test, y_train, y_test = train_test_split(processed_features[:44546,:], labels, test_size=0.3, random_state=42)"
   ]
  },
  {
   "cell_type": "code",
   "execution_count": null,
   "metadata": {},
   "outputs": [],
   "source": [
    "#save the training and testing data\n",
    "scipy.sparse.save_npz('xtrain.npz', X_train)\n",
    "scipy.sparse.save_npz('xtest.npz', X_test)\n",
    "np.savetxt('ytrain.txt', y_train)\n",
    "np.savetxt('ytest.txt', y_test)"
   ]
  },
  {
   "cell_type": "markdown",
   "metadata": {},
   "source": [
    "## Building the model\n",
    "These are the list of algorithms used for modeling text classifier:\n",
    "1. Logistic Regression\n",
    "2. Random Forest\n",
    "3. Gaussian Naive Bayes\n",
    "4. Support Vector Machine\n",
    "5. XGBoost"
   ]
  },
  {
   "cell_type": "markdown",
   "metadata": {},
   "source": [
    "### 1. Logistic Regression"
   ]
  },
  {
   "cell_type": "code",
   "execution_count": 19,
   "metadata": {},
   "outputs": [
    {
     "name": "stderr",
     "output_type": "stream",
     "text": [
      "C:\\Users\\User\\Anaconda3\\lib\\site-packages\\sklearn\\linear_model\\logistic.py:432: FutureWarning: Default solver will be changed to 'lbfgs' in 0.22. Specify a solver to silence this warning.\n",
      "  FutureWarning)\n",
      "C:\\Users\\User\\Anaconda3\\lib\\site-packages\\sklearn\\linear_model\\logistic.py:469: FutureWarning: Default multi_class will be changed to 'auto' in 0.22. Specify the multi_class option to silence this warning.\n",
      "  \"this warning.\", FutureWarning)\n"
     ]
    },
    {
     "data": {
      "text/plain": [
       "LogisticRegression(C=1.0, class_weight=None, dual=False, fit_intercept=True,\n",
       "                   intercept_scaling=1, l1_ratio=None, max_iter=100,\n",
       "                   multi_class='warn', n_jobs=None, penalty='l2',\n",
       "                   random_state=None, solver='warn', tol=0.0001, verbose=0,\n",
       "                   warm_start=False)"
      ]
     },
     "execution_count": 19,
     "metadata": {},
     "output_type": "execute_result"
    }
   ],
   "source": [
    "#training the model\n",
    "#import library\n",
    "from sklearn.linear_model import LogisticRegression\n",
    "\n",
    "log_reg = LogisticRegression()\n",
    "log_reg.fit(X_train, y_train)"
   ]
  },
  {
   "cell_type": "code",
   "execution_count": 20,
   "metadata": {},
   "outputs": [],
   "source": [
    "#making predictions\n",
    "predictions_lr = log_reg.predict(X_test)"
   ]
  },
  {
   "cell_type": "code",
   "execution_count": 21,
   "metadata": {},
   "outputs": [
    {
     "name": "stdout",
     "output_type": "stream",
     "text": [
      "Accuracy of Logistic Regression model :  82.72\n",
      "F1-score of Logistic Regression model :  74.0\n"
     ]
    }
   ],
   "source": [
    "#calculating the accuracy\n",
    "#import libraries\n",
    "from sklearn.metrics import accuracy_score\n",
    "from sklearn.metrics import f1_score\n",
    "\n",
    "acc_lr = round(accuracy_score(y_test, predictions_lr) * 100, 2)\n",
    "fsc_lr = round(f1_score(y_test, predictions_lr, average='macro') * 100, 2)\n",
    "print('Accuracy of Logistic Regression model : ', acc_lr)\n",
    "print('F1-score of Logistic Regression model : ', fsc_lr)"
   ]
  },
  {
   "cell_type": "markdown",
   "metadata": {},
   "source": [
    "### 2. Random Forest"
   ]
  },
  {
   "cell_type": "code",
   "execution_count": 22,
   "metadata": {},
   "outputs": [
    {
     "data": {
      "text/plain": [
       "RandomForestClassifier(bootstrap=True, class_weight=None, criterion='gini',\n",
       "                       max_depth=None, max_features='auto', max_leaf_nodes=None,\n",
       "                       min_impurity_decrease=0.0, min_impurity_split=None,\n",
       "                       min_samples_leaf=1, min_samples_split=2,\n",
       "                       min_weight_fraction_leaf=0.0, n_estimators=400,\n",
       "                       n_jobs=None, oob_score=False, random_state=11, verbose=0,\n",
       "                       warm_start=False)"
      ]
     },
     "execution_count": 22,
     "metadata": {},
     "output_type": "execute_result"
    }
   ],
   "source": [
    "#training the model\n",
    "#import library\n",
    "from sklearn.ensemble import RandomForestClassifier\n",
    "\n",
    "text_classifier = RandomForestClassifier(n_estimators=400, random_state=11)\n",
    "text_classifier.fit(X_train, y_train)"
   ]
  },
  {
   "cell_type": "code",
   "execution_count": 23,
   "metadata": {},
   "outputs": [],
   "source": [
    "#making predictions\n",
    "predictions_rf = text_classifier.predict(X_test)"
   ]
  },
  {
   "cell_type": "code",
   "execution_count": 24,
   "metadata": {},
   "outputs": [
    {
     "name": "stdout",
     "output_type": "stream",
     "text": [
      "Accuracy of Random Forest model :  83.62\n",
      "F1-score of Random Forest model :  71.77\n"
     ]
    }
   ],
   "source": [
    "#calculating the accuracy\n",
    "acc_rf = round(accuracy_score(y_test, predictions_rf) * 100, 2)\n",
    "fsc_rf = round(f1_score(y_test, predictions_rf, average='macro') * 100, 2)\n",
    "print('Accuracy of Random Forest model : ', acc_rf)\n",
    "print('F1-score of Random Forest model : ', fsc_rf)"
   ]
  },
  {
   "cell_type": "markdown",
   "metadata": {},
   "source": [
    "### 3. Gaussian Naive Bayes"
   ]
  },
  {
   "cell_type": "code",
   "execution_count": 25,
   "metadata": {},
   "outputs": [
    {
     "data": {
      "text/plain": [
       "GaussianNB(priors=None, var_smoothing=1e-09)"
      ]
     },
     "execution_count": 25,
     "metadata": {},
     "output_type": "execute_result"
    }
   ],
   "source": [
    "#import library\n",
    "from sklearn.naive_bayes import GaussianNB \n",
    "\n",
    "model = GaussianNB()                       \n",
    "model.fit(X_train.toarray(), y_train)             "
   ]
  },
  {
   "cell_type": "code",
   "execution_count": 26,
   "metadata": {},
   "outputs": [],
   "source": [
    "#making predictions\n",
    "predictions_nb = model.predict(X_test.toarray())"
   ]
  },
  {
   "cell_type": "code",
   "execution_count": 27,
   "metadata": {},
   "outputs": [
    {
     "name": "stdout",
     "output_type": "stream",
     "text": [
      "Accuracy of Gaussian Naive Bayes model :  68.77\n",
      "F1-score of Gaussian Naive Bayes model :  63.38\n"
     ]
    }
   ],
   "source": [
    "#calculating the accuracy\n",
    "acc_nb = round(accuracy_score(y_test, predictions_nb) * 100, 2)\n",
    "fsc_nb = round(f1_score(y_test, predictions_nb, average='macro') * 100, 2)\n",
    "print('Accuracy of Gaussian Naive Bayes model : ', acc_nb)\n",
    "print('F1-score of Gaussian Naive Bayes model : ', fsc_nb)"
   ]
  },
  {
   "cell_type": "markdown",
   "metadata": {},
   "source": [
    "### 4. Support Vector Machine"
   ]
  },
  {
   "cell_type": "code",
   "execution_count": 28,
   "metadata": {},
   "outputs": [
    {
     "data": {
      "text/plain": [
       "SVC(C=1, cache_size=200, class_weight=None, coef0=0.0,\n",
       "    decision_function_shape='ovr', degree=3, gamma='auto_deprecated',\n",
       "    kernel='linear', max_iter=-1, probability=True, random_state=None,\n",
       "    shrinking=True, tol=0.001, verbose=False)"
      ]
     },
     "execution_count": 28,
     "metadata": {},
     "output_type": "execute_result"
    }
   ],
   "source": [
    "#import library\n",
    "from sklearn import svm\n",
    "\n",
    "svc = svm.SVC(kernel='linear', C=1, probability=True)\n",
    "svc.fit(X_train, y_train)"
   ]
  },
  {
   "cell_type": "code",
   "execution_count": 29,
   "metadata": {},
   "outputs": [],
   "source": [
    "#making predictions\n",
    "predictions_svm = svc.predict(X_test)"
   ]
  },
  {
   "cell_type": "code",
   "execution_count": 30,
   "metadata": {},
   "outputs": [
    {
     "name": "stdout",
     "output_type": "stream",
     "text": [
      "Accuracy of Support Vector Machine model :  84.06\n",
      "F1-score of Support Vector Machine model :  76.1\n"
     ]
    }
   ],
   "source": [
    "#calculating the accuracy\n",
    "acc_svm = round(accuracy_score(y_test, predictions_svm) * 100, 2)\n",
    "fsc_svm = round(f1_score(y_test, predictions_svm, average='macro') * 100, 2)\n",
    "print('Accuracy of Support Vector Machine model : ', acc_svm)\n",
    "print('F1-score of Support Vector Machine model : ', fsc_svm)"
   ]
  },
  {
   "cell_type": "markdown",
   "metadata": {},
   "source": [
    "### 5. XGBoost"
   ]
  },
  {
   "cell_type": "code",
   "execution_count": 31,
   "metadata": {},
   "outputs": [
    {
     "data": {
      "text/plain": [
       "XGBClassifier(base_score=0.5, booster='gbtree', colsample_bylevel=1,\n",
       "              colsample_bynode=1, colsample_bytree=1, gamma=0, gpu_id=-1,\n",
       "              importance_type='gain', interaction_constraints='',\n",
       "              learning_rate=0.300000012, max_delta_step=0, max_depth=6,\n",
       "              min_child_weight=1, missing=nan, monotone_constraints='()',\n",
       "              n_estimators=1000, n_jobs=0, num_parallel_tree=1,\n",
       "              objective='multi:softprob', random_state=0, reg_alpha=0,\n",
       "              reg_lambda=1, scale_pos_weight=None, subsample=1,\n",
       "              tree_method='exact', validate_parameters=1, verbosity=None)"
      ]
     },
     "execution_count": 31,
     "metadata": {},
     "output_type": "execute_result"
    }
   ],
   "source": [
    "#import library\n",
    "from xgboost import XGBClassifier\n",
    "\n",
    "xgb = XGBClassifier(max_depth=6, n_estimators=1000)\n",
    "xgb.fit(X_train, y_train)"
   ]
  },
  {
   "cell_type": "code",
   "execution_count": 32,
   "metadata": {},
   "outputs": [],
   "source": [
    "# Prediction on test data\n",
    "predictions_xgb = xgb.predict(X_test)"
   ]
  },
  {
   "cell_type": "code",
   "execution_count": 33,
   "metadata": {},
   "outputs": [
    {
     "name": "stdout",
     "output_type": "stream",
     "text": [
      "Accuracy of XGBoost model :  84.88\n",
      "F1-score of XGBoost model :  76.81\n"
     ]
    }
   ],
   "source": [
    "#calculating the accuracy\n",
    "acc_xgb = round(accuracy_score(y_test, predictions_xgb) * 100, 2)\n",
    "fsc_xgb = round(f1_score(y_test, predictions_xgb, average='macro') * 100, 2)\n",
    "print('Accuracy of XGBoost model : ', acc_xgb)\n",
    "print('F1-score of XGBoost model : ', fsc_xgb)"
   ]
  },
  {
   "cell_type": "markdown",
   "metadata": {},
   "source": [
    "## Model Comparison"
   ]
  },
  {
   "cell_type": "code",
   "execution_count": 34,
   "metadata": {},
   "outputs": [
    {
     "data": {
      "text/html": [
       "<div>\n",
       "<style scoped>\n",
       "    .dataframe tbody tr th:only-of-type {\n",
       "        vertical-align: middle;\n",
       "    }\n",
       "\n",
       "    .dataframe tbody tr th {\n",
       "        vertical-align: top;\n",
       "    }\n",
       "\n",
       "    .dataframe thead th {\n",
       "        text-align: right;\n",
       "    }\n",
       "</style>\n",
       "<table border=\"1\" class=\"dataframe\">\n",
       "  <thead>\n",
       "    <tr style=\"text-align: right;\">\n",
       "      <th></th>\n",
       "      <th>Model</th>\n",
       "      <th>Accuracy Score</th>\n",
       "      <th>F1-Score</th>\n",
       "    </tr>\n",
       "  </thead>\n",
       "  <tbody>\n",
       "    <tr>\n",
       "      <td>0</td>\n",
       "      <td>Logistic Regression</td>\n",
       "      <td>82.72</td>\n",
       "      <td>74.00</td>\n",
       "    </tr>\n",
       "    <tr>\n",
       "      <td>1</td>\n",
       "      <td>Random Forest</td>\n",
       "      <td>83.62</td>\n",
       "      <td>71.77</td>\n",
       "    </tr>\n",
       "    <tr>\n",
       "      <td>2</td>\n",
       "      <td>Gaussian Naive Bayes</td>\n",
       "      <td>68.77</td>\n",
       "      <td>63.38</td>\n",
       "    </tr>\n",
       "    <tr>\n",
       "      <td>3</td>\n",
       "      <td>Support Vector Machine</td>\n",
       "      <td>84.06</td>\n",
       "      <td>76.10</td>\n",
       "    </tr>\n",
       "    <tr>\n",
       "      <td>4</td>\n",
       "      <td>XGBoost</td>\n",
       "      <td>84.88</td>\n",
       "      <td>76.81</td>\n",
       "    </tr>\n",
       "  </tbody>\n",
       "</table>\n",
       "</div>"
      ],
      "text/plain": [
       "                    Model  Accuracy Score  F1-Score\n",
       "0     Logistic Regression           82.72     74.00\n",
       "1           Random Forest           83.62     71.77\n",
       "2    Gaussian Naive Bayes           68.77     63.38\n",
       "3  Support Vector Machine           84.06     76.10\n",
       "4                 XGBoost           84.88     76.81"
      ]
     },
     "execution_count": 34,
     "metadata": {},
     "output_type": "execute_result"
    }
   ],
   "source": [
    "#comparison of the models\n",
    "models = pd.DataFrame({\n",
    "    'Model': ['Logistic Regression', 'Random Forest', 'Gaussian Naive Bayes', 'Support Vector Machine', 'XGBoost'],\n",
    "    'Accuracy Score': [acc_lr, acc_rf, acc_nb, acc_svm, acc_xgb], \n",
    "    'F1-Score': [fsc_lr, fsc_rf, fsc_nb, fsc_svm, fsc_xgb]})\n",
    "models"
   ]
  },
  {
   "cell_type": "markdown",
   "metadata": {},
   "source": [
    "## Model evaluation"
   ]
  },
  {
   "cell_type": "code",
   "execution_count": 37,
   "metadata": {},
   "outputs": [
    {
     "name": "stdout",
     "output_type": "stream",
     "text": [
      "Confusion matrix of Logistic Regression model:\n"
     ]
    },
    {
     "data": {
      "text/html": [
       "<div>\n",
       "<style scoped>\n",
       "    .dataframe tbody tr th:only-of-type {\n",
       "        vertical-align: middle;\n",
       "    }\n",
       "\n",
       "    .dataframe tbody tr th {\n",
       "        vertical-align: top;\n",
       "    }\n",
       "\n",
       "    .dataframe thead th {\n",
       "        text-align: right;\n",
       "    }\n",
       "</style>\n",
       "<table border=\"1\" class=\"dataframe\">\n",
       "  <thead>\n",
       "    <tr style=\"text-align: right;\">\n",
       "      <th></th>\n",
       "      <th>Negatives</th>\n",
       "      <th>Neutrals</th>\n",
       "      <th>Positives</th>\n",
       "    </tr>\n",
       "  </thead>\n",
       "  <tbody>\n",
       "    <tr>\n",
       "      <td>Negatives</td>\n",
       "      <td>617</td>\n",
       "      <td>486</td>\n",
       "      <td>549</td>\n",
       "    </tr>\n",
       "    <tr>\n",
       "      <td>Neutrals</td>\n",
       "      <td>55</td>\n",
       "      <td>5646</td>\n",
       "      <td>319</td>\n",
       "    </tr>\n",
       "    <tr>\n",
       "      <td>Positives</td>\n",
       "      <td>137</td>\n",
       "      <td>763</td>\n",
       "      <td>4792</td>\n",
       "    </tr>\n",
       "  </tbody>\n",
       "</table>\n",
       "</div>"
      ],
      "text/plain": [
       "           Negatives  Neutrals  Positives\n",
       "Negatives        617       486        549\n",
       "Neutrals          55      5646        319\n",
       "Positives        137       763       4792"
      ]
     },
     "execution_count": 37,
     "metadata": {},
     "output_type": "execute_result"
    }
   ],
   "source": [
    "#save the accuracy table\n",
    "#import library\n",
    "from sklearn.metrics import confusion_matrix\n",
    "\n",
    "matrix_lr = confusion_matrix(y_test, predictions_lr)\n",
    "matrix_rf = confusion_matrix(y_test, predictions_rf)\n",
    "matrix_nb = confusion_matrix(y_test, predictions_nb)\n",
    "matrix_svm = confusion_matrix(y_test, predictions_svm)\n",
    "matrix_xgb = confusion_matrix(y_test, predictions_xgb)\n",
    "\n",
    "dfm1 = pd.DataFrame(matrix_lr, columns=[\"Negatives\", \"Neutrals\", \"Positives\"], index=[\"Negatives\", \"Neutrals\", \"Positives\"])\n",
    "dfm2 = pd.DataFrame(matrix_rf, columns=[\"Negatives\", \"Neutrals\", \"Positives\"], index=[\"Negatives\", \"Neutrals\", \"Positives\"])\n",
    "dfm3 = pd.DataFrame(matrix_nb, columns=[\"Negatives\", \"Neutrals\", \"Positives\"], index=[\"Negatives\", \"Neutrals\", \"Positives\"])\n",
    "dfm4 = pd.DataFrame(matrix_svm, columns=[\"Negatives\", \"Neutrals\", \"Positives\"], index=[\"Negatives\", \"Neutrals\", \"Positives\"])\n",
    "dfm5 = pd.DataFrame(matrix_xgb, columns=[\"Negatives\", \"Neutrals\", \"Positives\"], index=[\"Negatives\", \"Neutrals\", \"Positives\"])\n",
    "\n",
    "print('Confusion matrix of Logistic Regression model:')\n",
    "dfm1"
   ]
  },
  {
   "cell_type": "code",
   "execution_count": 38,
   "metadata": {},
   "outputs": [
    {
     "name": "stdout",
     "output_type": "stream",
     "text": [
      "Confusion matrix of Random Forest model:\n"
     ]
    },
    {
     "data": {
      "text/html": [
       "<div>\n",
       "<style scoped>\n",
       "    .dataframe tbody tr th:only-of-type {\n",
       "        vertical-align: middle;\n",
       "    }\n",
       "\n",
       "    .dataframe tbody tr th {\n",
       "        vertical-align: top;\n",
       "    }\n",
       "\n",
       "    .dataframe thead th {\n",
       "        text-align: right;\n",
       "    }\n",
       "</style>\n",
       "<table border=\"1\" class=\"dataframe\">\n",
       "  <thead>\n",
       "    <tr style=\"text-align: right;\">\n",
       "      <th></th>\n",
       "      <th>Negatives</th>\n",
       "      <th>Neutrals</th>\n",
       "      <th>Positives</th>\n",
       "    </tr>\n",
       "  </thead>\n",
       "  <tbody>\n",
       "    <tr>\n",
       "      <td>Negatives</td>\n",
       "      <td>449</td>\n",
       "      <td>365</td>\n",
       "      <td>838</td>\n",
       "    </tr>\n",
       "    <tr>\n",
       "      <td>Neutrals</td>\n",
       "      <td>46</td>\n",
       "      <td>5584</td>\n",
       "      <td>390</td>\n",
       "    </tr>\n",
       "    <tr>\n",
       "      <td>Positives</td>\n",
       "      <td>86</td>\n",
       "      <td>464</td>\n",
       "      <td>5142</td>\n",
       "    </tr>\n",
       "  </tbody>\n",
       "</table>\n",
       "</div>"
      ],
      "text/plain": [
       "           Negatives  Neutrals  Positives\n",
       "Negatives        449       365        838\n",
       "Neutrals          46      5584        390\n",
       "Positives         86       464       5142"
      ]
     },
     "execution_count": 38,
     "metadata": {},
     "output_type": "execute_result"
    }
   ],
   "source": [
    "print('Confusion matrix of Random Forest model:')\n",
    "dfm2"
   ]
  },
  {
   "cell_type": "code",
   "execution_count": 39,
   "metadata": {},
   "outputs": [
    {
     "name": "stdout",
     "output_type": "stream",
     "text": [
      "Confusion matrix of Gaussian Naive Bayes model:\n"
     ]
    },
    {
     "data": {
      "text/html": [
       "<div>\n",
       "<style scoped>\n",
       "    .dataframe tbody tr th:only-of-type {\n",
       "        vertical-align: middle;\n",
       "    }\n",
       "\n",
       "    .dataframe tbody tr th {\n",
       "        vertical-align: top;\n",
       "    }\n",
       "\n",
       "    .dataframe thead th {\n",
       "        text-align: right;\n",
       "    }\n",
       "</style>\n",
       "<table border=\"1\" class=\"dataframe\">\n",
       "  <thead>\n",
       "    <tr style=\"text-align: right;\">\n",
       "      <th></th>\n",
       "      <th>Negatives</th>\n",
       "      <th>Neutrals</th>\n",
       "      <th>Positives</th>\n",
       "    </tr>\n",
       "  </thead>\n",
       "  <tbody>\n",
       "    <tr>\n",
       "      <td>Negatives</td>\n",
       "      <td>1083</td>\n",
       "      <td>328</td>\n",
       "      <td>241</td>\n",
       "    </tr>\n",
       "    <tr>\n",
       "      <td>Neutrals</td>\n",
       "      <td>672</td>\n",
       "      <td>5037</td>\n",
       "      <td>311</td>\n",
       "    </tr>\n",
       "    <tr>\n",
       "      <td>Positives</td>\n",
       "      <td>1724</td>\n",
       "      <td>898</td>\n",
       "      <td>3070</td>\n",
       "    </tr>\n",
       "  </tbody>\n",
       "</table>\n",
       "</div>"
      ],
      "text/plain": [
       "           Negatives  Neutrals  Positives\n",
       "Negatives       1083       328        241\n",
       "Neutrals         672      5037        311\n",
       "Positives       1724       898       3070"
      ]
     },
     "execution_count": 39,
     "metadata": {},
     "output_type": "execute_result"
    }
   ],
   "source": [
    "print('Confusion matrix of Gaussian Naive Bayes model:')\n",
    "dfm3"
   ]
  },
  {
   "cell_type": "code",
   "execution_count": 40,
   "metadata": {},
   "outputs": [
    {
     "name": "stdout",
     "output_type": "stream",
     "text": [
      "Confusion matrix of Support Vector Machine model:\n"
     ]
    },
    {
     "data": {
      "text/html": [
       "<div>\n",
       "<style scoped>\n",
       "    .dataframe tbody tr th:only-of-type {\n",
       "        vertical-align: middle;\n",
       "    }\n",
       "\n",
       "    .dataframe tbody tr th {\n",
       "        vertical-align: top;\n",
       "    }\n",
       "\n",
       "    .dataframe thead th {\n",
       "        text-align: right;\n",
       "    }\n",
       "</style>\n",
       "<table border=\"1\" class=\"dataframe\">\n",
       "  <thead>\n",
       "    <tr style=\"text-align: right;\">\n",
       "      <th></th>\n",
       "      <th>Negatives</th>\n",
       "      <th>Neutrals</th>\n",
       "      <th>Positives</th>\n",
       "    </tr>\n",
       "  </thead>\n",
       "  <tbody>\n",
       "    <tr>\n",
       "      <td>Negatives</td>\n",
       "      <td>695</td>\n",
       "      <td>440</td>\n",
       "      <td>517</td>\n",
       "    </tr>\n",
       "    <tr>\n",
       "      <td>Neutrals</td>\n",
       "      <td>47</td>\n",
       "      <td>5672</td>\n",
       "      <td>301</td>\n",
       "    </tr>\n",
       "    <tr>\n",
       "      <td>Positives</td>\n",
       "      <td>183</td>\n",
       "      <td>642</td>\n",
       "      <td>4867</td>\n",
       "    </tr>\n",
       "  </tbody>\n",
       "</table>\n",
       "</div>"
      ],
      "text/plain": [
       "           Negatives  Neutrals  Positives\n",
       "Negatives        695       440        517\n",
       "Neutrals          47      5672        301\n",
       "Positives        183       642       4867"
      ]
     },
     "execution_count": 40,
     "metadata": {},
     "output_type": "execute_result"
    }
   ],
   "source": [
    "print('Confusion matrix of Support Vector Machine model:')\n",
    "dfm4"
   ]
  },
  {
   "cell_type": "code",
   "execution_count": 41,
   "metadata": {},
   "outputs": [
    {
     "name": "stdout",
     "output_type": "stream",
     "text": [
      "Confusion matrix of XGBoost model:\n"
     ]
    },
    {
     "data": {
      "text/html": [
       "<div>\n",
       "<style scoped>\n",
       "    .dataframe tbody tr th:only-of-type {\n",
       "        vertical-align: middle;\n",
       "    }\n",
       "\n",
       "    .dataframe tbody tr th {\n",
       "        vertical-align: top;\n",
       "    }\n",
       "\n",
       "    .dataframe thead th {\n",
       "        text-align: right;\n",
       "    }\n",
       "</style>\n",
       "<table border=\"1\" class=\"dataframe\">\n",
       "  <thead>\n",
       "    <tr style=\"text-align: right;\">\n",
       "      <th></th>\n",
       "      <th>Negatives</th>\n",
       "      <th>Neutrals</th>\n",
       "      <th>Positives</th>\n",
       "    </tr>\n",
       "  </thead>\n",
       "  <tbody>\n",
       "    <tr>\n",
       "      <td>Negatives</td>\n",
       "      <td>733</td>\n",
       "      <td>377</td>\n",
       "      <td>542</td>\n",
       "    </tr>\n",
       "    <tr>\n",
       "      <td>Neutrals</td>\n",
       "      <td>112</td>\n",
       "      <td>5620</td>\n",
       "      <td>288</td>\n",
       "    </tr>\n",
       "    <tr>\n",
       "      <td>Positives</td>\n",
       "      <td>233</td>\n",
       "      <td>468</td>\n",
       "      <td>4991</td>\n",
       "    </tr>\n",
       "  </tbody>\n",
       "</table>\n",
       "</div>"
      ],
      "text/plain": [
       "           Negatives  Neutrals  Positives\n",
       "Negatives        733       377        542\n",
       "Neutrals         112      5620        288\n",
       "Positives        233       468       4991"
      ]
     },
     "execution_count": 41,
     "metadata": {},
     "output_type": "execute_result"
    }
   ],
   "source": [
    "print('Confusion matrix of XGBoost model:')\n",
    "dfm5"
   ]
  },
  {
   "cell_type": "code",
   "execution_count": 50,
   "metadata": {},
   "outputs": [
    {
     "name": "stdout",
     "output_type": "stream",
     "text": [
      "Classification report of Logistic Regression model:\n"
     ]
    },
    {
     "data": {
      "text/html": [
       "<div>\n",
       "<style scoped>\n",
       "    .dataframe tbody tr th:only-of-type {\n",
       "        vertical-align: middle;\n",
       "    }\n",
       "\n",
       "    .dataframe tbody tr th {\n",
       "        vertical-align: top;\n",
       "    }\n",
       "\n",
       "    .dataframe thead th {\n",
       "        text-align: right;\n",
       "    }\n",
       "</style>\n",
       "<table border=\"1\" class=\"dataframe\">\n",
       "  <thead>\n",
       "    <tr style=\"text-align: right;\">\n",
       "      <th></th>\n",
       "      <th>precision</th>\n",
       "      <th>recall</th>\n",
       "      <th>f1-score</th>\n",
       "      <th>support</th>\n",
       "    </tr>\n",
       "  </thead>\n",
       "  <tbody>\n",
       "    <tr>\n",
       "      <td>-1</td>\n",
       "      <td>0.762670</td>\n",
       "      <td>0.373487</td>\n",
       "      <td>0.501422</td>\n",
       "      <td>1652.000000</td>\n",
       "    </tr>\n",
       "    <tr>\n",
       "      <td>0</td>\n",
       "      <td>0.818854</td>\n",
       "      <td>0.937874</td>\n",
       "      <td>0.874332</td>\n",
       "      <td>6020.000000</td>\n",
       "    </tr>\n",
       "    <tr>\n",
       "      <td>1</td>\n",
       "      <td>0.846643</td>\n",
       "      <td>0.841883</td>\n",
       "      <td>0.844257</td>\n",
       "      <td>5692.000000</td>\n",
       "    </tr>\n",
       "    <tr>\n",
       "      <td>accuracy</td>\n",
       "      <td>0.827222</td>\n",
       "      <td>0.827222</td>\n",
       "      <td>0.827222</td>\n",
       "      <td>0.827222</td>\n",
       "    </tr>\n",
       "    <tr>\n",
       "      <td>macro avg</td>\n",
       "      <td>0.809389</td>\n",
       "      <td>0.717748</td>\n",
       "      <td>0.740004</td>\n",
       "      <td>13364.000000</td>\n",
       "    </tr>\n",
       "    <tr>\n",
       "      <td>weighted avg</td>\n",
       "      <td>0.823745</td>\n",
       "      <td>0.827222</td>\n",
       "      <td>0.815425</td>\n",
       "      <td>13364.000000</td>\n",
       "    </tr>\n",
       "  </tbody>\n",
       "</table>\n",
       "</div>"
      ],
      "text/plain": [
       "              precision    recall  f1-score       support\n",
       "-1             0.762670  0.373487  0.501422   1652.000000\n",
       "0              0.818854  0.937874  0.874332   6020.000000\n",
       "1              0.846643  0.841883  0.844257   5692.000000\n",
       "accuracy       0.827222  0.827222  0.827222      0.827222\n",
       "macro avg      0.809389  0.717748  0.740004  13364.000000\n",
       "weighted avg   0.823745  0.827222  0.815425  13364.000000"
      ]
     },
     "execution_count": 50,
     "metadata": {},
     "output_type": "execute_result"
    }
   ],
   "source": [
    "#save the classification report table\n",
    "#import library\n",
    "from sklearn.metrics import classification_report\n",
    "\n",
    "report_lr = classification_report(y_test, predictions_lr, output_dict=True)\n",
    "report_rf = classification_report(y_test, predictions_rf, output_dict=True)\n",
    "report_nb = classification_report(y_test, predictions_nb, output_dict=True)\n",
    "report_svm = classification_report(y_test, predictions_svm, output_dict=True)\n",
    "report_xgb = classification_report(y_test, predictions_xgb, output_dict=True)\n",
    "\n",
    "dfc1 = pd.DataFrame(report_lr).transpose()\n",
    "dfc2 = pd.DataFrame(report_rf).transpose()\n",
    "dfc3 = pd.DataFrame(report_nb).transpose()\n",
    "dfc4 = pd.DataFrame(report_svm).transpose()\n",
    "dfc5 = pd.DataFrame(report_xgb).transpose()\n",
    "\n",
    "print('Classification report of Logistic Regression model:')\n",
    "dfc1"
   ]
  },
  {
   "cell_type": "code",
   "execution_count": 51,
   "metadata": {},
   "outputs": [
    {
     "name": "stdout",
     "output_type": "stream",
     "text": [
      "Classification report of Random Forest model:\n"
     ]
    },
    {
     "data": {
      "text/html": [
       "<div>\n",
       "<style scoped>\n",
       "    .dataframe tbody tr th:only-of-type {\n",
       "        vertical-align: middle;\n",
       "    }\n",
       "\n",
       "    .dataframe tbody tr th {\n",
       "        vertical-align: top;\n",
       "    }\n",
       "\n",
       "    .dataframe thead th {\n",
       "        text-align: right;\n",
       "    }\n",
       "</style>\n",
       "<table border=\"1\" class=\"dataframe\">\n",
       "  <thead>\n",
       "    <tr style=\"text-align: right;\">\n",
       "      <th></th>\n",
       "      <th>precision</th>\n",
       "      <th>recall</th>\n",
       "      <th>f1-score</th>\n",
       "      <th>support</th>\n",
       "    </tr>\n",
       "  </thead>\n",
       "  <tbody>\n",
       "    <tr>\n",
       "      <td>-1</td>\n",
       "      <td>0.772806</td>\n",
       "      <td>0.271792</td>\n",
       "      <td>0.402150</td>\n",
       "      <td>1652.000000</td>\n",
       "    </tr>\n",
       "    <tr>\n",
       "      <td>0</td>\n",
       "      <td>0.870731</td>\n",
       "      <td>0.927575</td>\n",
       "      <td>0.898255</td>\n",
       "      <td>6020.000000</td>\n",
       "    </tr>\n",
       "    <tr>\n",
       "      <td>1</td>\n",
       "      <td>0.807221</td>\n",
       "      <td>0.903373</td>\n",
       "      <td>0.852595</td>\n",
       "      <td>5692.000000</td>\n",
       "    </tr>\n",
       "    <tr>\n",
       "      <td>accuracy</td>\n",
       "      <td>0.836202</td>\n",
       "      <td>0.836202</td>\n",
       "      <td>0.836202</td>\n",
       "      <td>0.836202</td>\n",
       "    </tr>\n",
       "    <tr>\n",
       "      <td>macro avg</td>\n",
       "      <td>0.816919</td>\n",
       "      <td>0.700913</td>\n",
       "      <td>0.717666</td>\n",
       "      <td>13364.000000</td>\n",
       "    </tr>\n",
       "    <tr>\n",
       "      <td>weighted avg</td>\n",
       "      <td>0.831576</td>\n",
       "      <td>0.836202</td>\n",
       "      <td>0.817481</td>\n",
       "      <td>13364.000000</td>\n",
       "    </tr>\n",
       "  </tbody>\n",
       "</table>\n",
       "</div>"
      ],
      "text/plain": [
       "              precision    recall  f1-score       support\n",
       "-1             0.772806  0.271792  0.402150   1652.000000\n",
       "0              0.870731  0.927575  0.898255   6020.000000\n",
       "1              0.807221  0.903373  0.852595   5692.000000\n",
       "accuracy       0.836202  0.836202  0.836202      0.836202\n",
       "macro avg      0.816919  0.700913  0.717666  13364.000000\n",
       "weighted avg   0.831576  0.836202  0.817481  13364.000000"
      ]
     },
     "execution_count": 51,
     "metadata": {},
     "output_type": "execute_result"
    }
   ],
   "source": [
    "print('Classification report of Random Forest model:')\n",
    "dfc2"
   ]
  },
  {
   "cell_type": "code",
   "execution_count": 52,
   "metadata": {},
   "outputs": [
    {
     "name": "stdout",
     "output_type": "stream",
     "text": [
      "Classification report of Gaussian Naive Bayes model:\n"
     ]
    },
    {
     "data": {
      "text/html": [
       "<div>\n",
       "<style scoped>\n",
       "    .dataframe tbody tr th:only-of-type {\n",
       "        vertical-align: middle;\n",
       "    }\n",
       "\n",
       "    .dataframe tbody tr th {\n",
       "        vertical-align: top;\n",
       "    }\n",
       "\n",
       "    .dataframe thead th {\n",
       "        text-align: right;\n",
       "    }\n",
       "</style>\n",
       "<table border=\"1\" class=\"dataframe\">\n",
       "  <thead>\n",
       "    <tr style=\"text-align: right;\">\n",
       "      <th></th>\n",
       "      <th>precision</th>\n",
       "      <th>recall</th>\n",
       "      <th>f1-score</th>\n",
       "      <th>support</th>\n",
       "    </tr>\n",
       "  </thead>\n",
       "  <tbody>\n",
       "    <tr>\n",
       "      <td>-1</td>\n",
       "      <td>0.311296</td>\n",
       "      <td>0.655569</td>\n",
       "      <td>0.422140</td>\n",
       "      <td>1652.000000</td>\n",
       "    </tr>\n",
       "    <tr>\n",
       "      <td>0</td>\n",
       "      <td>0.804247</td>\n",
       "      <td>0.836711</td>\n",
       "      <td>0.820158</td>\n",
       "      <td>6020.000000</td>\n",
       "    </tr>\n",
       "    <tr>\n",
       "      <td>1</td>\n",
       "      <td>0.847598</td>\n",
       "      <td>0.539353</td>\n",
       "      <td>0.659223</td>\n",
       "      <td>5692.000000</td>\n",
       "    </tr>\n",
       "    <tr>\n",
       "      <td>accuracy</td>\n",
       "      <td>0.687668</td>\n",
       "      <td>0.687668</td>\n",
       "      <td>0.687668</td>\n",
       "      <td>0.687668</td>\n",
       "    </tr>\n",
       "    <tr>\n",
       "      <td>macro avg</td>\n",
       "      <td>0.654381</td>\n",
       "      <td>0.677211</td>\n",
       "      <td>0.633840</td>\n",
       "      <td>13364.000000</td>\n",
       "    </tr>\n",
       "    <tr>\n",
       "      <td>weighted avg</td>\n",
       "      <td>0.761775</td>\n",
       "      <td>0.687668</td>\n",
       "      <td>0.702411</td>\n",
       "      <td>13364.000000</td>\n",
       "    </tr>\n",
       "  </tbody>\n",
       "</table>\n",
       "</div>"
      ],
      "text/plain": [
       "              precision    recall  f1-score       support\n",
       "-1             0.311296  0.655569  0.422140   1652.000000\n",
       "0              0.804247  0.836711  0.820158   6020.000000\n",
       "1              0.847598  0.539353  0.659223   5692.000000\n",
       "accuracy       0.687668  0.687668  0.687668      0.687668\n",
       "macro avg      0.654381  0.677211  0.633840  13364.000000\n",
       "weighted avg   0.761775  0.687668  0.702411  13364.000000"
      ]
     },
     "execution_count": 52,
     "metadata": {},
     "output_type": "execute_result"
    }
   ],
   "source": [
    "print('Classification report of Gaussian Naive Bayes model:')\n",
    "dfc3"
   ]
  },
  {
   "cell_type": "code",
   "execution_count": 53,
   "metadata": {},
   "outputs": [
    {
     "name": "stdout",
     "output_type": "stream",
     "text": [
      "Classification report of Support Vector Machine model:\n"
     ]
    },
    {
     "data": {
      "text/html": [
       "<div>\n",
       "<style scoped>\n",
       "    .dataframe tbody tr th:only-of-type {\n",
       "        vertical-align: middle;\n",
       "    }\n",
       "\n",
       "    .dataframe tbody tr th {\n",
       "        vertical-align: top;\n",
       "    }\n",
       "\n",
       "    .dataframe thead th {\n",
       "        text-align: right;\n",
       "    }\n",
       "</style>\n",
       "<table border=\"1\" class=\"dataframe\">\n",
       "  <thead>\n",
       "    <tr style=\"text-align: right;\">\n",
       "      <th></th>\n",
       "      <th>precision</th>\n",
       "      <th>recall</th>\n",
       "      <th>f1-score</th>\n",
       "      <th>support</th>\n",
       "    </tr>\n",
       "  </thead>\n",
       "  <tbody>\n",
       "    <tr>\n",
       "      <td>-1</td>\n",
       "      <td>0.751351</td>\n",
       "      <td>0.420702</td>\n",
       "      <td>0.539387</td>\n",
       "      <td>1652.000000</td>\n",
       "    </tr>\n",
       "    <tr>\n",
       "      <td>0</td>\n",
       "      <td>0.839799</td>\n",
       "      <td>0.942193</td>\n",
       "      <td>0.888054</td>\n",
       "      <td>6020.000000</td>\n",
       "    </tr>\n",
       "    <tr>\n",
       "      <td>1</td>\n",
       "      <td>0.856113</td>\n",
       "      <td>0.855060</td>\n",
       "      <td>0.855586</td>\n",
       "      <td>5692.000000</td>\n",
       "    </tr>\n",
       "    <tr>\n",
       "      <td>accuracy</td>\n",
       "      <td>0.840617</td>\n",
       "      <td>0.840617</td>\n",
       "      <td>0.840617</td>\n",
       "      <td>0.840617</td>\n",
       "    </tr>\n",
       "    <tr>\n",
       "      <td>macro avg</td>\n",
       "      <td>0.815754</td>\n",
       "      <td>0.739318</td>\n",
       "      <td>0.761009</td>\n",
       "      <td>13364.000000</td>\n",
       "    </tr>\n",
       "    <tr>\n",
       "      <td>weighted avg</td>\n",
       "      <td>0.835814</td>\n",
       "      <td>0.840617</td>\n",
       "      <td>0.831124</td>\n",
       "      <td>13364.000000</td>\n",
       "    </tr>\n",
       "  </tbody>\n",
       "</table>\n",
       "</div>"
      ],
      "text/plain": [
       "              precision    recall  f1-score       support\n",
       "-1             0.751351  0.420702  0.539387   1652.000000\n",
       "0              0.839799  0.942193  0.888054   6020.000000\n",
       "1              0.856113  0.855060  0.855586   5692.000000\n",
       "accuracy       0.840617  0.840617  0.840617      0.840617\n",
       "macro avg      0.815754  0.739318  0.761009  13364.000000\n",
       "weighted avg   0.835814  0.840617  0.831124  13364.000000"
      ]
     },
     "execution_count": 53,
     "metadata": {},
     "output_type": "execute_result"
    }
   ],
   "source": [
    "print('Classification report of Support Vector Machine model:')\n",
    "dfc4"
   ]
  },
  {
   "cell_type": "code",
   "execution_count": 54,
   "metadata": {},
   "outputs": [
    {
     "name": "stdout",
     "output_type": "stream",
     "text": [
      "Classification report of XGBoost model:\n"
     ]
    },
    {
     "data": {
      "text/html": [
       "<div>\n",
       "<style scoped>\n",
       "    .dataframe tbody tr th:only-of-type {\n",
       "        vertical-align: middle;\n",
       "    }\n",
       "\n",
       "    .dataframe tbody tr th {\n",
       "        vertical-align: top;\n",
       "    }\n",
       "\n",
       "    .dataframe thead th {\n",
       "        text-align: right;\n",
       "    }\n",
       "</style>\n",
       "<table border=\"1\" class=\"dataframe\">\n",
       "  <thead>\n",
       "    <tr style=\"text-align: right;\">\n",
       "      <th></th>\n",
       "      <th>precision</th>\n",
       "      <th>recall</th>\n",
       "      <th>f1-score</th>\n",
       "      <th>support</th>\n",
       "    </tr>\n",
       "  </thead>\n",
       "  <tbody>\n",
       "    <tr>\n",
       "      <td>-1</td>\n",
       "      <td>0.679963</td>\n",
       "      <td>0.443705</td>\n",
       "      <td>0.536996</td>\n",
       "      <td>1652.000000</td>\n",
       "    </tr>\n",
       "    <tr>\n",
       "      <td>0</td>\n",
       "      <td>0.869296</td>\n",
       "      <td>0.933555</td>\n",
       "      <td>0.900280</td>\n",
       "      <td>6020.000000</td>\n",
       "    </tr>\n",
       "    <tr>\n",
       "      <td>1</td>\n",
       "      <td>0.857413</td>\n",
       "      <td>0.876845</td>\n",
       "      <td>0.867020</td>\n",
       "      <td>5692.000000</td>\n",
       "    </tr>\n",
       "    <tr>\n",
       "      <td>accuracy</td>\n",
       "      <td>0.848848</td>\n",
       "      <td>0.848848</td>\n",
       "      <td>0.848848</td>\n",
       "      <td>0.848848</td>\n",
       "    </tr>\n",
       "    <tr>\n",
       "      <td>macro avg</td>\n",
       "      <td>0.802224</td>\n",
       "      <td>0.751368</td>\n",
       "      <td>0.768099</td>\n",
       "      <td>13364.000000</td>\n",
       "    </tr>\n",
       "    <tr>\n",
       "      <td>weighted avg</td>\n",
       "      <td>0.840830</td>\n",
       "      <td>0.848848</td>\n",
       "      <td>0.841206</td>\n",
       "      <td>13364.000000</td>\n",
       "    </tr>\n",
       "  </tbody>\n",
       "</table>\n",
       "</div>"
      ],
      "text/plain": [
       "              precision    recall  f1-score       support\n",
       "-1             0.679963  0.443705  0.536996   1652.000000\n",
       "0              0.869296  0.933555  0.900280   6020.000000\n",
       "1              0.857413  0.876845  0.867020   5692.000000\n",
       "accuracy       0.848848  0.848848  0.848848      0.848848\n",
       "macro avg      0.802224  0.751368  0.768099  13364.000000\n",
       "weighted avg   0.840830  0.848848  0.841206  13364.000000"
      ]
     },
     "execution_count": 54,
     "metadata": {},
     "output_type": "execute_result"
    }
   ],
   "source": [
    "print('Classification report of XGBoost model:')\n",
    "dfc5"
   ]
  }
 ],
 "metadata": {
  "kernelspec": {
   "display_name": "Python 3",
   "language": "python",
   "name": "python3"
  },
  "language_info": {
   "codemirror_mode": {
    "name": "ipython",
    "version": 3
   },
   "file_extension": ".py",
   "mimetype": "text/x-python",
   "name": "python",
   "nbconvert_exporter": "python",
   "pygments_lexer": "ipython3",
   "version": "3.7.4"
  }
 },
 "nbformat": 4,
 "nbformat_minor": 2
}
