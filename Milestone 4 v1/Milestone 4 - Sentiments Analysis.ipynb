{
 "cells": [
  {
   "cell_type": "code",
   "execution_count": 205,
   "metadata": {},
   "outputs": [
    {
     "name": "stderr",
     "output_type": "stream",
     "text": [
      "[nltk_data] Downloading package vader_lexicon to C:\\nltk_data...\n",
      "[nltk_data]   Package vader_lexicon is already up-to-date!\n"
     ]
    }
   ],
   "source": [
    "import pandas as pd\n",
    "import matplotlib.pyplot as plt\n",
    "import seaborn as sns\n",
    "import nltk\n",
    "nltk.download('vader_lexicon')\n",
    "from nltk.sentiment.vader import SentimentIntensityAnalyzer\n",
    "#from vaderSentiment.vaderSentiment import SentimentIntensityAnalyzer\n",
    "analyser = SentimentIntensityAnalyzer()"
   ]
  },
  {
   "cell_type": "markdown",
   "metadata": {},
   "source": [
    "# 1. Reddit Data"
   ]
  },
  {
   "cell_type": "markdown",
   "metadata": {},
   "source": [
    "## 1.1 Title of subreddits posts"
   ]
  },
  {
   "cell_type": "code",
   "execution_count": 206,
   "metadata": {
    "scrolled": true
   },
   "outputs": [
    {
     "name": "stdout",
     "output_type": "stream",
     "text": [
      "(5979, 8)\n"
     ]
    },
    {
     "data": {
      "text/html": [
       "<div>\n",
       "<style scoped>\n",
       "    .dataframe tbody tr th:only-of-type {\n",
       "        vertical-align: middle;\n",
       "    }\n",
       "\n",
       "    .dataframe tbody tr th {\n",
       "        vertical-align: top;\n",
       "    }\n",
       "\n",
       "    .dataframe thead th {\n",
       "        text-align: right;\n",
       "    }\n",
       "</style>\n",
       "<table border=\"1\" class=\"dataframe\">\n",
       "  <thead>\n",
       "    <tr style=\"text-align: right;\">\n",
       "      <th></th>\n",
       "      <th>SCORE</th>\n",
       "      <th>ID</th>\n",
       "      <th>SUBREDDIT</th>\n",
       "      <th>NUM_COMMENTS</th>\n",
       "      <th>TIMESTAMP</th>\n",
       "      <th>NEW_TITLE</th>\n",
       "      <th>NEW_BODY</th>\n",
       "      <th>TIME_OF_DAY</th>\n",
       "    </tr>\n",
       "  </thead>\n",
       "  <tbody>\n",
       "    <tr>\n",
       "      <td>0</td>\n",
       "      <td>45</td>\n",
       "      <td>g94qma</td>\n",
       "      <td>SuggestALaptop</td>\n",
       "      <td>0</td>\n",
       "      <td>2020/04/28 09:06:12</td>\n",
       "      <td>Ignore Private Messages Suggesting Laptops</td>\n",
       "      <td>The primary aim of SuggestALaptop is to provid...</td>\n",
       "      <td>Morning</td>\n",
       "    </tr>\n",
       "    <tr>\n",
       "      <td>1</td>\n",
       "      <td>42</td>\n",
       "      <td>ekkvox</td>\n",
       "      <td>SuggestALaptop</td>\n",
       "      <td>2</td>\n",
       "      <td>2020/01/06 15:23:07</td>\n",
       "      <td>SuggestALaptop Stress Test Project! Submit and...</td>\n",
       "      <td>Laptops this gen often have thermal or TDP thr...</td>\n",
       "      <td>Afternoon</td>\n",
       "    </tr>\n",
       "    <tr>\n",
       "      <td>2</td>\n",
       "      <td>16</td>\n",
       "      <td>gqt1pd</td>\n",
       "      <td>SuggestALaptop</td>\n",
       "      <td>15</td>\n",
       "      <td>2020/05/27 00:20:20</td>\n",
       "      <td>I need a laptop for gaming coding video editin...</td>\n",
       "      <td>LAPTOP QUESTIONNAIRE x200B Total budget in loc...</td>\n",
       "      <td>Night</td>\n",
       "    </tr>\n",
       "    <tr>\n",
       "      <td>3</td>\n",
       "      <td>5</td>\n",
       "      <td>gqv6vt</td>\n",
       "      <td>SuggestALaptop</td>\n",
       "      <td>1</td>\n",
       "      <td>2020/05/27 03:22:56</td>\n",
       "      <td>So I can't buy this yet?</td>\n",
       "      <td>If I can buy it where do I find it? Total budg...</td>\n",
       "      <td>Night</td>\n",
       "    </tr>\n",
       "    <tr>\n",
       "      <td>4</td>\n",
       "      <td>16</td>\n",
       "      <td>gqp7ra</td>\n",
       "      <td>SuggestALaptop</td>\n",
       "      <td>30</td>\n",
       "      <td>2020/05/26 19:15:01</td>\n",
       "      <td>Alienware M15 vs Lenovo Y740?</td>\n",
       "      <td>Any thoughts on which is potentially better? T...</td>\n",
       "      <td>Evening</td>\n",
       "    </tr>\n",
       "  </tbody>\n",
       "</table>\n",
       "</div>"
      ],
      "text/plain": [
       "   SCORE      ID       SUBREDDIT  NUM_COMMENTS            TIMESTAMP  \\\n",
       "0     45  g94qma  SuggestALaptop             0  2020/04/28 09:06:12   \n",
       "1     42  ekkvox  SuggestALaptop             2  2020/01/06 15:23:07   \n",
       "2     16  gqt1pd  SuggestALaptop            15  2020/05/27 00:20:20   \n",
       "3      5  gqv6vt  SuggestALaptop             1  2020/05/27 03:22:56   \n",
       "4     16  gqp7ra  SuggestALaptop            30  2020/05/26 19:15:01   \n",
       "\n",
       "                                           NEW_TITLE  \\\n",
       "0         Ignore Private Messages Suggesting Laptops   \n",
       "1  SuggestALaptop Stress Test Project! Submit and...   \n",
       "2  I need a laptop for gaming coding video editin...   \n",
       "3                           So I can't buy this yet?   \n",
       "4                      Alienware M15 vs Lenovo Y740?   \n",
       "\n",
       "                                            NEW_BODY TIME_OF_DAY  \n",
       "0  The primary aim of SuggestALaptop is to provid...     Morning  \n",
       "1  Laptops this gen often have thermal or TDP thr...   Afternoon  \n",
       "2  LAPTOP QUESTIONNAIRE x200B Total budget in loc...       Night  \n",
       "3  If I can buy it where do I find it? Total budg...       Night  \n",
       "4  Any thoughts on which is potentially better? T...     Evening  "
      ]
     },
     "execution_count": 206,
     "metadata": {},
     "output_type": "execute_result"
    }
   ],
   "source": [
    "reddit = pd.read_csv('new_reddit.csv', encoding='utf-8-sig')\n",
    "reddit['NEW_BODY']= reddit['NEW_BODY'].astype(str)\n",
    "print(reddit.shape)\n",
    "reddit.head()"
   ]
  },
  {
   "cell_type": "code",
   "execution_count": 207,
   "metadata": {},
   "outputs": [],
   "source": [
    "sentiments = []\n",
    "for line in reddit.NEW_TITLE:\n",
    "    pol_score = analyser.polarity_scores(line)\n",
    "    pol_score['NEW_TITLE'] = line\n",
    "    sentiments.append(pol_score)"
   ]
  },
  {
   "cell_type": "code",
   "execution_count": 208,
   "metadata": {},
   "outputs": [
    {
     "data": {
      "text/html": [
       "<div>\n",
       "<style scoped>\n",
       "    .dataframe tbody tr th:only-of-type {\n",
       "        vertical-align: middle;\n",
       "    }\n",
       "\n",
       "    .dataframe tbody tr th {\n",
       "        vertical-align: top;\n",
       "    }\n",
       "\n",
       "    .dataframe thead th {\n",
       "        text-align: right;\n",
       "    }\n",
       "</style>\n",
       "<table border=\"1\" class=\"dataframe\">\n",
       "  <thead>\n",
       "    <tr style=\"text-align: right;\">\n",
       "      <th></th>\n",
       "      <th>neg</th>\n",
       "      <th>neu</th>\n",
       "      <th>pos</th>\n",
       "      <th>compound</th>\n",
       "      <th>reddit_title</th>\n",
       "    </tr>\n",
       "  </thead>\n",
       "  <tbody>\n",
       "    <tr>\n",
       "      <td>0</td>\n",
       "      <td>0.385</td>\n",
       "      <td>0.615</td>\n",
       "      <td>0.0</td>\n",
       "      <td>-0.3612</td>\n",
       "      <td>Ignore Private Messages Suggesting Laptops</td>\n",
       "    </tr>\n",
       "    <tr>\n",
       "      <td>1</td>\n",
       "      <td>0.297</td>\n",
       "      <td>0.703</td>\n",
       "      <td>0.0</td>\n",
       "      <td>-0.5242</td>\n",
       "      <td>SuggestALaptop Stress Test Project! Submit and...</td>\n",
       "    </tr>\n",
       "    <tr>\n",
       "      <td>2</td>\n",
       "      <td>0.000</td>\n",
       "      <td>1.000</td>\n",
       "      <td>0.0</td>\n",
       "      <td>0.0000</td>\n",
       "      <td>I need a laptop for gaming coding video editin...</td>\n",
       "    </tr>\n",
       "    <tr>\n",
       "      <td>3</td>\n",
       "      <td>0.000</td>\n",
       "      <td>1.000</td>\n",
       "      <td>0.0</td>\n",
       "      <td>0.0000</td>\n",
       "      <td>So I can't buy this yet?</td>\n",
       "    </tr>\n",
       "    <tr>\n",
       "      <td>4</td>\n",
       "      <td>0.000</td>\n",
       "      <td>1.000</td>\n",
       "      <td>0.0</td>\n",
       "      <td>0.0000</td>\n",
       "      <td>Alienware M15 vs Lenovo Y740?</td>\n",
       "    </tr>\n",
       "  </tbody>\n",
       "</table>\n",
       "</div>"
      ],
      "text/plain": [
       "     neg    neu  pos  compound  \\\n",
       "0  0.385  0.615  0.0   -0.3612   \n",
       "1  0.297  0.703  0.0   -0.5242   \n",
       "2  0.000  1.000  0.0    0.0000   \n",
       "3  0.000  1.000  0.0    0.0000   \n",
       "4  0.000  1.000  0.0    0.0000   \n",
       "\n",
       "                                        reddit_title  \n",
       "0         Ignore Private Messages Suggesting Laptops  \n",
       "1  SuggestALaptop Stress Test Project! Submit and...  \n",
       "2  I need a laptop for gaming coding video editin...  \n",
       "3                           So I can't buy this yet?  \n",
       "4                      Alienware M15 vs Lenovo Y740?  "
      ]
     },
     "execution_count": 208,
     "metadata": {},
     "output_type": "execute_result"
    }
   ],
   "source": [
    "df_title_sentiments = pd.DataFrame.from_records(sentiments)\n",
    "df_title_sentiments.rename(columns = {'NEW_TITLE':'reddit_title'}, inplace = True)\n",
    "df_title_sentiments.head()"
   ]
  },
  {
   "cell_type": "code",
   "execution_count": 209,
   "metadata": {
    "scrolled": true
   },
   "outputs": [
    {
     "name": "stdout",
     "output_type": "stream",
     "text": [
      "(5979, 6)\n"
     ]
    },
    {
     "data": {
      "text/html": [
       "<div>\n",
       "<style scoped>\n",
       "    .dataframe tbody tr th:only-of-type {\n",
       "        vertical-align: middle;\n",
       "    }\n",
       "\n",
       "    .dataframe tbody tr th {\n",
       "        vertical-align: top;\n",
       "    }\n",
       "\n",
       "    .dataframe thead th {\n",
       "        text-align: right;\n",
       "    }\n",
       "</style>\n",
       "<table border=\"1\" class=\"dataframe\">\n",
       "  <thead>\n",
       "    <tr style=\"text-align: right;\">\n",
       "      <th></th>\n",
       "      <th>neg</th>\n",
       "      <th>neu</th>\n",
       "      <th>pos</th>\n",
       "      <th>compound</th>\n",
       "      <th>reddit_title</th>\n",
       "      <th>sentiments</th>\n",
       "    </tr>\n",
       "  </thead>\n",
       "  <tbody>\n",
       "    <tr>\n",
       "      <td>0</td>\n",
       "      <td>0.385</td>\n",
       "      <td>0.615</td>\n",
       "      <td>0.0</td>\n",
       "      <td>-0.3612</td>\n",
       "      <td>Ignore Private Messages Suggesting Laptops</td>\n",
       "      <td>-1</td>\n",
       "    </tr>\n",
       "    <tr>\n",
       "      <td>1</td>\n",
       "      <td>0.297</td>\n",
       "      <td>0.703</td>\n",
       "      <td>0.0</td>\n",
       "      <td>-0.5242</td>\n",
       "      <td>SuggestALaptop Stress Test Project! Submit and...</td>\n",
       "      <td>-1</td>\n",
       "    </tr>\n",
       "    <tr>\n",
       "      <td>2</td>\n",
       "      <td>0.000</td>\n",
       "      <td>1.000</td>\n",
       "      <td>0.0</td>\n",
       "      <td>0.0000</td>\n",
       "      <td>I need a laptop for gaming coding video editin...</td>\n",
       "      <td>0</td>\n",
       "    </tr>\n",
       "    <tr>\n",
       "      <td>3</td>\n",
       "      <td>0.000</td>\n",
       "      <td>1.000</td>\n",
       "      <td>0.0</td>\n",
       "      <td>0.0000</td>\n",
       "      <td>So I can't buy this yet?</td>\n",
       "      <td>0</td>\n",
       "    </tr>\n",
       "    <tr>\n",
       "      <td>4</td>\n",
       "      <td>0.000</td>\n",
       "      <td>1.000</td>\n",
       "      <td>0.0</td>\n",
       "      <td>0.0000</td>\n",
       "      <td>Alienware M15 vs Lenovo Y740?</td>\n",
       "      <td>0</td>\n",
       "    </tr>\n",
       "  </tbody>\n",
       "</table>\n",
       "</div>"
      ],
      "text/plain": [
       "     neg    neu  pos  compound  \\\n",
       "0  0.385  0.615  0.0   -0.3612   \n",
       "1  0.297  0.703  0.0   -0.5242   \n",
       "2  0.000  1.000  0.0    0.0000   \n",
       "3  0.000  1.000  0.0    0.0000   \n",
       "4  0.000  1.000  0.0    0.0000   \n",
       "\n",
       "                                        reddit_title  sentiments  \n",
       "0         Ignore Private Messages Suggesting Laptops          -1  \n",
       "1  SuggestALaptop Stress Test Project! Submit and...          -1  \n",
       "2  I need a laptop for gaming coding video editin...           0  \n",
       "3                           So I can't buy this yet?           0  \n",
       "4                      Alienware M15 vs Lenovo Y740?           0  "
      ]
     },
     "execution_count": 209,
     "metadata": {},
     "output_type": "execute_result"
    }
   ],
   "source": [
    "df_title_sentiments['sentiments'] = 0\n",
    "df_title_sentiments.loc[df_title_sentiments['compound'] > 0.05, 'sentiments'] = 1\n",
    "df_title_sentiments.loc[df_title_sentiments['compound'] < -0.05, 'sentiments'] = -1\n",
    "print(df_title_sentiments.shape)\n",
    "df_title_sentiments.head()"
   ]
  },
  {
   "cell_type": "code",
   "execution_count": 210,
   "metadata": {
    "scrolled": true
   },
   "outputs": [
    {
     "data": {
      "image/png": "[encoded data removed]",
      "text/plain": [
       "<Figure size 576x576 with 1 Axes>"
      ]
     },
     "metadata": {
      "needs_background": "light"
     },
     "output_type": "display_data"
    }
   ],
   "source": [
    "fig, ax = plt.subplots(figsize=(8, 8))\n",
    "\n",
    "counts = df_title_sentiments.sentiments.value_counts(normalize=True) * 100\n",
    "\n",
    "sns.barplot(x=counts.index, y=counts, ax=ax)\n",
    "\n",
    "ax.set_xticklabels(['Negative', 'Neutral', 'Positive'])\n",
    "ax.set_ylabel(\"Percentage\")\n",
    "\n",
    "plt.show()"
   ]
  },
  {
   "cell_type": "code",
   "execution_count": 211,
   "metadata": {},
   "outputs": [
    {
     "name": "stdout",
     "output_type": "stream",
     "text": [
      "(5979, 13)\n"
     ]
    },
    {
     "data": {
      "text/html": [
       "<div>\n",
       "<style scoped>\n",
       "    .dataframe tbody tr th:only-of-type {\n",
       "        vertical-align: middle;\n",
       "    }\n",
       "\n",
       "    .dataframe tbody tr th {\n",
       "        vertical-align: top;\n",
       "    }\n",
       "\n",
       "    .dataframe thead th {\n",
       "        text-align: right;\n",
       "    }\n",
       "</style>\n",
       "<table border=\"1\" class=\"dataframe\">\n",
       "  <thead>\n",
       "    <tr style=\"text-align: right;\">\n",
       "      <th></th>\n",
       "      <th>SCORE</th>\n",
       "      <th>ID</th>\n",
       "      <th>SUBREDDIT</th>\n",
       "      <th>NUM_COMMENTS</th>\n",
       "      <th>TIMESTAMP</th>\n",
       "      <th>NEW_TITLE</th>\n",
       "      <th>NEW_BODY</th>\n",
       "      <th>TIME_OF_DAY</th>\n",
       "      <th>NEG_TITLE</th>\n",
       "      <th>NEU_TITLE</th>\n",
       "      <th>POS_TITLE</th>\n",
       "      <th>COMPOUND_TITLE</th>\n",
       "      <th>SENTIMENTS_TITLE</th>\n",
       "    </tr>\n",
       "  </thead>\n",
       "  <tbody>\n",
       "    <tr>\n",
       "      <td>0</td>\n",
       "      <td>45</td>\n",
       "      <td>g94qma</td>\n",
       "      <td>SuggestALaptop</td>\n",
       "      <td>0</td>\n",
       "      <td>2020/04/28 09:06:12</td>\n",
       "      <td>Ignore Private Messages Suggesting Laptops</td>\n",
       "      <td>The primary aim of SuggestALaptop is to provid...</td>\n",
       "      <td>Morning</td>\n",
       "      <td>0.385</td>\n",
       "      <td>0.615</td>\n",
       "      <td>0.0</td>\n",
       "      <td>-0.3612</td>\n",
       "      <td>-1</td>\n",
       "    </tr>\n",
       "    <tr>\n",
       "      <td>1</td>\n",
       "      <td>42</td>\n",
       "      <td>ekkvox</td>\n",
       "      <td>SuggestALaptop</td>\n",
       "      <td>2</td>\n",
       "      <td>2020/01/06 15:23:07</td>\n",
       "      <td>SuggestALaptop Stress Test Project! Submit and...</td>\n",
       "      <td>Laptops this gen often have thermal or TDP thr...</td>\n",
       "      <td>Afternoon</td>\n",
       "      <td>0.297</td>\n",
       "      <td>0.703</td>\n",
       "      <td>0.0</td>\n",
       "      <td>-0.5242</td>\n",
       "      <td>-1</td>\n",
       "    </tr>\n",
       "    <tr>\n",
       "      <td>2</td>\n",
       "      <td>16</td>\n",
       "      <td>gqt1pd</td>\n",
       "      <td>SuggestALaptop</td>\n",
       "      <td>15</td>\n",
       "      <td>2020/05/27 00:20:20</td>\n",
       "      <td>I need a laptop for gaming coding video editin...</td>\n",
       "      <td>LAPTOP QUESTIONNAIRE x200B Total budget in loc...</td>\n",
       "      <td>Night</td>\n",
       "      <td>0.000</td>\n",
       "      <td>1.000</td>\n",
       "      <td>0.0</td>\n",
       "      <td>0.0000</td>\n",
       "      <td>0</td>\n",
       "    </tr>\n",
       "    <tr>\n",
       "      <td>3</td>\n",
       "      <td>5</td>\n",
       "      <td>gqv6vt</td>\n",
       "      <td>SuggestALaptop</td>\n",
       "      <td>1</td>\n",
       "      <td>2020/05/27 03:22:56</td>\n",
       "      <td>So I can't buy this yet?</td>\n",
       "      <td>If I can buy it where do I find it? Total budg...</td>\n",
       "      <td>Night</td>\n",
       "      <td>0.000</td>\n",
       "      <td>1.000</td>\n",
       "      <td>0.0</td>\n",
       "      <td>0.0000</td>\n",
       "      <td>0</td>\n",
       "    </tr>\n",
       "    <tr>\n",
       "      <td>4</td>\n",
       "      <td>16</td>\n",
       "      <td>gqp7ra</td>\n",
       "      <td>SuggestALaptop</td>\n",
       "      <td>30</td>\n",
       "      <td>2020/05/26 19:15:01</td>\n",
       "      <td>Alienware M15 vs Lenovo Y740?</td>\n",
       "      <td>Any thoughts on which is potentially better? T...</td>\n",
       "      <td>Evening</td>\n",
       "      <td>0.000</td>\n",
       "      <td>1.000</td>\n",
       "      <td>0.0</td>\n",
       "      <td>0.0000</td>\n",
       "      <td>0</td>\n",
       "    </tr>\n",
       "  </tbody>\n",
       "</table>\n",
       "</div>"
      ],
      "text/plain": [
       "   SCORE      ID       SUBREDDIT  NUM_COMMENTS            TIMESTAMP  \\\n",
       "0     45  g94qma  SuggestALaptop             0  2020/04/28 09:06:12   \n",
       "1     42  ekkvox  SuggestALaptop             2  2020/01/06 15:23:07   \n",
       "2     16  gqt1pd  SuggestALaptop            15  2020/05/27 00:20:20   \n",
       "3      5  gqv6vt  SuggestALaptop             1  2020/05/27 03:22:56   \n",
       "4     16  gqp7ra  SuggestALaptop            30  2020/05/26 19:15:01   \n",
       "\n",
       "                                           NEW_TITLE  \\\n",
       "0         Ignore Private Messages Suggesting Laptops   \n",
       "1  SuggestALaptop Stress Test Project! Submit and...   \n",
       "2  I need a laptop for gaming coding video editin...   \n",
       "3                           So I can't buy this yet?   \n",
       "4                      Alienware M15 vs Lenovo Y740?   \n",
       "\n",
       "                                            NEW_BODY TIME_OF_DAY  NEG_TITLE  \\\n",
       "0  The primary aim of SuggestALaptop is to provid...     Morning      0.385   \n",
       "1  Laptops this gen often have thermal or TDP thr...   Afternoon      0.297   \n",
       "2  LAPTOP QUESTIONNAIRE x200B Total budget in loc...       Night      0.000   \n",
       "3  If I can buy it where do I find it? Total budg...       Night      0.000   \n",
       "4  Any thoughts on which is potentially better? T...     Evening      0.000   \n",
       "\n",
       "   NEU_TITLE  POS_TITLE  COMPOUND_TITLE  SENTIMENTS_TITLE  \n",
       "0      0.615        0.0         -0.3612                -1  \n",
       "1      0.703        0.0         -0.5242                -1  \n",
       "2      1.000        0.0          0.0000                 0  \n",
       "3      1.000        0.0          0.0000                 0  \n",
       "4      1.000        0.0          0.0000                 0  "
      ]
     },
     "execution_count": 211,
     "metadata": {},
     "output_type": "execute_result"
    }
   ],
   "source": [
    "#append to original dataframe\n",
    "reddit.reset_index(drop=True, inplace=True)\n",
    "df_title_sentiments.reset_index(drop=True, inplace=True)\n",
    "df_redditSentiments = pd.concat([reddit, df_title_sentiments], axis=1)\n",
    "#drop unnecessary column\n",
    "df_redditSentiments = df_redditSentiments.drop([\"reddit_title\"], axis=1)\n",
    "#change column names\n",
    "df_redditSentiments.rename(columns = {'neg':'NEG_TITLE'}, inplace = True)\n",
    "df_redditSentiments.rename(columns = {'neu':'NEU_TITLE'}, inplace = True)\n",
    "df_redditSentiments.rename(columns = {'pos':'POS_TITLE'}, inplace = True)\n",
    "df_redditSentiments.rename(columns = {'compound':'COMPOUND_TITLE'}, inplace = True)\n",
    "df_redditSentiments.rename(columns = {'sentiments':'SENTIMENTS_TITLE'}, inplace = True)\n",
    "print(df_redditSentiments.shape)\n",
    "df_redditSentiments.head()"
   ]
  },
  {
   "cell_type": "markdown",
   "metadata": {},
   "source": [
    "## 1.2 Texts of subreddits posts"
   ]
  },
  {
   "cell_type": "code",
   "execution_count": 212,
   "metadata": {},
   "outputs": [],
   "source": [
    "sentiments_2 = []\n",
    "for line in reddit.NEW_BODY:\n",
    "    pol_score = analyser.polarity_scores(line)\n",
    "    pol_score['NEW_BODY'] = line\n",
    "    sentiments_2.append(pol_score)"
   ]
  },
  {
   "cell_type": "code",
   "execution_count": 213,
   "metadata": {},
   "outputs": [
    {
     "data": {
      "text/html": [
       "<div>\n",
       "<style scoped>\n",
       "    .dataframe tbody tr th:only-of-type {\n",
       "        vertical-align: middle;\n",
       "    }\n",
       "\n",
       "    .dataframe tbody tr th {\n",
       "        vertical-align: top;\n",
       "    }\n",
       "\n",
       "    .dataframe thead th {\n",
       "        text-align: right;\n",
       "    }\n",
       "</style>\n",
       "<table border=\"1\" class=\"dataframe\">\n",
       "  <thead>\n",
       "    <tr style=\"text-align: right;\">\n",
       "      <th></th>\n",
       "      <th>neg</th>\n",
       "      <th>neu</th>\n",
       "      <th>pos</th>\n",
       "      <th>compound</th>\n",
       "      <th>reddit_texts</th>\n",
       "    </tr>\n",
       "  </thead>\n",
       "  <tbody>\n",
       "    <tr>\n",
       "      <td>0</td>\n",
       "      <td>0.069</td>\n",
       "      <td>0.829</td>\n",
       "      <td>0.102</td>\n",
       "      <td>0.8062</td>\n",
       "      <td>The primary aim of SuggestALaptop is to provid...</td>\n",
       "    </tr>\n",
       "    <tr>\n",
       "      <td>1</td>\n",
       "      <td>0.011</td>\n",
       "      <td>0.844</td>\n",
       "      <td>0.145</td>\n",
       "      <td>0.9575</td>\n",
       "      <td>Laptops this gen often have thermal or TDP thr...</td>\n",
       "    </tr>\n",
       "    <tr>\n",
       "      <td>2</td>\n",
       "      <td>0.014</td>\n",
       "      <td>0.813</td>\n",
       "      <td>0.172</td>\n",
       "      <td>0.9895</td>\n",
       "      <td>LAPTOP QUESTIONNAIRE x200B Total budget in loc...</td>\n",
       "    </tr>\n",
       "    <tr>\n",
       "      <td>3</td>\n",
       "      <td>0.046</td>\n",
       "      <td>0.787</td>\n",
       "      <td>0.167</td>\n",
       "      <td>0.9628</td>\n",
       "      <td>If I can buy it where do I find it? Total budg...</td>\n",
       "    </tr>\n",
       "    <tr>\n",
       "      <td>4</td>\n",
       "      <td>0.000</td>\n",
       "      <td>0.907</td>\n",
       "      <td>0.093</td>\n",
       "      <td>0.8641</td>\n",
       "      <td>Any thoughts on which is potentially better? T...</td>\n",
       "    </tr>\n",
       "  </tbody>\n",
       "</table>\n",
       "</div>"
      ],
      "text/plain": [
       "     neg    neu    pos  compound  \\\n",
       "0  0.069  0.829  0.102    0.8062   \n",
       "1  0.011  0.844  0.145    0.9575   \n",
       "2  0.014  0.813  0.172    0.9895   \n",
       "3  0.046  0.787  0.167    0.9628   \n",
       "4  0.000  0.907  0.093    0.8641   \n",
       "\n",
       "                                        reddit_texts  \n",
       "0  The primary aim of SuggestALaptop is to provid...  \n",
       "1  Laptops this gen often have thermal or TDP thr...  \n",
       "2  LAPTOP QUESTIONNAIRE x200B Total budget in loc...  \n",
       "3  If I can buy it where do I find it? Total budg...  \n",
       "4  Any thoughts on which is potentially better? T...  "
      ]
     },
     "execution_count": 213,
     "metadata": {},
     "output_type": "execute_result"
    }
   ],
   "source": [
    "df_body_sentiments = pd.DataFrame.from_records(sentiments_2)\n",
    "df_body_sentiments.rename(columns = {'NEW_BODY':'reddit_texts'}, inplace = True)\n",
    "df_body_sentiments.head()"
   ]
  },
  {
   "cell_type": "code",
   "execution_count": 214,
   "metadata": {
    "scrolled": true
   },
   "outputs": [
    {
     "name": "stdout",
     "output_type": "stream",
     "text": [
      "(5979, 6)\n"
     ]
    },
    {
     "data": {
      "text/html": [
       "<div>\n",
       "<style scoped>\n",
       "    .dataframe tbody tr th:only-of-type {\n",
       "        vertical-align: middle;\n",
       "    }\n",
       "\n",
       "    .dataframe tbody tr th {\n",
       "        vertical-align: top;\n",
       "    }\n",
       "\n",
       "    .dataframe thead th {\n",
       "        text-align: right;\n",
       "    }\n",
       "</style>\n",
       "<table border=\"1\" class=\"dataframe\">\n",
       "  <thead>\n",
       "    <tr style=\"text-align: right;\">\n",
       "      <th></th>\n",
       "      <th>neg</th>\n",
       "      <th>neu</th>\n",
       "      <th>pos</th>\n",
       "      <th>compound</th>\n",
       "      <th>reddit_texts</th>\n",
       "      <th>sentiments</th>\n",
       "    </tr>\n",
       "  </thead>\n",
       "  <tbody>\n",
       "    <tr>\n",
       "      <td>0</td>\n",
       "      <td>0.069</td>\n",
       "      <td>0.829</td>\n",
       "      <td>0.102</td>\n",
       "      <td>0.8062</td>\n",
       "      <td>The primary aim of SuggestALaptop is to provid...</td>\n",
       "      <td>1</td>\n",
       "    </tr>\n",
       "    <tr>\n",
       "      <td>1</td>\n",
       "      <td>0.011</td>\n",
       "      <td>0.844</td>\n",
       "      <td>0.145</td>\n",
       "      <td>0.9575</td>\n",
       "      <td>Laptops this gen often have thermal or TDP thr...</td>\n",
       "      <td>1</td>\n",
       "    </tr>\n",
       "    <tr>\n",
       "      <td>2</td>\n",
       "      <td>0.014</td>\n",
       "      <td>0.813</td>\n",
       "      <td>0.172</td>\n",
       "      <td>0.9895</td>\n",
       "      <td>LAPTOP QUESTIONNAIRE x200B Total budget in loc...</td>\n",
       "      <td>1</td>\n",
       "    </tr>\n",
       "    <tr>\n",
       "      <td>3</td>\n",
       "      <td>0.046</td>\n",
       "      <td>0.787</td>\n",
       "      <td>0.167</td>\n",
       "      <td>0.9628</td>\n",
       "      <td>If I can buy it where do I find it? Total budg...</td>\n",
       "      <td>1</td>\n",
       "    </tr>\n",
       "    <tr>\n",
       "      <td>4</td>\n",
       "      <td>0.000</td>\n",
       "      <td>0.907</td>\n",
       "      <td>0.093</td>\n",
       "      <td>0.8641</td>\n",
       "      <td>Any thoughts on which is potentially better? T...</td>\n",
       "      <td>1</td>\n",
       "    </tr>\n",
       "  </tbody>\n",
       "</table>\n",
       "</div>"
      ],
      "text/plain": [
       "     neg    neu    pos  compound  \\\n",
       "0  0.069  0.829  0.102    0.8062   \n",
       "1  0.011  0.844  0.145    0.9575   \n",
       "2  0.014  0.813  0.172    0.9895   \n",
       "3  0.046  0.787  0.167    0.9628   \n",
       "4  0.000  0.907  0.093    0.8641   \n",
       "\n",
       "                                        reddit_texts  sentiments  \n",
       "0  The primary aim of SuggestALaptop is to provid...           1  \n",
       "1  Laptops this gen often have thermal or TDP thr...           1  \n",
       "2  LAPTOP QUESTIONNAIRE x200B Total budget in loc...           1  \n",
       "3  If I can buy it where do I find it? Total budg...           1  \n",
       "4  Any thoughts on which is potentially better? T...           1  "
      ]
     },
     "execution_count": 214,
     "metadata": {},
     "output_type": "execute_result"
    }
   ],
   "source": [
    "df_body_sentiments['sentiments'] = 0\n",
    "df_body_sentiments.loc[df_body_sentiments['compound'] > 0.05, 'sentiments'] = 1\n",
    "df_body_sentiments.loc[df_body_sentiments['compound'] < -0.05, 'sentiments'] = -1\n",
    "print(df_body_sentiments.shape)\n",
    "df_body_sentiments.head()"
   ]
  },
  {
   "cell_type": "code",
   "execution_count": null,
   "metadata": {
    "scrolled": false
   },
   "outputs": [],
   "source": [
    "fig, ax = plt.subplots(figsize=(8, 8))\n",
    "\n",
    "counts = df_body_sentiments.sentiments.value_counts(normalize=True) * 100\n",
    "\n",
    "sns.barplot(x=counts.index, y=counts, ax=ax)\n",
    "\n",
    "ax.set_xticklabels(['Negative', 'Neutral', 'Positive'])\n",
    "ax.set_ylabel(\"Percentage\")\n",
    "\n",
    "plt.show()"
   ]
  },
  {
   "cell_type": "code",
   "execution_count": null,
   "metadata": {},
   "outputs": [],
   "source": [
    "#append to original dataframe\n",
    "df_redditSentiments.reset_index(drop=True, inplace=True)\n",
    "df_body_sentiments.reset_index(drop=True, inplace=True)\n",
    "reddit_sentiments = pd.concat([df_redditSentiments, df_body_sentiments], axis=1)\n",
    "#drop unnecessary column\n",
    "reddit_sentiments = reddit_sentiments.drop([\"reddit_texts\"], axis=1)\n",
    "#change column names\n",
    "reddit_sentiments.rename(columns = {'neg':'NEG_BODY'}, inplace = True)\n",
    "reddit_sentiments.rename(columns = {'neu':'NEU_BODY'}, inplace = True)\n",
    "reddit_sentiments.rename(columns = {'pos':'POS_BODY'}, inplace = True)\n",
    "reddit_sentiments.rename(columns = {'compound':'COMPOUND_BODY'}, inplace = True)\n",
    "reddit_sentiments.rename(columns = {'sentiments':'SENTIMENTS_BODY'}, inplace = True)\n",
    "print(reddit_sentiments.head(3))\n",
    "#save the dataframe as csv file\n",
    "reddit_sentiments.to_csv('reddit_sentiments.csv', index = False, header=True, encoding='utf-8-sig')"
   ]
  },
  {
   "cell_type": "markdown",
   "metadata": {},
   "source": [
    "# 2. Comments under Subreddits Data"
   ]
  },
  {
   "cell_type": "code",
   "execution_count": null,
   "metadata": {
    "scrolled": true
   },
   "outputs": [],
   "source": [
    "comments = pd.read_csv('new_comments.csv', encoding='utf-8-sig')\n",
    "comments.head()"
   ]
  },
  {
   "cell_type": "code",
   "execution_count": null,
   "metadata": {},
   "outputs": [],
   "source": [
    "sentiments_3 = []\n",
    "for line in comments.NEW_COMMENTS:\n",
    "    pol_score = analyser.polarity_scores(line)\n",
    "    pol_score['NEW_COMMENTS'] = line\n",
    "    sentiments_3.append(pol_score)"
   ]
  },
  {
   "cell_type": "code",
   "execution_count": null,
   "metadata": {},
   "outputs": [],
   "source": [
    "df_comments_sentiments = pd.DataFrame.from_records(sentiments_3)\n",
    "df_comments_sentiments.rename(columns = {'NEW_COMMENTS':'reddit_comments'}, inplace = True)\n",
    "df_comments_sentiments.head()"
   ]
  },
  {
   "cell_type": "code",
   "execution_count": null,
   "metadata": {
    "scrolled": true
   },
   "outputs": [],
   "source": [
    "df_comments_sentiments['sentiments'] = 0\n",
    "df_comments_sentiments.loc[df_comments_sentiments['compound'] > 0.05, 'sentiments'] = 1\n",
    "df_comments_sentiments.loc[df_comments_sentiments['compound'] < -0.05, 'sentiments'] = -1\n",
    "print(df_comments_sentiments.shape)\n",
    "df_comments_sentiments.head()"
   ]
  },
  {
   "cell_type": "code",
   "execution_count": null,
   "metadata": {
    "scrolled": true
   },
   "outputs": [],
   "source": [
    "fig, ax = plt.subplots(figsize=(8, 8))\n",
    "\n",
    "counts = df_comments_sentiments.sentiments.value_counts(normalize=True) * 100\n",
    "\n",
    "sns.barplot(x=counts.index, y=counts, ax=ax)\n",
    "\n",
    "ax.set_xticklabels(['Negative', 'Neutral', 'Positive'])\n",
    "ax.set_ylabel(\"Percentage\")\n",
    "\n",
    "plt.show()"
   ]
  },
  {
   "cell_type": "code",
   "execution_count": null,
   "metadata": {},
   "outputs": [],
   "source": [
    "#append to original dataframe\n",
    "comments.reset_index(drop=True, inplace=True)\n",
    "df_comments_sentiments.reset_index(drop=True, inplace=True)\n",
    "comments_sentiments = pd.concat([comments, df_comments_sentiments], axis=1)\n",
    "#drop unnecessary column\n",
    "comments_sentiments = comments_sentiments.drop([\"reddit_comments\"], axis=1)\n",
    "#save the dataframe as csv file\n",
    "comments_sentiments.to_csv('comments_sentiments.csv', index = False, header=True, encoding='utf-8-sig')"
   ]
  },
  {
   "cell_type": "code",
   "execution_count": null,
   "metadata": {},
   "outputs": [],
   "source": []
  }
 ],
 "metadata": {
  "kernelspec": {
   "display_name": "Python 3",
   "language": "python",
   "name": "python3"
  },
  "language_info": {
   "codemirror_mode": {
    "name": "ipython",
    "version": 3
   },
   "file_extension": ".py",
   "mimetype": "text/x-python",
   "name": "python",
   "nbconvert_exporter": "python",
   "pygments_lexer": "ipython3",
   "version": "3.7.4"
  }
 },
 "nbformat": 4,
 "nbformat_minor": 2
}
